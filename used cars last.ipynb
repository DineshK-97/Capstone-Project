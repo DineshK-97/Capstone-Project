{
 "cells": [
  {
   "cell_type": "markdown",
   "id": "9eba3d89",
   "metadata": {},
   "source": [
    "### Importing the necessary Libraries"
   ]
  },
  {
   "cell_type": "code",
   "execution_count": 1,
   "id": "89a23e1c",
   "metadata": {},
   "outputs": [],
   "source": [
    "import pandas as pd\n",
    "import numpy as np\n",
    "import seaborn as sns\n",
    "from warnings import filterwarnings\n",
    "filterwarnings('ignore')\n",
    "\n",
    "import matplotlib.pyplot as plt\n",
    "import scipy\n",
    "from scipy import stats\n",
    "from sklearn.model_selection import train_test_split\n",
    "from sklearn.linear_model import LinearRegression"
   ]
  },
  {
   "cell_type": "markdown",
   "id": "03fd1fe1",
   "metadata": {},
   "source": [
    "### Features of the Dataset\n",
    "\n",
    "* dateCrawled: Date the car advertisement was crawled. (Date)\n",
    "* name: Name of the car. (String)\n",
    "* seller: Type of seller (private or dealer). (String)\n",
    "* offerType: Type of offer (e.g. sale, repair, etc.). (String)\n",
    "* price: Price of the car. (Integer)\n",
    "* abtest: Test type (A or B). (String)\n",
    "* vehicleType: Type of vehicle (e.g. SUV, sedan, etc.). (String)\n",
    "* yearOfRegistration: Year the car was registered. (Integer)\n",
    "* gearbox: Type of gearbox (manual or automatic). (String)\n",
    "* powerPS: Power of the car in PS. (Integer)\n",
    "* model: Model of the car. (String)\n",
    "* kilometer: Kilometers the car has been driven. (Integer)\n",
    "* monthOfRegistration: Month the car was registered. (Integer)\n",
    "* fuelType: Type of fuel (e.g. diesel, petrol, etc.). (String)\n",
    "* brand: Brand of the car. (String)\n",
    "* notRepairedDamage: Whether or not the car has any damage that has not been repaired. (String)\n",
    "* dateCreated: Date the car  advertisement was created. (Date)\n",
    "* nrOfPictures: Number of pictures of the car. (Integer)\n",
    "* postalCode: Postal code of the car. (Integer)\n",
    "* lastSeen: Date the car was last seen. (Date)"
   ]
  },
  {
   "cell_type": "code",
   "execution_count": 2,
   "id": "bb44537a",
   "metadata": {},
   "outputs": [
    {
     "data": {
      "text/html": [
       "<div>\n",
       "<style scoped>\n",
       "    .dataframe tbody tr th:only-of-type {\n",
       "        vertical-align: middle;\n",
       "    }\n",
       "\n",
       "    .dataframe tbody tr th {\n",
       "        vertical-align: top;\n",
       "    }\n",
       "\n",
       "    .dataframe thead th {\n",
       "        text-align: right;\n",
       "    }\n",
       "</style>\n",
       "<table border=\"1\" class=\"dataframe\">\n",
       "  <thead>\n",
       "    <tr style=\"text-align: right;\">\n",
       "      <th></th>\n",
       "      <th>dateCrawled</th>\n",
       "      <th>name</th>\n",
       "      <th>seller</th>\n",
       "      <th>offerType</th>\n",
       "      <th>price</th>\n",
       "      <th>abtest</th>\n",
       "      <th>vehicleType</th>\n",
       "      <th>yearOfRegistration</th>\n",
       "      <th>gearbox</th>\n",
       "      <th>powerPS</th>\n",
       "      <th>model</th>\n",
       "      <th>kilometer</th>\n",
       "      <th>monthOfRegistration</th>\n",
       "      <th>fuelType</th>\n",
       "      <th>brand</th>\n",
       "      <th>notRepairedDamage</th>\n",
       "      <th>dateCreated</th>\n",
       "      <th>nrOfPictures</th>\n",
       "      <th>postalCode</th>\n",
       "      <th>lastSeen</th>\n",
       "    </tr>\n",
       "    <tr>\n",
       "      <th>index</th>\n",
       "      <th></th>\n",
       "      <th></th>\n",
       "      <th></th>\n",
       "      <th></th>\n",
       "      <th></th>\n",
       "      <th></th>\n",
       "      <th></th>\n",
       "      <th></th>\n",
       "      <th></th>\n",
       "      <th></th>\n",
       "      <th></th>\n",
       "      <th></th>\n",
       "      <th></th>\n",
       "      <th></th>\n",
       "      <th></th>\n",
       "      <th></th>\n",
       "      <th></th>\n",
       "      <th></th>\n",
       "      <th></th>\n",
       "      <th></th>\n",
       "    </tr>\n",
       "  </thead>\n",
       "  <tbody>\n",
       "    <tr>\n",
       "      <th>0</th>\n",
       "      <td>2016-03-24 11:52:17</td>\n",
       "      <td>Golf_3_1.6</td>\n",
       "      <td>privat</td>\n",
       "      <td>Angebot</td>\n",
       "      <td>480</td>\n",
       "      <td>test</td>\n",
       "      <td>NaN</td>\n",
       "      <td>1993</td>\n",
       "      <td>manuell</td>\n",
       "      <td>0</td>\n",
       "      <td>golf</td>\n",
       "      <td>150000</td>\n",
       "      <td>0</td>\n",
       "      <td>benzin</td>\n",
       "      <td>volkswagen</td>\n",
       "      <td>NaN</td>\n",
       "      <td>2016-03-24 00:00:00</td>\n",
       "      <td>0</td>\n",
       "      <td>70435</td>\n",
       "      <td>2016-04-07 03:16:57</td>\n",
       "    </tr>\n",
       "    <tr>\n",
       "      <th>1</th>\n",
       "      <td>2016-03-24 10:58:45</td>\n",
       "      <td>A5_Sportback_2.7_Tdi</td>\n",
       "      <td>privat</td>\n",
       "      <td>Angebot</td>\n",
       "      <td>18300</td>\n",
       "      <td>test</td>\n",
       "      <td>coupe</td>\n",
       "      <td>2011</td>\n",
       "      <td>manuell</td>\n",
       "      <td>190</td>\n",
       "      <td>NaN</td>\n",
       "      <td>125000</td>\n",
       "      <td>5</td>\n",
       "      <td>diesel</td>\n",
       "      <td>audi</td>\n",
       "      <td>ja</td>\n",
       "      <td>2016-03-24 00:00:00</td>\n",
       "      <td>0</td>\n",
       "      <td>66954</td>\n",
       "      <td>2016-04-07 01:46:50</td>\n",
       "    </tr>\n",
       "    <tr>\n",
       "      <th>2</th>\n",
       "      <td>2016-03-14 12:52:21</td>\n",
       "      <td>Jeep_Grand_Cherokee_\"Overland\"</td>\n",
       "      <td>privat</td>\n",
       "      <td>Angebot</td>\n",
       "      <td>9800</td>\n",
       "      <td>test</td>\n",
       "      <td>suv</td>\n",
       "      <td>2004</td>\n",
       "      <td>automatik</td>\n",
       "      <td>163</td>\n",
       "      <td>grand</td>\n",
       "      <td>125000</td>\n",
       "      <td>8</td>\n",
       "      <td>diesel</td>\n",
       "      <td>jeep</td>\n",
       "      <td>NaN</td>\n",
       "      <td>2016-03-14 00:00:00</td>\n",
       "      <td>0</td>\n",
       "      <td>90480</td>\n",
       "      <td>2016-04-05 12:47:46</td>\n",
       "    </tr>\n",
       "    <tr>\n",
       "      <th>3</th>\n",
       "      <td>2016-03-17 16:54:04</td>\n",
       "      <td>GOLF_4_1_4__3TÜRER</td>\n",
       "      <td>privat</td>\n",
       "      <td>Angebot</td>\n",
       "      <td>1500</td>\n",
       "      <td>test</td>\n",
       "      <td>kleinwagen</td>\n",
       "      <td>2001</td>\n",
       "      <td>manuell</td>\n",
       "      <td>75</td>\n",
       "      <td>golf</td>\n",
       "      <td>150000</td>\n",
       "      <td>6</td>\n",
       "      <td>benzin</td>\n",
       "      <td>volkswagen</td>\n",
       "      <td>nein</td>\n",
       "      <td>2016-03-17 00:00:00</td>\n",
       "      <td>0</td>\n",
       "      <td>91074</td>\n",
       "      <td>2016-03-17 17:40:17</td>\n",
       "    </tr>\n",
       "    <tr>\n",
       "      <th>4</th>\n",
       "      <td>2016-03-31 17:25:20</td>\n",
       "      <td>Skoda_Fabia_1.4_TDI_PD_Classic</td>\n",
       "      <td>privat</td>\n",
       "      <td>Angebot</td>\n",
       "      <td>3600</td>\n",
       "      <td>test</td>\n",
       "      <td>kleinwagen</td>\n",
       "      <td>2008</td>\n",
       "      <td>manuell</td>\n",
       "      <td>69</td>\n",
       "      <td>fabia</td>\n",
       "      <td>90000</td>\n",
       "      <td>7</td>\n",
       "      <td>diesel</td>\n",
       "      <td>skoda</td>\n",
       "      <td>nein</td>\n",
       "      <td>2016-03-31 00:00:00</td>\n",
       "      <td>0</td>\n",
       "      <td>60437</td>\n",
       "      <td>2016-04-06 10:17:21</td>\n",
       "    </tr>\n",
       "  </tbody>\n",
       "</table>\n",
       "</div>"
      ],
      "text/plain": [
       "               dateCrawled                            name  seller offerType  \\\n",
       "index                                                                          \n",
       "0      2016-03-24 11:52:17                      Golf_3_1.6  privat   Angebot   \n",
       "1      2016-03-24 10:58:45            A5_Sportback_2.7_Tdi  privat   Angebot   \n",
       "2      2016-03-14 12:52:21  Jeep_Grand_Cherokee_\"Overland\"  privat   Angebot   \n",
       "3      2016-03-17 16:54:04              GOLF_4_1_4__3TÜRER  privat   Angebot   \n",
       "4      2016-03-31 17:25:20  Skoda_Fabia_1.4_TDI_PD_Classic  privat   Angebot   \n",
       "\n",
       "       price abtest vehicleType  yearOfRegistration    gearbox  powerPS  \\\n",
       "index                                                                     \n",
       "0        480   test         NaN                1993    manuell        0   \n",
       "1      18300   test       coupe                2011    manuell      190   \n",
       "2       9800   test         suv                2004  automatik      163   \n",
       "3       1500   test  kleinwagen                2001    manuell       75   \n",
       "4       3600   test  kleinwagen                2008    manuell       69   \n",
       "\n",
       "       model  kilometer  monthOfRegistration fuelType       brand  \\\n",
       "index                                                               \n",
       "0       golf     150000                    0   benzin  volkswagen   \n",
       "1        NaN     125000                    5   diesel        audi   \n",
       "2      grand     125000                    8   diesel        jeep   \n",
       "3       golf     150000                    6   benzin  volkswagen   \n",
       "4      fabia      90000                    7   diesel       skoda   \n",
       "\n",
       "      notRepairedDamage          dateCreated  nrOfPictures  postalCode  \\\n",
       "index                                                                    \n",
       "0                   NaN  2016-03-24 00:00:00             0       70435   \n",
       "1                    ja  2016-03-24 00:00:00             0       66954   \n",
       "2                   NaN  2016-03-14 00:00:00             0       90480   \n",
       "3                  nein  2016-03-17 00:00:00             0       91074   \n",
       "4                  nein  2016-03-31 00:00:00             0       60437   \n",
       "\n",
       "                  lastSeen  \n",
       "index                       \n",
       "0      2016-04-07 03:16:57  \n",
       "1      2016-04-07 01:46:50  \n",
       "2      2016-04-05 12:47:46  \n",
       "3      2016-03-17 17:40:17  \n",
       "4      2016-04-06 10:17:21  "
      ]
     },
     "execution_count": 2,
     "metadata": {},
     "output_type": "execute_result"
    }
   ],
   "source": [
    "# read the dataset using pandas\n",
    "df=pd.read_csv('autos.csv',index_col='index')\n",
    "df.head(5)\n",
    "\n",
    "# to get first 5 columns"
   ]
  },
  {
   "cell_type": "code",
   "execution_count": null,
   "id": "921dfee0",
   "metadata": {},
   "outputs": [],
   "source": []
  },
  {
   "cell_type": "code",
   "execution_count": 3,
   "id": "56417c3e",
   "metadata": {},
   "outputs": [
    {
     "name": "stdout",
     "output_type": "stream",
     "text": [
      "<class 'pandas.core.frame.DataFrame'>\n",
      "Int64Index: 371528 entries, 0 to 371527\n",
      "Data columns (total 20 columns):\n",
      " #   Column               Non-Null Count   Dtype \n",
      "---  ------               --------------   ----- \n",
      " 0   dateCrawled          371528 non-null  object\n",
      " 1   name                 371528 non-null  object\n",
      " 2   seller               371528 non-null  object\n",
      " 3   offerType            371528 non-null  object\n",
      " 4   price                371528 non-null  int64 \n",
      " 5   abtest               371528 non-null  object\n",
      " 6   vehicleType          333659 non-null  object\n",
      " 7   yearOfRegistration   371528 non-null  int64 \n",
      " 8   gearbox              351319 non-null  object\n",
      " 9   powerPS              371528 non-null  int64 \n",
      " 10  model                351044 non-null  object\n",
      " 11  kilometer            371528 non-null  int64 \n",
      " 12  monthOfRegistration  371528 non-null  int64 \n",
      " 13  fuelType             338142 non-null  object\n",
      " 14  brand                371528 non-null  object\n",
      " 15  notRepairedDamage    299468 non-null  object\n",
      " 16  dateCreated          371528 non-null  object\n",
      " 17  nrOfPictures         371528 non-null  int64 \n",
      " 18  postalCode           371528 non-null  int64 \n",
      " 19  lastSeen             371528 non-null  object\n",
      "dtypes: int64(7), object(13)\n",
      "memory usage: 59.5+ MB\n"
     ]
    }
   ],
   "source": [
    "df.info()\n",
    "# datatypes of the variables"
   ]
  },
  {
   "cell_type": "code",
   "execution_count": 4,
   "id": "3cda26eb",
   "metadata": {},
   "outputs": [
    {
     "data": {
      "text/html": [
       "<div>\n",
       "<style scoped>\n",
       "    .dataframe tbody tr th:only-of-type {\n",
       "        vertical-align: middle;\n",
       "    }\n",
       "\n",
       "    .dataframe tbody tr th {\n",
       "        vertical-align: top;\n",
       "    }\n",
       "\n",
       "    .dataframe thead th {\n",
       "        text-align: right;\n",
       "    }\n",
       "</style>\n",
       "<table border=\"1\" class=\"dataframe\">\n",
       "  <thead>\n",
       "    <tr style=\"text-align: right;\">\n",
       "      <th></th>\n",
       "      <th>dateCrawled</th>\n",
       "      <th>name</th>\n",
       "      <th>seller</th>\n",
       "      <th>offerType</th>\n",
       "      <th>abtest</th>\n",
       "      <th>vehicleType</th>\n",
       "      <th>gearbox</th>\n",
       "      <th>model</th>\n",
       "      <th>fuelType</th>\n",
       "      <th>brand</th>\n",
       "      <th>notRepairedDamage</th>\n",
       "      <th>dateCreated</th>\n",
       "      <th>lastSeen</th>\n",
       "    </tr>\n",
       "    <tr>\n",
       "      <th>index</th>\n",
       "      <th></th>\n",
       "      <th></th>\n",
       "      <th></th>\n",
       "      <th></th>\n",
       "      <th></th>\n",
       "      <th></th>\n",
       "      <th></th>\n",
       "      <th></th>\n",
       "      <th></th>\n",
       "      <th></th>\n",
       "      <th></th>\n",
       "      <th></th>\n",
       "      <th></th>\n",
       "    </tr>\n",
       "  </thead>\n",
       "  <tbody>\n",
       "    <tr>\n",
       "      <th>0</th>\n",
       "      <td>2016-03-24 11:52:17</td>\n",
       "      <td>Golf_3_1.6</td>\n",
       "      <td>privat</td>\n",
       "      <td>Angebot</td>\n",
       "      <td>test</td>\n",
       "      <td>NaN</td>\n",
       "      <td>manuell</td>\n",
       "      <td>golf</td>\n",
       "      <td>benzin</td>\n",
       "      <td>volkswagen</td>\n",
       "      <td>NaN</td>\n",
       "      <td>2016-03-24 00:00:00</td>\n",
       "      <td>2016-04-07 03:16:57</td>\n",
       "    </tr>\n",
       "    <tr>\n",
       "      <th>1</th>\n",
       "      <td>2016-03-24 10:58:45</td>\n",
       "      <td>A5_Sportback_2.7_Tdi</td>\n",
       "      <td>privat</td>\n",
       "      <td>Angebot</td>\n",
       "      <td>test</td>\n",
       "      <td>coupe</td>\n",
       "      <td>manuell</td>\n",
       "      <td>NaN</td>\n",
       "      <td>diesel</td>\n",
       "      <td>audi</td>\n",
       "      <td>ja</td>\n",
       "      <td>2016-03-24 00:00:00</td>\n",
       "      <td>2016-04-07 01:46:50</td>\n",
       "    </tr>\n",
       "    <tr>\n",
       "      <th>2</th>\n",
       "      <td>2016-03-14 12:52:21</td>\n",
       "      <td>Jeep_Grand_Cherokee_\"Overland\"</td>\n",
       "      <td>privat</td>\n",
       "      <td>Angebot</td>\n",
       "      <td>test</td>\n",
       "      <td>suv</td>\n",
       "      <td>automatik</td>\n",
       "      <td>grand</td>\n",
       "      <td>diesel</td>\n",
       "      <td>jeep</td>\n",
       "      <td>NaN</td>\n",
       "      <td>2016-03-14 00:00:00</td>\n",
       "      <td>2016-04-05 12:47:46</td>\n",
       "    </tr>\n",
       "    <tr>\n",
       "      <th>3</th>\n",
       "      <td>2016-03-17 16:54:04</td>\n",
       "      <td>GOLF_4_1_4__3TÜRER</td>\n",
       "      <td>privat</td>\n",
       "      <td>Angebot</td>\n",
       "      <td>test</td>\n",
       "      <td>kleinwagen</td>\n",
       "      <td>manuell</td>\n",
       "      <td>golf</td>\n",
       "      <td>benzin</td>\n",
       "      <td>volkswagen</td>\n",
       "      <td>nein</td>\n",
       "      <td>2016-03-17 00:00:00</td>\n",
       "      <td>2016-03-17 17:40:17</td>\n",
       "    </tr>\n",
       "    <tr>\n",
       "      <th>4</th>\n",
       "      <td>2016-03-31 17:25:20</td>\n",
       "      <td>Skoda_Fabia_1.4_TDI_PD_Classic</td>\n",
       "      <td>privat</td>\n",
       "      <td>Angebot</td>\n",
       "      <td>test</td>\n",
       "      <td>kleinwagen</td>\n",
       "      <td>manuell</td>\n",
       "      <td>fabia</td>\n",
       "      <td>diesel</td>\n",
       "      <td>skoda</td>\n",
       "      <td>nein</td>\n",
       "      <td>2016-03-31 00:00:00</td>\n",
       "      <td>2016-04-06 10:17:21</td>\n",
       "    </tr>\n",
       "    <tr>\n",
       "      <th>...</th>\n",
       "      <td>...</td>\n",
       "      <td>...</td>\n",
       "      <td>...</td>\n",
       "      <td>...</td>\n",
       "      <td>...</td>\n",
       "      <td>...</td>\n",
       "      <td>...</td>\n",
       "      <td>...</td>\n",
       "      <td>...</td>\n",
       "      <td>...</td>\n",
       "      <td>...</td>\n",
       "      <td>...</td>\n",
       "      <td>...</td>\n",
       "    </tr>\n",
       "    <tr>\n",
       "      <th>371523</th>\n",
       "      <td>2016-03-14 17:48:27</td>\n",
       "      <td>Suche_t4___vito_ab_6_sitze</td>\n",
       "      <td>privat</td>\n",
       "      <td>Angebot</td>\n",
       "      <td>test</td>\n",
       "      <td>NaN</td>\n",
       "      <td>NaN</td>\n",
       "      <td>NaN</td>\n",
       "      <td>NaN</td>\n",
       "      <td>sonstige_autos</td>\n",
       "      <td>NaN</td>\n",
       "      <td>2016-03-14 00:00:00</td>\n",
       "      <td>2016-04-06 00:46:52</td>\n",
       "    </tr>\n",
       "    <tr>\n",
       "      <th>371524</th>\n",
       "      <td>2016-03-05 19:56:21</td>\n",
       "      <td>Smart_smart_leistungssteigerung_100ps</td>\n",
       "      <td>privat</td>\n",
       "      <td>Angebot</td>\n",
       "      <td>test</td>\n",
       "      <td>cabrio</td>\n",
       "      <td>automatik</td>\n",
       "      <td>fortwo</td>\n",
       "      <td>benzin</td>\n",
       "      <td>smart</td>\n",
       "      <td>nein</td>\n",
       "      <td>2016-03-05 00:00:00</td>\n",
       "      <td>2016-03-11 18:17:12</td>\n",
       "    </tr>\n",
       "    <tr>\n",
       "      <th>371525</th>\n",
       "      <td>2016-03-19 18:57:12</td>\n",
       "      <td>Volkswagen_Multivan_T4_TDI_7DC_UY2</td>\n",
       "      <td>privat</td>\n",
       "      <td>Angebot</td>\n",
       "      <td>test</td>\n",
       "      <td>bus</td>\n",
       "      <td>manuell</td>\n",
       "      <td>transporter</td>\n",
       "      <td>diesel</td>\n",
       "      <td>volkswagen</td>\n",
       "      <td>nein</td>\n",
       "      <td>2016-03-19 00:00:00</td>\n",
       "      <td>2016-04-07 07:15:26</td>\n",
       "    </tr>\n",
       "    <tr>\n",
       "      <th>371526</th>\n",
       "      <td>2016-03-20 19:41:08</td>\n",
       "      <td>VW_Golf_Kombi_1_9l_TDI</td>\n",
       "      <td>privat</td>\n",
       "      <td>Angebot</td>\n",
       "      <td>test</td>\n",
       "      <td>kombi</td>\n",
       "      <td>manuell</td>\n",
       "      <td>golf</td>\n",
       "      <td>diesel</td>\n",
       "      <td>volkswagen</td>\n",
       "      <td>NaN</td>\n",
       "      <td>2016-03-20 00:00:00</td>\n",
       "      <td>2016-03-24 12:45:21</td>\n",
       "    </tr>\n",
       "    <tr>\n",
       "      <th>371527</th>\n",
       "      <td>2016-03-07 19:39:19</td>\n",
       "      <td>BMW_M135i_vollausgestattet_NP_52.720____Euro</td>\n",
       "      <td>privat</td>\n",
       "      <td>Angebot</td>\n",
       "      <td>control</td>\n",
       "      <td>limousine</td>\n",
       "      <td>manuell</td>\n",
       "      <td>m_reihe</td>\n",
       "      <td>benzin</td>\n",
       "      <td>bmw</td>\n",
       "      <td>nein</td>\n",
       "      <td>2016-03-07 00:00:00</td>\n",
       "      <td>2016-03-22 03:17:10</td>\n",
       "    </tr>\n",
       "  </tbody>\n",
       "</table>\n",
       "<p>371528 rows × 13 columns</p>\n",
       "</div>"
      ],
      "text/plain": [
       "                dateCrawled                                          name  \\\n",
       "index                                                                       \n",
       "0       2016-03-24 11:52:17                                    Golf_3_1.6   \n",
       "1       2016-03-24 10:58:45                          A5_Sportback_2.7_Tdi   \n",
       "2       2016-03-14 12:52:21                Jeep_Grand_Cherokee_\"Overland\"   \n",
       "3       2016-03-17 16:54:04                            GOLF_4_1_4__3TÜRER   \n",
       "4       2016-03-31 17:25:20                Skoda_Fabia_1.4_TDI_PD_Classic   \n",
       "...                     ...                                           ...   \n",
       "371523  2016-03-14 17:48:27                    Suche_t4___vito_ab_6_sitze   \n",
       "371524  2016-03-05 19:56:21         Smart_smart_leistungssteigerung_100ps   \n",
       "371525  2016-03-19 18:57:12            Volkswagen_Multivan_T4_TDI_7DC_UY2   \n",
       "371526  2016-03-20 19:41:08                        VW_Golf_Kombi_1_9l_TDI   \n",
       "371527  2016-03-07 19:39:19  BMW_M135i_vollausgestattet_NP_52.720____Euro   \n",
       "\n",
       "        seller offerType   abtest vehicleType    gearbox        model  \\\n",
       "index                                                                   \n",
       "0       privat   Angebot     test         NaN    manuell         golf   \n",
       "1       privat   Angebot     test       coupe    manuell          NaN   \n",
       "2       privat   Angebot     test         suv  automatik        grand   \n",
       "3       privat   Angebot     test  kleinwagen    manuell         golf   \n",
       "4       privat   Angebot     test  kleinwagen    manuell        fabia   \n",
       "...        ...       ...      ...         ...        ...          ...   \n",
       "371523  privat   Angebot     test         NaN        NaN          NaN   \n",
       "371524  privat   Angebot     test      cabrio  automatik       fortwo   \n",
       "371525  privat   Angebot     test         bus    manuell  transporter   \n",
       "371526  privat   Angebot     test       kombi    manuell         golf   \n",
       "371527  privat   Angebot  control   limousine    manuell      m_reihe   \n",
       "\n",
       "       fuelType           brand notRepairedDamage          dateCreated  \\\n",
       "index                                                                    \n",
       "0        benzin      volkswagen               NaN  2016-03-24 00:00:00   \n",
       "1        diesel            audi                ja  2016-03-24 00:00:00   \n",
       "2        diesel            jeep               NaN  2016-03-14 00:00:00   \n",
       "3        benzin      volkswagen              nein  2016-03-17 00:00:00   \n",
       "4        diesel           skoda              nein  2016-03-31 00:00:00   \n",
       "...         ...             ...               ...                  ...   \n",
       "371523      NaN  sonstige_autos               NaN  2016-03-14 00:00:00   \n",
       "371524   benzin           smart              nein  2016-03-05 00:00:00   \n",
       "371525   diesel      volkswagen              nein  2016-03-19 00:00:00   \n",
       "371526   diesel      volkswagen               NaN  2016-03-20 00:00:00   \n",
       "371527   benzin             bmw              nein  2016-03-07 00:00:00   \n",
       "\n",
       "                   lastSeen  \n",
       "index                        \n",
       "0       2016-04-07 03:16:57  \n",
       "1       2016-04-07 01:46:50  \n",
       "2       2016-04-05 12:47:46  \n",
       "3       2016-03-17 17:40:17  \n",
       "4       2016-04-06 10:17:21  \n",
       "...                     ...  \n",
       "371523  2016-04-06 00:46:52  \n",
       "371524  2016-03-11 18:17:12  \n",
       "371525  2016-04-07 07:15:26  \n",
       "371526  2016-03-24 12:45:21  \n",
       "371527  2016-03-22 03:17:10  \n",
       "\n",
       "[371528 rows x 13 columns]"
      ]
     },
     "execution_count": 4,
     "metadata": {},
     "output_type": "execute_result"
    }
   ],
   "source": [
    "df.select_dtypes(exclude=np.number)"
   ]
  },
  {
   "cell_type": "code",
   "execution_count": 5,
   "id": "83149c85",
   "metadata": {},
   "outputs": [
    {
     "data": {
      "text/plain": [
       "dateCrawled                0\n",
       "name                       0\n",
       "seller                     0\n",
       "offerType                  0\n",
       "price                      0\n",
       "abtest                     0\n",
       "vehicleType            37869\n",
       "yearOfRegistration         0\n",
       "gearbox                20209\n",
       "powerPS                    0\n",
       "model                  20484\n",
       "kilometer                  0\n",
       "monthOfRegistration        0\n",
       "fuelType               33386\n",
       "brand                      0\n",
       "notRepairedDamage      72060\n",
       "dateCreated                0\n",
       "nrOfPictures               0\n",
       "postalCode                 0\n",
       "lastSeen                   0\n",
       "dtype: int64"
      ]
     },
     "execution_count": 5,
     "metadata": {},
     "output_type": "execute_result"
    }
   ],
   "source": [
    "# checking for null values\n",
    "\n",
    "df.isna().sum()"
   ]
  },
  {
   "cell_type": "code",
   "execution_count": 6,
   "id": "a5e1ee54",
   "metadata": {},
   "outputs": [
    {
     "data": {
      "text/plain": [
       "9999"
      ]
     },
     "execution_count": 6,
     "metadata": {},
     "output_type": "execute_result"
    }
   ],
   "source": [
    "df['yearOfRegistration'].max()"
   ]
  },
  {
   "cell_type": "markdown",
   "id": "f1e9d34f",
   "metadata": {},
   "source": [
    "# EDA"
   ]
  },
  {
   "cell_type": "code",
   "execution_count": 7,
   "id": "7cfe5d71",
   "metadata": {},
   "outputs": [],
   "source": [
    "# Pairplot\n",
    "\n",
    "# sns.pairplot(df,diag_kind='kde')"
   ]
  },
  {
   "cell_type": "code",
   "execution_count": 8,
   "id": "6d855522",
   "metadata": {},
   "outputs": [
    {
     "data": {
      "image/png": "[encoded data removed]",
      "text/plain": [
       "<Figure size 640x480 with 2 Axes>"
      ]
     },
     "metadata": {},
     "output_type": "display_data"
    }
   ],
   "source": [
    "# Heatmap\n",
    "\n",
    "sns.heatmap(df.corr(),annot=True)\n",
    "plt.show()"
   ]
  },
  {
   "cell_type": "code",
   "execution_count": null,
   "id": "372f6030",
   "metadata": {},
   "outputs": [],
   "source": []
  },
  {
   "cell_type": "code",
   "execution_count": 9,
   "id": "ee1abdb9",
   "metadata": {},
   "outputs": [
    {
     "data": {
      "text/plain": [
       "limousine     95894\n",
       "kleinwagen    80023\n",
       "kombi         67564\n",
       "bus           30201\n",
       "cabrio        22898\n",
       "coupe         19015\n",
       "suv           14707\n",
       "andere         3357\n",
       "Name: vehicleType, dtype: int64"
      ]
     },
     "execution_count": 9,
     "metadata": {},
     "output_type": "execute_result"
    }
   ],
   "source": [
    "# The number of data in each category\n",
    "\n",
    "df['vehicleType'].value_counts()"
   ]
  },
  {
   "cell_type": "code",
   "execution_count": 10,
   "id": "60af0ea3",
   "metadata": {},
   "outputs": [
    {
     "data": {
      "text/plain": [
       "manuell      274214\n",
       "automatik     77105\n",
       "Name: gearbox, dtype: int64"
      ]
     },
     "execution_count": 10,
     "metadata": {},
     "output_type": "execute_result"
    }
   ],
   "source": [
    "df['gearbox'].value_counts()"
   ]
  },
  {
   "cell_type": "code",
   "execution_count": 11,
   "id": "1fe611da",
   "metadata": {},
   "outputs": [
    {
     "data": {
      "text/plain": [
       "privat        371525\n",
       "gewerblich         3\n",
       "Name: seller, dtype: int64"
      ]
     },
     "execution_count": 11,
     "metadata": {},
     "output_type": "execute_result"
    }
   ],
   "source": [
    "df['seller'].value_counts()"
   ]
  },
  {
   "cell_type": "code",
   "execution_count": 12,
   "id": "37f0ea74",
   "metadata": {},
   "outputs": [
    {
     "data": {
      "text/plain": [
       "Angebot    371516\n",
       "Gesuch         12\n",
       "Name: offerType, dtype: int64"
      ]
     },
     "execution_count": 12,
     "metadata": {},
     "output_type": "execute_result"
    }
   ],
   "source": [
    "df['offerType'].value_counts()"
   ]
  },
  {
   "cell_type": "code",
   "execution_count": 13,
   "id": "a0327cdf",
   "metadata": {},
   "outputs": [
    {
     "data": {
      "text/plain": [
       "test       192585\n",
       "control    178943\n",
       "Name: abtest, dtype: int64"
      ]
     },
     "execution_count": 13,
     "metadata": {},
     "output_type": "execute_result"
    }
   ],
   "source": [
    "df['abtest'].value_counts()"
   ]
  },
  {
   "cell_type": "code",
   "execution_count": 14,
   "id": "7eca5437",
   "metadata": {},
   "outputs": [
    {
     "data": {
      "text/plain": [
       "benzin     223857\n",
       "diesel     107746\n",
       "lpg          5378\n",
       "cng           571\n",
       "hybrid        278\n",
       "andere        208\n",
       "elektro       104\n",
       "Name: fuelType, dtype: int64"
      ]
     },
     "execution_count": 14,
     "metadata": {},
     "output_type": "execute_result"
    }
   ],
   "source": [
    "df['fuelType'].value_counts()"
   ]
  },
  {
   "cell_type": "code",
   "execution_count": 15,
   "id": "d824175c",
   "metadata": {},
   "outputs": [
    {
     "data": {
      "text/plain": [
       "nein    263182\n",
       "ja       36286\n",
       "Name: notRepairedDamage, dtype: int64"
      ]
     },
     "execution_count": 15,
     "metadata": {},
     "output_type": "execute_result"
    }
   ],
   "source": [
    "df['notRepairedDamage'].value_counts()"
   ]
  },
  {
   "cell_type": "code",
   "execution_count": 16,
   "id": "43353570",
   "metadata": {},
   "outputs": [
    {
     "data": {
      "text/plain": [
       "150000    240797\n",
       "125000     38067\n",
       "100000     15920\n",
       "90000      12523\n",
       "80000      11053\n",
       "70000       9773\n",
       "60000       8669\n",
       "50000       7615\n",
       "5000        7069\n",
       "40000       6376\n",
       "30000       6041\n",
       "20000       5676\n",
       "10000       1949\n",
       "Name: kilometer, dtype: int64"
      ]
     },
     "execution_count": 16,
     "metadata": {},
     "output_type": "execute_result"
    }
   ],
   "source": [
    "df['kilometer'].value_counts()"
   ]
  },
  {
   "cell_type": "markdown",
   "id": "7840c8fc",
   "metadata": {},
   "source": [
    "# Replacing names in english"
   ]
  },
  {
   "cell_type": "code",
   "execution_count": 17,
   "id": "9a2b638f",
   "metadata": {},
   "outputs": [
    {
     "data": {
      "text/html": [
       "<div>\n",
       "<style scoped>\n",
       "    .dataframe tbody tr th:only-of-type {\n",
       "        vertical-align: middle;\n",
       "    }\n",
       "\n",
       "    .dataframe tbody tr th {\n",
       "        vertical-align: top;\n",
       "    }\n",
       "\n",
       "    .dataframe thead th {\n",
       "        text-align: right;\n",
       "    }\n",
       "</style>\n",
       "<table border=\"1\" class=\"dataframe\">\n",
       "  <thead>\n",
       "    <tr style=\"text-align: right;\">\n",
       "      <th></th>\n",
       "      <th>dateCrawled</th>\n",
       "      <th>name</th>\n",
       "      <th>seller</th>\n",
       "      <th>offerType</th>\n",
       "      <th>price</th>\n",
       "      <th>abtest</th>\n",
       "      <th>vehicleType</th>\n",
       "      <th>yearOfRegistration</th>\n",
       "      <th>gearbox</th>\n",
       "      <th>powerPS</th>\n",
       "      <th>model</th>\n",
       "      <th>kilometer</th>\n",
       "      <th>monthOfRegistration</th>\n",
       "      <th>fuelType</th>\n",
       "      <th>brand</th>\n",
       "      <th>notRepairedDamage</th>\n",
       "      <th>dateCreated</th>\n",
       "      <th>nrOfPictures</th>\n",
       "      <th>postalCode</th>\n",
       "      <th>lastSeen</th>\n",
       "    </tr>\n",
       "    <tr>\n",
       "      <th>index</th>\n",
       "      <th></th>\n",
       "      <th></th>\n",
       "      <th></th>\n",
       "      <th></th>\n",
       "      <th></th>\n",
       "      <th></th>\n",
       "      <th></th>\n",
       "      <th></th>\n",
       "      <th></th>\n",
       "      <th></th>\n",
       "      <th></th>\n",
       "      <th></th>\n",
       "      <th></th>\n",
       "      <th></th>\n",
       "      <th></th>\n",
       "      <th></th>\n",
       "      <th></th>\n",
       "      <th></th>\n",
       "      <th></th>\n",
       "      <th></th>\n",
       "    </tr>\n",
       "  </thead>\n",
       "  <tbody>\n",
       "    <tr>\n",
       "      <th>0</th>\n",
       "      <td>2016-03-24 11:52:17</td>\n",
       "      <td>Golf_3_1.6</td>\n",
       "      <td>private</td>\n",
       "      <td>proposal</td>\n",
       "      <td>480</td>\n",
       "      <td>test</td>\n",
       "      <td>NaN</td>\n",
       "      <td>1993</td>\n",
       "      <td>manual</td>\n",
       "      <td>0</td>\n",
       "      <td>golf</td>\n",
       "      <td>150000</td>\n",
       "      <td>0</td>\n",
       "      <td>gasoline</td>\n",
       "      <td>volkswagen</td>\n",
       "      <td>NaN</td>\n",
       "      <td>2016-03-24 00:00:00</td>\n",
       "      <td>0</td>\n",
       "      <td>70435</td>\n",
       "      <td>2016-04-07 03:16:57</td>\n",
       "    </tr>\n",
       "    <tr>\n",
       "      <th>1</th>\n",
       "      <td>2016-03-24 10:58:45</td>\n",
       "      <td>A5_Sportback_2.7_Tdi</td>\n",
       "      <td>private</td>\n",
       "      <td>proposal</td>\n",
       "      <td>18300</td>\n",
       "      <td>test</td>\n",
       "      <td>coupe</td>\n",
       "      <td>2011</td>\n",
       "      <td>manual</td>\n",
       "      <td>190</td>\n",
       "      <td>NaN</td>\n",
       "      <td>125000</td>\n",
       "      <td>5</td>\n",
       "      <td>diesel</td>\n",
       "      <td>audi</td>\n",
       "      <td>yes</td>\n",
       "      <td>2016-03-24 00:00:00</td>\n",
       "      <td>0</td>\n",
       "      <td>66954</td>\n",
       "      <td>2016-04-07 01:46:50</td>\n",
       "    </tr>\n",
       "    <tr>\n",
       "      <th>2</th>\n",
       "      <td>2016-03-14 12:52:21</td>\n",
       "      <td>Jeep_Grand_Cherokee_\"Overland\"</td>\n",
       "      <td>private</td>\n",
       "      <td>proposal</td>\n",
       "      <td>9800</td>\n",
       "      <td>test</td>\n",
       "      <td>suv</td>\n",
       "      <td>2004</td>\n",
       "      <td>automatic</td>\n",
       "      <td>163</td>\n",
       "      <td>grand</td>\n",
       "      <td>125000</td>\n",
       "      <td>8</td>\n",
       "      <td>diesel</td>\n",
       "      <td>jeep</td>\n",
       "      <td>NaN</td>\n",
       "      <td>2016-03-14 00:00:00</td>\n",
       "      <td>0</td>\n",
       "      <td>90480</td>\n",
       "      <td>2016-04-05 12:47:46</td>\n",
       "    </tr>\n",
       "    <tr>\n",
       "      <th>3</th>\n",
       "      <td>2016-03-17 16:54:04</td>\n",
       "      <td>GOLF_4_1_4__3TÜRER</td>\n",
       "      <td>private</td>\n",
       "      <td>proposal</td>\n",
       "      <td>1500</td>\n",
       "      <td>test</td>\n",
       "      <td>kleinwagen</td>\n",
       "      <td>2001</td>\n",
       "      <td>manual</td>\n",
       "      <td>75</td>\n",
       "      <td>golf</td>\n",
       "      <td>150000</td>\n",
       "      <td>6</td>\n",
       "      <td>gasoline</td>\n",
       "      <td>volkswagen</td>\n",
       "      <td>no</td>\n",
       "      <td>2016-03-17 00:00:00</td>\n",
       "      <td>0</td>\n",
       "      <td>91074</td>\n",
       "      <td>2016-03-17 17:40:17</td>\n",
       "    </tr>\n",
       "    <tr>\n",
       "      <th>4</th>\n",
       "      <td>2016-03-31 17:25:20</td>\n",
       "      <td>Skoda_Fabia_1.4_TDI_PD_Classic</td>\n",
       "      <td>private</td>\n",
       "      <td>proposal</td>\n",
       "      <td>3600</td>\n",
       "      <td>test</td>\n",
       "      <td>kleinwagen</td>\n",
       "      <td>2008</td>\n",
       "      <td>manual</td>\n",
       "      <td>69</td>\n",
       "      <td>fabia</td>\n",
       "      <td>90000</td>\n",
       "      <td>7</td>\n",
       "      <td>diesel</td>\n",
       "      <td>skoda</td>\n",
       "      <td>no</td>\n",
       "      <td>2016-03-31 00:00:00</td>\n",
       "      <td>0</td>\n",
       "      <td>60437</td>\n",
       "      <td>2016-04-06 10:17:21</td>\n",
       "    </tr>\n",
       "  </tbody>\n",
       "</table>\n",
       "</div>"
      ],
      "text/plain": [
       "               dateCrawled                            name   seller offerType  \\\n",
       "index                                                                           \n",
       "0      2016-03-24 11:52:17                      Golf_3_1.6  private  proposal   \n",
       "1      2016-03-24 10:58:45            A5_Sportback_2.7_Tdi  private  proposal   \n",
       "2      2016-03-14 12:52:21  Jeep_Grand_Cherokee_\"Overland\"  private  proposal   \n",
       "3      2016-03-17 16:54:04              GOLF_4_1_4__3TÜRER  private  proposal   \n",
       "4      2016-03-31 17:25:20  Skoda_Fabia_1.4_TDI_PD_Classic  private  proposal   \n",
       "\n",
       "       price abtest vehicleType  yearOfRegistration    gearbox  powerPS  \\\n",
       "index                                                                     \n",
       "0        480   test         NaN                1993     manual        0   \n",
       "1      18300   test       coupe                2011     manual      190   \n",
       "2       9800   test         suv                2004  automatic      163   \n",
       "3       1500   test  kleinwagen                2001     manual       75   \n",
       "4       3600   test  kleinwagen                2008     manual       69   \n",
       "\n",
       "       model  kilometer  monthOfRegistration  fuelType       brand  \\\n",
       "index                                                                \n",
       "0       golf     150000                    0  gasoline  volkswagen   \n",
       "1        NaN     125000                    5    diesel        audi   \n",
       "2      grand     125000                    8    diesel        jeep   \n",
       "3       golf     150000                    6  gasoline  volkswagen   \n",
       "4      fabia      90000                    7    diesel       skoda   \n",
       "\n",
       "      notRepairedDamage          dateCreated  nrOfPictures  postalCode  \\\n",
       "index                                                                    \n",
       "0                   NaN  2016-03-24 00:00:00             0       70435   \n",
       "1                   yes  2016-03-24 00:00:00             0       66954   \n",
       "2                   NaN  2016-03-14 00:00:00             0       90480   \n",
       "3                    no  2016-03-17 00:00:00             0       91074   \n",
       "4                    no  2016-03-31 00:00:00             0       60437   \n",
       "\n",
       "                  lastSeen  \n",
       "index                       \n",
       "0      2016-04-07 03:16:57  \n",
       "1      2016-04-07 01:46:50  \n",
       "2      2016-04-05 12:47:46  \n",
       "3      2016-03-17 17:40:17  \n",
       "4      2016-04-06 10:17:21  "
      ]
     },
     "execution_count": 17,
     "metadata": {},
     "output_type": "execute_result"
    }
   ],
   "source": [
    "# making a copy of the data\n",
    "df_1=df.copy()\n",
    "\n",
    "df_1['fuelType']=df_1['fuelType'].replace(to_replace={'benzin':'gasoline','andere':'others','elektro':'electric'})\n",
    "df_1['notRepairedDamage']=df_1['notRepairedDamage'].replace({'nein': 'no', 'ja': 'yes'})\n",
    "df_1['offerType']=df_1['offerType'].replace({'Angebot':'proposal','Gesuch':'request'})\n",
    "df_1['seller']=df_1['seller'].replace(to_replace={'gewerblich':'commercial','privat':'private'})\n",
    "df_1['gearbox']=df_1['gearbox'].replace(to_replace={'manuell':'manual','automatik':'automatic'})\n",
    "df_1.head(5)"
   ]
  },
  {
   "cell_type": "code",
   "execution_count": 18,
   "id": "2ef6ef93",
   "metadata": {},
   "outputs": [
    {
     "data": {
      "text/plain": [
       "dateCrawled            object\n",
       "name                   object\n",
       "seller                 object\n",
       "offerType              object\n",
       "price                   int64\n",
       "abtest                 object\n",
       "vehicleType            object\n",
       "yearOfRegistration      int64\n",
       "gearbox                object\n",
       "powerPS                 int64\n",
       "model                  object\n",
       "kilometer               int64\n",
       "monthOfRegistration     int64\n",
       "fuelType               object\n",
       "brand                  object\n",
       "notRepairedDamage      object\n",
       "dateCreated            object\n",
       "nrOfPictures            int64\n",
       "postalCode              int64\n",
       "lastSeen               object\n",
       "dtype: object"
      ]
     },
     "execution_count": 18,
     "metadata": {},
     "output_type": "execute_result"
    }
   ],
   "source": [
    "# checkign dtypes \n",
    "\n",
    "df_1.dtypes"
   ]
  },
  {
   "cell_type": "markdown",
   "id": "ccd25d8a",
   "metadata": {},
   "source": [
    "### 5 Point Summary"
   ]
  },
  {
   "cell_type": "code",
   "execution_count": 19,
   "id": "1eef8d7e",
   "metadata": {},
   "outputs": [
    {
     "data": {
      "text/html": [
       "<div>\n",
       "<style scoped>\n",
       "    .dataframe tbody tr th:only-of-type {\n",
       "        vertical-align: middle;\n",
       "    }\n",
       "\n",
       "    .dataframe tbody tr th {\n",
       "        vertical-align: top;\n",
       "    }\n",
       "\n",
       "    .dataframe thead th {\n",
       "        text-align: right;\n",
       "    }\n",
       "</style>\n",
       "<table border=\"1\" class=\"dataframe\">\n",
       "  <thead>\n",
       "    <tr style=\"text-align: right;\">\n",
       "      <th></th>\n",
       "      <th>price</th>\n",
       "      <th>yearOfRegistration</th>\n",
       "      <th>powerPS</th>\n",
       "      <th>kilometer</th>\n",
       "      <th>monthOfRegistration</th>\n",
       "      <th>nrOfPictures</th>\n",
       "      <th>postalCode</th>\n",
       "    </tr>\n",
       "  </thead>\n",
       "  <tbody>\n",
       "    <tr>\n",
       "      <th>count</th>\n",
       "      <td>3.715280e+05</td>\n",
       "      <td>371528.000000</td>\n",
       "      <td>371528.000000</td>\n",
       "      <td>371528.000000</td>\n",
       "      <td>371528.000000</td>\n",
       "      <td>371528.0</td>\n",
       "      <td>371528.00000</td>\n",
       "    </tr>\n",
       "    <tr>\n",
       "      <th>mean</th>\n",
       "      <td>1.729514e+04</td>\n",
       "      <td>2004.577997</td>\n",
       "      <td>115.549477</td>\n",
       "      <td>125618.688228</td>\n",
       "      <td>5.734445</td>\n",
       "      <td>0.0</td>\n",
       "      <td>50820.66764</td>\n",
       "    </tr>\n",
       "    <tr>\n",
       "      <th>std</th>\n",
       "      <td>3.587954e+06</td>\n",
       "      <td>92.866598</td>\n",
       "      <td>192.139578</td>\n",
       "      <td>40112.337051</td>\n",
       "      <td>3.712412</td>\n",
       "      <td>0.0</td>\n",
       "      <td>25799.08247</td>\n",
       "    </tr>\n",
       "    <tr>\n",
       "      <th>min</th>\n",
       "      <td>0.000000e+00</td>\n",
       "      <td>1000.000000</td>\n",
       "      <td>0.000000</td>\n",
       "      <td>5000.000000</td>\n",
       "      <td>0.000000</td>\n",
       "      <td>0.0</td>\n",
       "      <td>1067.00000</td>\n",
       "    </tr>\n",
       "    <tr>\n",
       "      <th>25%</th>\n",
       "      <td>1.150000e+03</td>\n",
       "      <td>1999.000000</td>\n",
       "      <td>70.000000</td>\n",
       "      <td>125000.000000</td>\n",
       "      <td>3.000000</td>\n",
       "      <td>0.0</td>\n",
       "      <td>30459.00000</td>\n",
       "    </tr>\n",
       "    <tr>\n",
       "      <th>50%</th>\n",
       "      <td>2.950000e+03</td>\n",
       "      <td>2003.000000</td>\n",
       "      <td>105.000000</td>\n",
       "      <td>150000.000000</td>\n",
       "      <td>6.000000</td>\n",
       "      <td>0.0</td>\n",
       "      <td>49610.00000</td>\n",
       "    </tr>\n",
       "    <tr>\n",
       "      <th>75%</th>\n",
       "      <td>7.200000e+03</td>\n",
       "      <td>2008.000000</td>\n",
       "      <td>150.000000</td>\n",
       "      <td>150000.000000</td>\n",
       "      <td>9.000000</td>\n",
       "      <td>0.0</td>\n",
       "      <td>71546.00000</td>\n",
       "    </tr>\n",
       "    <tr>\n",
       "      <th>max</th>\n",
       "      <td>2.147484e+09</td>\n",
       "      <td>9999.000000</td>\n",
       "      <td>20000.000000</td>\n",
       "      <td>150000.000000</td>\n",
       "      <td>12.000000</td>\n",
       "      <td>0.0</td>\n",
       "      <td>99998.00000</td>\n",
       "    </tr>\n",
       "  </tbody>\n",
       "</table>\n",
       "</div>"
      ],
      "text/plain": [
       "              price  yearOfRegistration        powerPS      kilometer  \\\n",
       "count  3.715280e+05       371528.000000  371528.000000  371528.000000   \n",
       "mean   1.729514e+04         2004.577997     115.549477  125618.688228   \n",
       "std    3.587954e+06           92.866598     192.139578   40112.337051   \n",
       "min    0.000000e+00         1000.000000       0.000000    5000.000000   \n",
       "25%    1.150000e+03         1999.000000      70.000000  125000.000000   \n",
       "50%    2.950000e+03         2003.000000     105.000000  150000.000000   \n",
       "75%    7.200000e+03         2008.000000     150.000000  150000.000000   \n",
       "max    2.147484e+09         9999.000000   20000.000000  150000.000000   \n",
       "\n",
       "       monthOfRegistration  nrOfPictures    postalCode  \n",
       "count        371528.000000      371528.0  371528.00000  \n",
       "mean              5.734445           0.0   50820.66764  \n",
       "std               3.712412           0.0   25799.08247  \n",
       "min               0.000000           0.0    1067.00000  \n",
       "25%               3.000000           0.0   30459.00000  \n",
       "50%               6.000000           0.0   49610.00000  \n",
       "75%               9.000000           0.0   71546.00000  \n",
       "max              12.000000           0.0   99998.00000  "
      ]
     },
     "execution_count": 19,
     "metadata": {},
     "output_type": "execute_result"
    }
   ],
   "source": [
    "# for numerical columns\n",
    "df_1.describe()"
   ]
  },
  {
   "cell_type": "code",
   "execution_count": 20,
   "id": "52ccf50f",
   "metadata": {},
   "outputs": [
    {
     "data": {
      "text/html": [
       "<div>\n",
       "<style scoped>\n",
       "    .dataframe tbody tr th:only-of-type {\n",
       "        vertical-align: middle;\n",
       "    }\n",
       "\n",
       "    .dataframe tbody tr th {\n",
       "        vertical-align: top;\n",
       "    }\n",
       "\n",
       "    .dataframe thead th {\n",
       "        text-align: right;\n",
       "    }\n",
       "</style>\n",
       "<table border=\"1\" class=\"dataframe\">\n",
       "  <thead>\n",
       "    <tr style=\"text-align: right;\">\n",
       "      <th></th>\n",
       "      <th>dateCrawled</th>\n",
       "      <th>name</th>\n",
       "      <th>seller</th>\n",
       "      <th>offerType</th>\n",
       "      <th>abtest</th>\n",
       "      <th>vehicleType</th>\n",
       "      <th>gearbox</th>\n",
       "      <th>model</th>\n",
       "      <th>fuelType</th>\n",
       "      <th>brand</th>\n",
       "      <th>notRepairedDamage</th>\n",
       "      <th>dateCreated</th>\n",
       "      <th>lastSeen</th>\n",
       "    </tr>\n",
       "  </thead>\n",
       "  <tbody>\n",
       "    <tr>\n",
       "      <th>count</th>\n",
       "      <td>371528</td>\n",
       "      <td>371528</td>\n",
       "      <td>371528</td>\n",
       "      <td>371528</td>\n",
       "      <td>371528</td>\n",
       "      <td>333659</td>\n",
       "      <td>351319</td>\n",
       "      <td>351044</td>\n",
       "      <td>338142</td>\n",
       "      <td>371528</td>\n",
       "      <td>299468</td>\n",
       "      <td>371528</td>\n",
       "      <td>371528</td>\n",
       "    </tr>\n",
       "    <tr>\n",
       "      <th>unique</th>\n",
       "      <td>280500</td>\n",
       "      <td>233531</td>\n",
       "      <td>2</td>\n",
       "      <td>2</td>\n",
       "      <td>2</td>\n",
       "      <td>8</td>\n",
       "      <td>2</td>\n",
       "      <td>251</td>\n",
       "      <td>7</td>\n",
       "      <td>40</td>\n",
       "      <td>2</td>\n",
       "      <td>114</td>\n",
       "      <td>182806</td>\n",
       "    </tr>\n",
       "    <tr>\n",
       "      <th>top</th>\n",
       "      <td>2016-03-24 14:49:47</td>\n",
       "      <td>Ford_Fiesta</td>\n",
       "      <td>private</td>\n",
       "      <td>proposal</td>\n",
       "      <td>test</td>\n",
       "      <td>limousine</td>\n",
       "      <td>manual</td>\n",
       "      <td>golf</td>\n",
       "      <td>gasoline</td>\n",
       "      <td>volkswagen</td>\n",
       "      <td>no</td>\n",
       "      <td>2016-04-03 00:00:00</td>\n",
       "      <td>2016-04-07 06:45:59</td>\n",
       "    </tr>\n",
       "    <tr>\n",
       "      <th>freq</th>\n",
       "      <td>7</td>\n",
       "      <td>657</td>\n",
       "      <td>371525</td>\n",
       "      <td>371516</td>\n",
       "      <td>192585</td>\n",
       "      <td>95894</td>\n",
       "      <td>274214</td>\n",
       "      <td>30070</td>\n",
       "      <td>223857</td>\n",
       "      <td>79640</td>\n",
       "      <td>263182</td>\n",
       "      <td>14450</td>\n",
       "      <td>17</td>\n",
       "    </tr>\n",
       "  </tbody>\n",
       "</table>\n",
       "</div>"
      ],
      "text/plain": [
       "                dateCrawled         name   seller offerType  abtest  \\\n",
       "count                371528       371528   371528    371528  371528   \n",
       "unique               280500       233531        2         2       2   \n",
       "top     2016-03-24 14:49:47  Ford_Fiesta  private  proposal    test   \n",
       "freq                      7          657   371525    371516  192585   \n",
       "\n",
       "       vehicleType gearbox   model  fuelType       brand notRepairedDamage  \\\n",
       "count       333659  351319  351044    338142      371528            299468   \n",
       "unique           8       2     251         7          40                 2   \n",
       "top      limousine  manual    golf  gasoline  volkswagen                no   \n",
       "freq         95894  274214   30070    223857       79640            263182   \n",
       "\n",
       "                dateCreated             lastSeen  \n",
       "count                371528               371528  \n",
       "unique                  114               182806  \n",
       "top     2016-04-03 00:00:00  2016-04-07 06:45:59  \n",
       "freq                  14450                   17  "
      ]
     },
     "execution_count": 20,
     "metadata": {},
     "output_type": "execute_result"
    }
   ],
   "source": [
    "# categorical variables\n",
    "\n",
    "df_1. describe(include = 'object')"
   ]
  },
  {
   "cell_type": "code",
   "execution_count": 21,
   "id": "e819d32c",
   "metadata": {},
   "outputs": [
    {
     "data": {
      "text/plain": [
       "notRepairedDamage      19.395577\n",
       "vehicleType            10.192771\n",
       "fuelType                8.986133\n",
       "model                   5.513447\n",
       "gearbox                 5.439429\n",
       "kilometer               0.000000\n",
       "postalCode              0.000000\n",
       "nrOfPictures            0.000000\n",
       "dateCreated             0.000000\n",
       "brand                   0.000000\n",
       "monthOfRegistration     0.000000\n",
       "dateCrawled             0.000000\n",
       "name                    0.000000\n",
       "powerPS                 0.000000\n",
       "yearOfRegistration      0.000000\n",
       "abtest                  0.000000\n",
       "price                   0.000000\n",
       "offerType               0.000000\n",
       "seller                  0.000000\n",
       "lastSeen                0.000000\n",
       "dtype: float64"
      ]
     },
     "execution_count": 21,
     "metadata": {},
     "output_type": "execute_result"
    }
   ],
   "source": [
    "#calculating the percentage of missing values\n",
    "\n",
    "df_1.isna().sum().sort_values(ascending=False)*100/len(df_1)"
   ]
  },
  {
   "cell_type": "code",
   "execution_count": 22,
   "id": "701867f1",
   "metadata": {},
   "outputs": [
    {
     "data": {
      "text/plain": [
       "no     263182\n",
       "yes     36286\n",
       "Name: notRepairedDamage, dtype: int64"
      ]
     },
     "execution_count": 22,
     "metadata": {},
     "output_type": "execute_result"
    }
   ],
   "source": [
    "df_1['notRepairedDamage'].value_counts()"
   ]
  },
  {
   "cell_type": "code",
   "execution_count": 23,
   "id": "6625b47f",
   "metadata": {},
   "outputs": [],
   "source": [
    "# dropping the null values\n",
    "\n",
    "df_1.dropna(inplace=True)"
   ]
  },
  {
   "cell_type": "code",
   "execution_count": 24,
   "id": "a59c4bc4",
   "metadata": {},
   "outputs": [
    {
     "data": {
      "text/plain": [
       "dateCrawled            0\n",
       "name                   0\n",
       "seller                 0\n",
       "offerType              0\n",
       "price                  0\n",
       "abtest                 0\n",
       "vehicleType            0\n",
       "yearOfRegistration     0\n",
       "gearbox                0\n",
       "powerPS                0\n",
       "model                  0\n",
       "kilometer              0\n",
       "monthOfRegistration    0\n",
       "fuelType               0\n",
       "brand                  0\n",
       "notRepairedDamage      0\n",
       "dateCreated            0\n",
       "nrOfPictures           0\n",
       "postalCode             0\n",
       "lastSeen               0\n",
       "dtype: int64"
      ]
     },
     "execution_count": 24,
     "metadata": {},
     "output_type": "execute_result"
    }
   ],
   "source": [
    "# checking null after treatment\n",
    "\n",
    "df_1.isna().sum()"
   ]
  },
  {
   "cell_type": "code",
   "execution_count": 25,
   "id": "882fecb1",
   "metadata": {},
   "outputs": [
    {
     "data": {
      "text/plain": [
       "(260956, 20)"
      ]
     },
     "execution_count": 25,
     "metadata": {},
     "output_type": "execute_result"
    }
   ],
   "source": [
    "df_1.shape\n",
    "\n",
    "# new shape of the data"
   ]
  },
  {
   "cell_type": "code",
   "execution_count": 26,
   "id": "cc3b3420",
   "metadata": {},
   "outputs": [
    {
     "data": {
      "text/html": [
       "<div>\n",
       "<style scoped>\n",
       "    .dataframe tbody tr th:only-of-type {\n",
       "        vertical-align: middle;\n",
       "    }\n",
       "\n",
       "    .dataframe tbody tr th {\n",
       "        vertical-align: top;\n",
       "    }\n",
       "\n",
       "    .dataframe thead th {\n",
       "        text-align: right;\n",
       "    }\n",
       "</style>\n",
       "<table border=\"1\" class=\"dataframe\">\n",
       "  <thead>\n",
       "    <tr style=\"text-align: right;\">\n",
       "      <th></th>\n",
       "      <th>dateCrawled</th>\n",
       "      <th>name</th>\n",
       "      <th>seller</th>\n",
       "      <th>offerType</th>\n",
       "      <th>price</th>\n",
       "      <th>abtest</th>\n",
       "      <th>vehicleType</th>\n",
       "      <th>yearOfRegistration</th>\n",
       "      <th>gearbox</th>\n",
       "      <th>powerPS</th>\n",
       "      <th>model</th>\n",
       "      <th>kilometer</th>\n",
       "      <th>monthOfRegistration</th>\n",
       "      <th>fuelType</th>\n",
       "      <th>brand</th>\n",
       "      <th>notRepairedDamage</th>\n",
       "      <th>dateCreated</th>\n",
       "      <th>nrOfPictures</th>\n",
       "      <th>postalCode</th>\n",
       "      <th>lastSeen</th>\n",
       "    </tr>\n",
       "    <tr>\n",
       "      <th>index</th>\n",
       "      <th></th>\n",
       "      <th></th>\n",
       "      <th></th>\n",
       "      <th></th>\n",
       "      <th></th>\n",
       "      <th></th>\n",
       "      <th></th>\n",
       "      <th></th>\n",
       "      <th></th>\n",
       "      <th></th>\n",
       "      <th></th>\n",
       "      <th></th>\n",
       "      <th></th>\n",
       "      <th></th>\n",
       "      <th></th>\n",
       "      <th></th>\n",
       "      <th></th>\n",
       "      <th></th>\n",
       "      <th></th>\n",
       "      <th></th>\n",
       "    </tr>\n",
       "  </thead>\n",
       "  <tbody>\n",
       "    <tr>\n",
       "      <th>7</th>\n",
       "      <td>2016-03-21 18:54:38</td>\n",
       "      <td>VW_Derby_Bj_80__Scheunenfund</td>\n",
       "      <td>private</td>\n",
       "      <td>proposal</td>\n",
       "      <td>0</td>\n",
       "      <td>test</td>\n",
       "      <td>limousine</td>\n",
       "      <td>1980</td>\n",
       "      <td>manual</td>\n",
       "      <td>50</td>\n",
       "      <td>andere</td>\n",
       "      <td>40000</td>\n",
       "      <td>7</td>\n",
       "      <td>gasoline</td>\n",
       "      <td>volkswagen</td>\n",
       "      <td>no</td>\n",
       "      <td>2016-03-21 00:00:00</td>\n",
       "      <td>0</td>\n",
       "      <td>19348</td>\n",
       "      <td>2016-03-25 16:47:58</td>\n",
       "    </tr>\n",
       "    <tr>\n",
       "      <th>157</th>\n",
       "      <td>2016-03-11 18:55:53</td>\n",
       "      <td>Opel_meriva_1.6_16_v_lpg__z16xe_no_OPC</td>\n",
       "      <td>private</td>\n",
       "      <td>proposal</td>\n",
       "      <td>0</td>\n",
       "      <td>test</td>\n",
       "      <td>bus</td>\n",
       "      <td>2004</td>\n",
       "      <td>manual</td>\n",
       "      <td>101</td>\n",
       "      <td>meriva</td>\n",
       "      <td>150000</td>\n",
       "      <td>10</td>\n",
       "      <td>lpg</td>\n",
       "      <td>opel</td>\n",
       "      <td>yes</td>\n",
       "      <td>2016-03-11 00:00:00</td>\n",
       "      <td>0</td>\n",
       "      <td>27432</td>\n",
       "      <td>2016-03-12 23:47:10</td>\n",
       "    </tr>\n",
       "    <tr>\n",
       "      <th>604</th>\n",
       "      <td>2016-03-27 11:37:43</td>\n",
       "      <td>Bmw_e39_523i_5er_tausch_e38_7er_tauschen</td>\n",
       "      <td>private</td>\n",
       "      <td>proposal</td>\n",
       "      <td>0</td>\n",
       "      <td>test</td>\n",
       "      <td>limousine</td>\n",
       "      <td>1996</td>\n",
       "      <td>manual</td>\n",
       "      <td>170</td>\n",
       "      <td>5er</td>\n",
       "      <td>150000</td>\n",
       "      <td>0</td>\n",
       "      <td>gasoline</td>\n",
       "      <td>bmw</td>\n",
       "      <td>no</td>\n",
       "      <td>2016-03-27 00:00:00</td>\n",
       "      <td>0</td>\n",
       "      <td>48529</td>\n",
       "      <td>2016-03-27 11:37:43</td>\n",
       "    </tr>\n",
       "    <tr>\n",
       "      <th>642</th>\n",
       "      <td>2016-04-05 06:36:35</td>\n",
       "      <td>VW_Polo_Classis</td>\n",
       "      <td>private</td>\n",
       "      <td>proposal</td>\n",
       "      <td>0</td>\n",
       "      <td>test</td>\n",
       "      <td>limousine</td>\n",
       "      <td>1998</td>\n",
       "      <td>manual</td>\n",
       "      <td>75</td>\n",
       "      <td>polo</td>\n",
       "      <td>150000</td>\n",
       "      <td>0</td>\n",
       "      <td>gasoline</td>\n",
       "      <td>volkswagen</td>\n",
       "      <td>yes</td>\n",
       "      <td>2016-04-05 00:00:00</td>\n",
       "      <td>0</td>\n",
       "      <td>68766</td>\n",
       "      <td>2016-04-07 10:44:39</td>\n",
       "    </tr>\n",
       "    <tr>\n",
       "      <th>897</th>\n",
       "      <td>2016-03-09 08:53:31</td>\n",
       "      <td>Audi_a6_2.0_170_PS_2009_Unfall</td>\n",
       "      <td>private</td>\n",
       "      <td>proposal</td>\n",
       "      <td>0</td>\n",
       "      <td>test</td>\n",
       "      <td>kombi</td>\n",
       "      <td>2009</td>\n",
       "      <td>manual</td>\n",
       "      <td>170</td>\n",
       "      <td>a6</td>\n",
       "      <td>150000</td>\n",
       "      <td>1</td>\n",
       "      <td>diesel</td>\n",
       "      <td>audi</td>\n",
       "      <td>yes</td>\n",
       "      <td>2016-03-09 00:00:00</td>\n",
       "      <td>0</td>\n",
       "      <td>79822</td>\n",
       "      <td>2016-03-09 10:40:29</td>\n",
       "    </tr>\n",
       "    <tr>\n",
       "      <th>...</th>\n",
       "      <td>...</td>\n",
       "      <td>...</td>\n",
       "      <td>...</td>\n",
       "      <td>...</td>\n",
       "      <td>...</td>\n",
       "      <td>...</td>\n",
       "      <td>...</td>\n",
       "      <td>...</td>\n",
       "      <td>...</td>\n",
       "      <td>...</td>\n",
       "      <td>...</td>\n",
       "      <td>...</td>\n",
       "      <td>...</td>\n",
       "      <td>...</td>\n",
       "      <td>...</td>\n",
       "      <td>...</td>\n",
       "      <td>...</td>\n",
       "      <td>...</td>\n",
       "      <td>...</td>\n",
       "      <td>...</td>\n",
       "    </tr>\n",
       "    <tr>\n",
       "      <th>371019</th>\n",
       "      <td>2016-03-27 21:38:25</td>\n",
       "      <td>VW_Polo_zu_Verkaufen</td>\n",
       "      <td>private</td>\n",
       "      <td>proposal</td>\n",
       "      <td>0</td>\n",
       "      <td>test</td>\n",
       "      <td>kleinwagen</td>\n",
       "      <td>1996</td>\n",
       "      <td>manual</td>\n",
       "      <td>45</td>\n",
       "      <td>polo</td>\n",
       "      <td>150000</td>\n",
       "      <td>8</td>\n",
       "      <td>gasoline</td>\n",
       "      <td>volkswagen</td>\n",
       "      <td>yes</td>\n",
       "      <td>2016-03-27 00:00:00</td>\n",
       "      <td>0</td>\n",
       "      <td>30926</td>\n",
       "      <td>2016-04-05 21:45:42</td>\n",
       "    </tr>\n",
       "    <tr>\n",
       "      <th>371081</th>\n",
       "      <td>2016-03-20 23:44:12</td>\n",
       "      <td>Golf_4_2_3l_V5</td>\n",
       "      <td>private</td>\n",
       "      <td>proposal</td>\n",
       "      <td>0</td>\n",
       "      <td>control</td>\n",
       "      <td>limousine</td>\n",
       "      <td>1999</td>\n",
       "      <td>manual</td>\n",
       "      <td>150</td>\n",
       "      <td>golf</td>\n",
       "      <td>125000</td>\n",
       "      <td>10</td>\n",
       "      <td>gasoline</td>\n",
       "      <td>volkswagen</td>\n",
       "      <td>no</td>\n",
       "      <td>2016-03-20 00:00:00</td>\n",
       "      <td>0</td>\n",
       "      <td>36304</td>\n",
       "      <td>2016-03-23 10:16:33</td>\n",
       "    </tr>\n",
       "    <tr>\n",
       "      <th>371134</th>\n",
       "      <td>2016-03-08 16:45:49</td>\n",
       "      <td>AUDI_100_2.3___TÜV_11.2017____VB</td>\n",
       "      <td>private</td>\n",
       "      <td>proposal</td>\n",
       "      <td>0</td>\n",
       "      <td>test</td>\n",
       "      <td>limousine</td>\n",
       "      <td>1991</td>\n",
       "      <td>manual</td>\n",
       "      <td>133</td>\n",
       "      <td>100</td>\n",
       "      <td>150000</td>\n",
       "      <td>6</td>\n",
       "      <td>gasoline</td>\n",
       "      <td>audi</td>\n",
       "      <td>no</td>\n",
       "      <td>2016-03-08 00:00:00</td>\n",
       "      <td>0</td>\n",
       "      <td>4319</td>\n",
       "      <td>2016-03-12 00:16:44</td>\n",
       "    </tr>\n",
       "    <tr>\n",
       "      <th>371270</th>\n",
       "      <td>2016-03-27 10:37:44</td>\n",
       "      <td>Golf5_gti_Tausch_gegen_T5</td>\n",
       "      <td>private</td>\n",
       "      <td>proposal</td>\n",
       "      <td>0</td>\n",
       "      <td>control</td>\n",
       "      <td>kleinwagen</td>\n",
       "      <td>2004</td>\n",
       "      <td>manual</td>\n",
       "      <td>200</td>\n",
       "      <td>golf</td>\n",
       "      <td>150000</td>\n",
       "      <td>0</td>\n",
       "      <td>gasoline</td>\n",
       "      <td>volkswagen</td>\n",
       "      <td>no</td>\n",
       "      <td>2016-03-27 00:00:00</td>\n",
       "      <td>0</td>\n",
       "      <td>38518</td>\n",
       "      <td>2016-03-27 11:43:55</td>\n",
       "    </tr>\n",
       "    <tr>\n",
       "      <th>371431</th>\n",
       "      <td>2016-03-10 22:55:50</td>\n",
       "      <td>Seat_Arosa</td>\n",
       "      <td>private</td>\n",
       "      <td>proposal</td>\n",
       "      <td>0</td>\n",
       "      <td>control</td>\n",
       "      <td>kleinwagen</td>\n",
       "      <td>1999</td>\n",
       "      <td>manual</td>\n",
       "      <td>37</td>\n",
       "      <td>arosa</td>\n",
       "      <td>150000</td>\n",
       "      <td>7</td>\n",
       "      <td>gasoline</td>\n",
       "      <td>seat</td>\n",
       "      <td>yes</td>\n",
       "      <td>2016-03-10 00:00:00</td>\n",
       "      <td>0</td>\n",
       "      <td>22559</td>\n",
       "      <td>2016-03-12 23:46:32</td>\n",
       "    </tr>\n",
       "  </tbody>\n",
       "</table>\n",
       "<p>3389 rows × 20 columns</p>\n",
       "</div>"
      ],
      "text/plain": [
       "                dateCrawled                                      name  \\\n",
       "index                                                                   \n",
       "7       2016-03-21 18:54:38              VW_Derby_Bj_80__Scheunenfund   \n",
       "157     2016-03-11 18:55:53    Opel_meriva_1.6_16_v_lpg__z16xe_no_OPC   \n",
       "604     2016-03-27 11:37:43  Bmw_e39_523i_5er_tausch_e38_7er_tauschen   \n",
       "642     2016-04-05 06:36:35                           VW_Polo_Classis   \n",
       "897     2016-03-09 08:53:31            Audi_a6_2.0_170_PS_2009_Unfall   \n",
       "...                     ...                                       ...   \n",
       "371019  2016-03-27 21:38:25                      VW_Polo_zu_Verkaufen   \n",
       "371081  2016-03-20 23:44:12                            Golf_4_2_3l_V5   \n",
       "371134  2016-03-08 16:45:49          AUDI_100_2.3___TÜV_11.2017____VB   \n",
       "371270  2016-03-27 10:37:44                 Golf5_gti_Tausch_gegen_T5   \n",
       "371431  2016-03-10 22:55:50                                Seat_Arosa   \n",
       "\n",
       "         seller offerType  price   abtest vehicleType  yearOfRegistration  \\\n",
       "index                                                                       \n",
       "7       private  proposal      0     test   limousine                1980   \n",
       "157     private  proposal      0     test         bus                2004   \n",
       "604     private  proposal      0     test   limousine                1996   \n",
       "642     private  proposal      0     test   limousine                1998   \n",
       "897     private  proposal      0     test       kombi                2009   \n",
       "...         ...       ...    ...      ...         ...                 ...   \n",
       "371019  private  proposal      0     test  kleinwagen                1996   \n",
       "371081  private  proposal      0  control   limousine                1999   \n",
       "371134  private  proposal      0     test   limousine                1991   \n",
       "371270  private  proposal      0  control  kleinwagen                2004   \n",
       "371431  private  proposal      0  control  kleinwagen                1999   \n",
       "\n",
       "       gearbox  powerPS   model  kilometer  monthOfRegistration  fuelType  \\\n",
       "index                                                                       \n",
       "7       manual       50  andere      40000                    7  gasoline   \n",
       "157     manual      101  meriva     150000                   10       lpg   \n",
       "604     manual      170     5er     150000                    0  gasoline   \n",
       "642     manual       75    polo     150000                    0  gasoline   \n",
       "897     manual      170      a6     150000                    1    diesel   \n",
       "...        ...      ...     ...        ...                  ...       ...   \n",
       "371019  manual       45    polo     150000                    8  gasoline   \n",
       "371081  manual      150    golf     125000                   10  gasoline   \n",
       "371134  manual      133     100     150000                    6  gasoline   \n",
       "371270  manual      200    golf     150000                    0  gasoline   \n",
       "371431  manual       37   arosa     150000                    7  gasoline   \n",
       "\n",
       "             brand notRepairedDamage          dateCreated  nrOfPictures  \\\n",
       "index                                                                     \n",
       "7       volkswagen                no  2016-03-21 00:00:00             0   \n",
       "157           opel               yes  2016-03-11 00:00:00             0   \n",
       "604            bmw                no  2016-03-27 00:00:00             0   \n",
       "642     volkswagen               yes  2016-04-05 00:00:00             0   \n",
       "897           audi               yes  2016-03-09 00:00:00             0   \n",
       "...            ...               ...                  ...           ...   \n",
       "371019  volkswagen               yes  2016-03-27 00:00:00             0   \n",
       "371081  volkswagen                no  2016-03-20 00:00:00             0   \n",
       "371134        audi                no  2016-03-08 00:00:00             0   \n",
       "371270  volkswagen                no  2016-03-27 00:00:00             0   \n",
       "371431        seat               yes  2016-03-10 00:00:00             0   \n",
       "\n",
       "        postalCode             lastSeen  \n",
       "index                                    \n",
       "7            19348  2016-03-25 16:47:58  \n",
       "157          27432  2016-03-12 23:47:10  \n",
       "604          48529  2016-03-27 11:37:43  \n",
       "642          68766  2016-04-07 10:44:39  \n",
       "897          79822  2016-03-09 10:40:29  \n",
       "...            ...                  ...  \n",
       "371019       30926  2016-04-05 21:45:42  \n",
       "371081       36304  2016-03-23 10:16:33  \n",
       "371134        4319  2016-03-12 00:16:44  \n",
       "371270       38518  2016-03-27 11:43:55  \n",
       "371431       22559  2016-03-12 23:46:32  \n",
       "\n",
       "[3389 rows x 20 columns]"
      ]
     },
     "execution_count": 26,
     "metadata": {},
     "output_type": "execute_result"
    }
   ],
   "source": [
    "df_1[df_1['price']==0]\n",
    "#there are rows where price = 0\n",
    "#we do not consider to take those rows"
   ]
  },
  {
   "cell_type": "code",
   "execution_count": 27,
   "id": "f821499d",
   "metadata": {},
   "outputs": [
    {
     "data": {
      "text/plain": [
       "(260956, 20)"
      ]
     },
     "execution_count": 27,
     "metadata": {},
     "output_type": "execute_result"
    }
   ],
   "source": [
    "df_1.shape"
   ]
  },
  {
   "cell_type": "code",
   "execution_count": 28,
   "id": "403cc395",
   "metadata": {},
   "outputs": [
    {
     "data": {
      "text/plain": [
       "(257567, 20)"
      ]
     },
     "execution_count": 28,
     "metadata": {},
     "output_type": "execute_result"
    }
   ],
   "source": [
    "#we remove all columns with price = 0\n",
    "df_2=df_1[df_1['price']!=0]\n",
    "df_2.shape"
   ]
  },
  {
   "cell_type": "code",
   "execution_count": 29,
   "id": "1cd68051",
   "metadata": {},
   "outputs": [
    {
     "data": {
      "text/html": [
       "<div>\n",
       "<style scoped>\n",
       "    .dataframe tbody tr th:only-of-type {\n",
       "        vertical-align: middle;\n",
       "    }\n",
       "\n",
       "    .dataframe tbody tr th {\n",
       "        vertical-align: top;\n",
       "    }\n",
       "\n",
       "    .dataframe thead th {\n",
       "        text-align: right;\n",
       "    }\n",
       "</style>\n",
       "<table border=\"1\" class=\"dataframe\">\n",
       "  <thead>\n",
       "    <tr style=\"text-align: right;\">\n",
       "      <th></th>\n",
       "      <th>dateCrawled</th>\n",
       "      <th>name</th>\n",
       "      <th>seller</th>\n",
       "      <th>offerType</th>\n",
       "      <th>price</th>\n",
       "      <th>abtest</th>\n",
       "      <th>vehicleType</th>\n",
       "      <th>yearOfRegistration</th>\n",
       "      <th>gearbox</th>\n",
       "      <th>powerPS</th>\n",
       "      <th>model</th>\n",
       "      <th>kilometer</th>\n",
       "      <th>monthOfRegistration</th>\n",
       "      <th>fuelType</th>\n",
       "      <th>brand</th>\n",
       "      <th>notRepairedDamage</th>\n",
       "      <th>dateCreated</th>\n",
       "      <th>nrOfPictures</th>\n",
       "      <th>postalCode</th>\n",
       "      <th>lastSeen</th>\n",
       "    </tr>\n",
       "    <tr>\n",
       "      <th>index</th>\n",
       "      <th></th>\n",
       "      <th></th>\n",
       "      <th></th>\n",
       "      <th></th>\n",
       "      <th></th>\n",
       "      <th></th>\n",
       "      <th></th>\n",
       "      <th></th>\n",
       "      <th></th>\n",
       "      <th></th>\n",
       "      <th></th>\n",
       "      <th></th>\n",
       "      <th></th>\n",
       "      <th></th>\n",
       "      <th></th>\n",
       "      <th></th>\n",
       "      <th></th>\n",
       "      <th></th>\n",
       "      <th></th>\n",
       "      <th></th>\n",
       "    </tr>\n",
       "  </thead>\n",
       "  <tbody>\n",
       "    <tr>\n",
       "      <th>3</th>\n",
       "      <td>2016-03-17 16:54:04</td>\n",
       "      <td>GOLF_4_1_4__3TÜRER</td>\n",
       "      <td>private</td>\n",
       "      <td>proposal</td>\n",
       "      <td>1500</td>\n",
       "      <td>test</td>\n",
       "      <td>kleinwagen</td>\n",
       "      <td>2001</td>\n",
       "      <td>manual</td>\n",
       "      <td>75</td>\n",
       "      <td>golf</td>\n",
       "      <td>150000</td>\n",
       "      <td>6</td>\n",
       "      <td>gasoline</td>\n",
       "      <td>volkswagen</td>\n",
       "      <td>no</td>\n",
       "      <td>2016-03-17 00:00:00</td>\n",
       "      <td>0</td>\n",
       "      <td>91074</td>\n",
       "      <td>2016-03-17 17:40:17</td>\n",
       "    </tr>\n",
       "    <tr>\n",
       "      <th>4</th>\n",
       "      <td>2016-03-31 17:25:20</td>\n",
       "      <td>Skoda_Fabia_1.4_TDI_PD_Classic</td>\n",
       "      <td>private</td>\n",
       "      <td>proposal</td>\n",
       "      <td>3600</td>\n",
       "      <td>test</td>\n",
       "      <td>kleinwagen</td>\n",
       "      <td>2008</td>\n",
       "      <td>manual</td>\n",
       "      <td>69</td>\n",
       "      <td>fabia</td>\n",
       "      <td>90000</td>\n",
       "      <td>7</td>\n",
       "      <td>diesel</td>\n",
       "      <td>skoda</td>\n",
       "      <td>no</td>\n",
       "      <td>2016-03-31 00:00:00</td>\n",
       "      <td>0</td>\n",
       "      <td>60437</td>\n",
       "      <td>2016-04-06 10:17:21</td>\n",
       "    </tr>\n",
       "    <tr>\n",
       "      <th>5</th>\n",
       "      <td>2016-04-04 17:36:23</td>\n",
       "      <td>BMW_316i___e36_Limousine___Bastlerfahrzeug__Ex...</td>\n",
       "      <td>private</td>\n",
       "      <td>proposal</td>\n",
       "      <td>650</td>\n",
       "      <td>test</td>\n",
       "      <td>limousine</td>\n",
       "      <td>1995</td>\n",
       "      <td>manual</td>\n",
       "      <td>102</td>\n",
       "      <td>3er</td>\n",
       "      <td>150000</td>\n",
       "      <td>10</td>\n",
       "      <td>gasoline</td>\n",
       "      <td>bmw</td>\n",
       "      <td>yes</td>\n",
       "      <td>2016-04-04 00:00:00</td>\n",
       "      <td>0</td>\n",
       "      <td>33775</td>\n",
       "      <td>2016-04-06 19:17:07</td>\n",
       "    </tr>\n",
       "    <tr>\n",
       "      <th>6</th>\n",
       "      <td>2016-04-01 20:48:51</td>\n",
       "      <td>Peugeot_206_CC_110_Platinum</td>\n",
       "      <td>private</td>\n",
       "      <td>proposal</td>\n",
       "      <td>2200</td>\n",
       "      <td>test</td>\n",
       "      <td>cabrio</td>\n",
       "      <td>2004</td>\n",
       "      <td>manual</td>\n",
       "      <td>109</td>\n",
       "      <td>2_reihe</td>\n",
       "      <td>150000</td>\n",
       "      <td>8</td>\n",
       "      <td>gasoline</td>\n",
       "      <td>peugeot</td>\n",
       "      <td>no</td>\n",
       "      <td>2016-04-01 00:00:00</td>\n",
       "      <td>0</td>\n",
       "      <td>67112</td>\n",
       "      <td>2016-04-05 18:18:39</td>\n",
       "    </tr>\n",
       "    <tr>\n",
       "      <th>10</th>\n",
       "      <td>2016-03-26 19:54:18</td>\n",
       "      <td>Mazda_3_1.6_Sport</td>\n",
       "      <td>private</td>\n",
       "      <td>proposal</td>\n",
       "      <td>2000</td>\n",
       "      <td>control</td>\n",
       "      <td>limousine</td>\n",
       "      <td>2004</td>\n",
       "      <td>manual</td>\n",
       "      <td>105</td>\n",
       "      <td>3_reihe</td>\n",
       "      <td>150000</td>\n",
       "      <td>12</td>\n",
       "      <td>gasoline</td>\n",
       "      <td>mazda</td>\n",
       "      <td>no</td>\n",
       "      <td>2016-03-26 00:00:00</td>\n",
       "      <td>0</td>\n",
       "      <td>96224</td>\n",
       "      <td>2016-04-06 10:45:34</td>\n",
       "    </tr>\n",
       "  </tbody>\n",
       "</table>\n",
       "</div>"
      ],
      "text/plain": [
       "               dateCrawled                                               name  \\\n",
       "index                                                                           \n",
       "3      2016-03-17 16:54:04                                 GOLF_4_1_4__3TÜRER   \n",
       "4      2016-03-31 17:25:20                     Skoda_Fabia_1.4_TDI_PD_Classic   \n",
       "5      2016-04-04 17:36:23  BMW_316i___e36_Limousine___Bastlerfahrzeug__Ex...   \n",
       "6      2016-04-01 20:48:51                        Peugeot_206_CC_110_Platinum   \n",
       "10     2016-03-26 19:54:18                                  Mazda_3_1.6_Sport   \n",
       "\n",
       "        seller offerType  price   abtest vehicleType  yearOfRegistration  \\\n",
       "index                                                                      \n",
       "3      private  proposal   1500     test  kleinwagen                2001   \n",
       "4      private  proposal   3600     test  kleinwagen                2008   \n",
       "5      private  proposal    650     test   limousine                1995   \n",
       "6      private  proposal   2200     test      cabrio                2004   \n",
       "10     private  proposal   2000  control   limousine                2004   \n",
       "\n",
       "      gearbox  powerPS    model  kilometer  monthOfRegistration  fuelType  \\\n",
       "index                                                                       \n",
       "3      manual       75     golf     150000                    6  gasoline   \n",
       "4      manual       69    fabia      90000                    7    diesel   \n",
       "5      manual      102      3er     150000                   10  gasoline   \n",
       "6      manual      109  2_reihe     150000                    8  gasoline   \n",
       "10     manual      105  3_reihe     150000                   12  gasoline   \n",
       "\n",
       "            brand notRepairedDamage          dateCreated  nrOfPictures  \\\n",
       "index                                                                    \n",
       "3      volkswagen                no  2016-03-17 00:00:00             0   \n",
       "4           skoda                no  2016-03-31 00:00:00             0   \n",
       "5             bmw               yes  2016-04-04 00:00:00             0   \n",
       "6         peugeot                no  2016-04-01 00:00:00             0   \n",
       "10          mazda                no  2016-03-26 00:00:00             0   \n",
       "\n",
       "       postalCode             lastSeen  \n",
       "index                                   \n",
       "3           91074  2016-03-17 17:40:17  \n",
       "4           60437  2016-04-06 10:17:21  \n",
       "5           33775  2016-04-06 19:17:07  \n",
       "6           67112  2016-04-05 18:18:39  \n",
       "10          96224  2016-04-06 10:45:34  "
      ]
     },
     "execution_count": 29,
     "metadata": {},
     "output_type": "execute_result"
    }
   ],
   "source": [
    "pd.set_option('display.max_columns',999)\n",
    "df_2.head()"
   ]
  },
  {
   "cell_type": "code",
   "execution_count": null,
   "id": "4e1e8c1c",
   "metadata": {},
   "outputs": [],
   "source": []
  },
  {
   "cell_type": "code",
   "execution_count": 30,
   "id": "db3853be",
   "metadata": {},
   "outputs": [
    {
     "data": {
      "text/plain": [
       "(0, 20)"
      ]
     },
     "execution_count": 30,
     "metadata": {},
     "output_type": "execute_result"
    }
   ],
   "source": [
    "df_2[df_2['yearOfRegistration']>2023].shape\n",
    "#there are 95 rows who's year of registration contains invalid data"
   ]
  },
  {
   "cell_type": "code",
   "execution_count": 31,
   "id": "9dc11edf",
   "metadata": {},
   "outputs": [
    {
     "data": {
      "text/plain": [
       "(257567, 20)"
      ]
     },
     "execution_count": 31,
     "metadata": {},
     "output_type": "execute_result"
    }
   ],
   "source": [
    "df_2=df_2[df_2['yearOfRegistration']<=2023]\n",
    "df_2.shape"
   ]
  },
  {
   "cell_type": "code",
   "execution_count": 32,
   "id": "4306d78d",
   "metadata": {},
   "outputs": [
    {
     "data": {
      "text/plain": [
       "1910"
      ]
     },
     "execution_count": 32,
     "metadata": {},
     "output_type": "execute_result"
    }
   ],
   "source": [
    "df_2['yearOfRegistration'].min()\n",
    "#The first car was invented by Karl Benz in 1886."
   ]
  },
  {
   "cell_type": "code",
   "execution_count": 33,
   "id": "1e3e5778",
   "metadata": {},
   "outputs": [
    {
     "data": {
      "text/plain": [
       "(257567, 20)"
      ]
     },
     "execution_count": 33,
     "metadata": {},
     "output_type": "execute_result"
    }
   ],
   "source": [
    "df_2=df_2[df_2['yearOfRegistration']>=1886]\n",
    "df_2.shape"
   ]
  },
  {
   "cell_type": "code",
   "execution_count": 34,
   "id": "4ff2310b",
   "metadata": {},
   "outputs": [
    {
     "data": {
      "text/plain": [
       "1910"
      ]
     },
     "execution_count": 34,
     "metadata": {},
     "output_type": "execute_result"
    }
   ],
   "source": [
    "df_2['yearOfRegistration'].min()"
   ]
  },
  {
   "cell_type": "code",
   "execution_count": 35,
   "id": "7284848a",
   "metadata": {},
   "outputs": [
    {
     "name": "stdout",
     "output_type": "stream",
     "text": [
      "20000 , 0\n"
     ]
    }
   ],
   "source": [
    "print(df_2['powerPS'].max(),',',df_2['powerPS'].min())"
   ]
  },
  {
   "cell_type": "code",
   "execution_count": 36,
   "id": "c41c0da0",
   "metadata": {},
   "outputs": [],
   "source": [
    "#Compact car\t50 HP\n",
    "#Midsize car\t100 HP\n",
    "#Full-size car\t150 HP\n",
    "#SUV\t200 HP\n",
    "#Pickup truck\t300 HP\n",
    "#according to research the maximum power a car can have in today's world is 1600 which is held\n",
    "#by bugatti chiron\n",
    "#so we remove all columns where power = 50 and power > 1600"
   ]
  },
  {
   "cell_type": "code",
   "execution_count": 37,
   "id": "06197553",
   "metadata": {},
   "outputs": [
    {
     "data": {
      "text/plain": [
       "(244952, 20)"
      ]
     },
     "execution_count": 37,
     "metadata": {},
     "output_type": "execute_result"
    }
   ],
   "source": [
    "df_2=df_2[(df_2['powerPS']>=50)&(df_2['powerPS']<=1600)]\n",
    "df_2.shape"
   ]
  },
  {
   "cell_type": "code",
   "execution_count": 38,
   "id": "a71c68e1",
   "metadata": {},
   "outputs": [
    {
     "data": {
      "text/plain": [
       "1931"
      ]
     },
     "execution_count": 38,
     "metadata": {},
     "output_type": "execute_result"
    }
   ],
   "source": [
    "df_2['yearOfRegistration'].min()"
   ]
  },
  {
   "cell_type": "code",
   "execution_count": 39,
   "id": "cab8eb04",
   "metadata": {},
   "outputs": [],
   "source": [
    "# Feature Engineering\n",
    "\n",
    "current=2023\n",
    "# Filter the DataFrame based on the year range\n",
    "\n",
    "df_2['Car_age']=current-df_2['yearOfRegistration']"
   ]
  },
  {
   "cell_type": "code",
   "execution_count": 40,
   "id": "31ec44c7",
   "metadata": {},
   "outputs": [
    {
     "data": {
      "text/plain": [
       "(92, 5)"
      ]
     },
     "execution_count": 40,
     "metadata": {},
     "output_type": "execute_result"
    }
   ],
   "source": [
    "df_2['Car_age'].max(), df_2['Car_age'].min()"
   ]
  },
  {
   "cell_type": "code",
   "execution_count": 41,
   "id": "c01f0b6b",
   "metadata": {},
   "outputs": [
    {
     "data": {
      "text/html": [
       "<div>\n",
       "<style scoped>\n",
       "    .dataframe tbody tr th:only-of-type {\n",
       "        vertical-align: middle;\n",
       "    }\n",
       "\n",
       "    .dataframe tbody tr th {\n",
       "        vertical-align: top;\n",
       "    }\n",
       "\n",
       "    .dataframe thead th {\n",
       "        text-align: right;\n",
       "    }\n",
       "</style>\n",
       "<table border=\"1\" class=\"dataframe\">\n",
       "  <thead>\n",
       "    <tr style=\"text-align: right;\">\n",
       "      <th></th>\n",
       "      <th>dateCrawled</th>\n",
       "      <th>name</th>\n",
       "      <th>seller</th>\n",
       "      <th>offerType</th>\n",
       "      <th>price</th>\n",
       "      <th>abtest</th>\n",
       "      <th>vehicleType</th>\n",
       "      <th>yearOfRegistration</th>\n",
       "      <th>gearbox</th>\n",
       "      <th>powerPS</th>\n",
       "      <th>model</th>\n",
       "      <th>kilometer</th>\n",
       "      <th>monthOfRegistration</th>\n",
       "      <th>fuelType</th>\n",
       "      <th>brand</th>\n",
       "      <th>notRepairedDamage</th>\n",
       "      <th>dateCreated</th>\n",
       "      <th>nrOfPictures</th>\n",
       "      <th>postalCode</th>\n",
       "      <th>lastSeen</th>\n",
       "      <th>Car_age</th>\n",
       "    </tr>\n",
       "    <tr>\n",
       "      <th>index</th>\n",
       "      <th></th>\n",
       "      <th></th>\n",
       "      <th></th>\n",
       "      <th></th>\n",
       "      <th></th>\n",
       "      <th></th>\n",
       "      <th></th>\n",
       "      <th></th>\n",
       "      <th></th>\n",
       "      <th></th>\n",
       "      <th></th>\n",
       "      <th></th>\n",
       "      <th></th>\n",
       "      <th></th>\n",
       "      <th></th>\n",
       "      <th></th>\n",
       "      <th></th>\n",
       "      <th></th>\n",
       "      <th></th>\n",
       "      <th></th>\n",
       "      <th></th>\n",
       "    </tr>\n",
       "  </thead>\n",
       "  <tbody>\n",
       "    <tr>\n",
       "      <th>3</th>\n",
       "      <td>2016-03-17 16:54:04</td>\n",
       "      <td>GOLF_4_1_4__3TÜRER</td>\n",
       "      <td>private</td>\n",
       "      <td>proposal</td>\n",
       "      <td>1500</td>\n",
       "      <td>test</td>\n",
       "      <td>kleinwagen</td>\n",
       "      <td>2001</td>\n",
       "      <td>manual</td>\n",
       "      <td>75</td>\n",
       "      <td>golf</td>\n",
       "      <td>150000</td>\n",
       "      <td>6</td>\n",
       "      <td>gasoline</td>\n",
       "      <td>volkswagen</td>\n",
       "      <td>no</td>\n",
       "      <td>2016-03-17 00:00:00</td>\n",
       "      <td>0</td>\n",
       "      <td>91074</td>\n",
       "      <td>2016-03-17 17:40:17</td>\n",
       "      <td>22</td>\n",
       "    </tr>\n",
       "    <tr>\n",
       "      <th>4</th>\n",
       "      <td>2016-03-31 17:25:20</td>\n",
       "      <td>Skoda_Fabia_1.4_TDI_PD_Classic</td>\n",
       "      <td>private</td>\n",
       "      <td>proposal</td>\n",
       "      <td>3600</td>\n",
       "      <td>test</td>\n",
       "      <td>kleinwagen</td>\n",
       "      <td>2008</td>\n",
       "      <td>manual</td>\n",
       "      <td>69</td>\n",
       "      <td>fabia</td>\n",
       "      <td>90000</td>\n",
       "      <td>7</td>\n",
       "      <td>diesel</td>\n",
       "      <td>skoda</td>\n",
       "      <td>no</td>\n",
       "      <td>2016-03-31 00:00:00</td>\n",
       "      <td>0</td>\n",
       "      <td>60437</td>\n",
       "      <td>2016-04-06 10:17:21</td>\n",
       "      <td>15</td>\n",
       "    </tr>\n",
       "    <tr>\n",
       "      <th>5</th>\n",
       "      <td>2016-04-04 17:36:23</td>\n",
       "      <td>BMW_316i___e36_Limousine___Bastlerfahrzeug__Ex...</td>\n",
       "      <td>private</td>\n",
       "      <td>proposal</td>\n",
       "      <td>650</td>\n",
       "      <td>test</td>\n",
       "      <td>limousine</td>\n",
       "      <td>1995</td>\n",
       "      <td>manual</td>\n",
       "      <td>102</td>\n",
       "      <td>3er</td>\n",
       "      <td>150000</td>\n",
       "      <td>10</td>\n",
       "      <td>gasoline</td>\n",
       "      <td>bmw</td>\n",
       "      <td>yes</td>\n",
       "      <td>2016-04-04 00:00:00</td>\n",
       "      <td>0</td>\n",
       "      <td>33775</td>\n",
       "      <td>2016-04-06 19:17:07</td>\n",
       "      <td>28</td>\n",
       "    </tr>\n",
       "    <tr>\n",
       "      <th>6</th>\n",
       "      <td>2016-04-01 20:48:51</td>\n",
       "      <td>Peugeot_206_CC_110_Platinum</td>\n",
       "      <td>private</td>\n",
       "      <td>proposal</td>\n",
       "      <td>2200</td>\n",
       "      <td>test</td>\n",
       "      <td>cabrio</td>\n",
       "      <td>2004</td>\n",
       "      <td>manual</td>\n",
       "      <td>109</td>\n",
       "      <td>2_reihe</td>\n",
       "      <td>150000</td>\n",
       "      <td>8</td>\n",
       "      <td>gasoline</td>\n",
       "      <td>peugeot</td>\n",
       "      <td>no</td>\n",
       "      <td>2016-04-01 00:00:00</td>\n",
       "      <td>0</td>\n",
       "      <td>67112</td>\n",
       "      <td>2016-04-05 18:18:39</td>\n",
       "      <td>19</td>\n",
       "    </tr>\n",
       "    <tr>\n",
       "      <th>10</th>\n",
       "      <td>2016-03-26 19:54:18</td>\n",
       "      <td>Mazda_3_1.6_Sport</td>\n",
       "      <td>private</td>\n",
       "      <td>proposal</td>\n",
       "      <td>2000</td>\n",
       "      <td>control</td>\n",
       "      <td>limousine</td>\n",
       "      <td>2004</td>\n",
       "      <td>manual</td>\n",
       "      <td>105</td>\n",
       "      <td>3_reihe</td>\n",
       "      <td>150000</td>\n",
       "      <td>12</td>\n",
       "      <td>gasoline</td>\n",
       "      <td>mazda</td>\n",
       "      <td>no</td>\n",
       "      <td>2016-03-26 00:00:00</td>\n",
       "      <td>0</td>\n",
       "      <td>96224</td>\n",
       "      <td>2016-04-06 10:45:34</td>\n",
       "      <td>19</td>\n",
       "    </tr>\n",
       "  </tbody>\n",
       "</table>\n",
       "</div>"
      ],
      "text/plain": [
       "               dateCrawled                                               name  \\\n",
       "index                                                                           \n",
       "3      2016-03-17 16:54:04                                 GOLF_4_1_4__3TÜRER   \n",
       "4      2016-03-31 17:25:20                     Skoda_Fabia_1.4_TDI_PD_Classic   \n",
       "5      2016-04-04 17:36:23  BMW_316i___e36_Limousine___Bastlerfahrzeug__Ex...   \n",
       "6      2016-04-01 20:48:51                        Peugeot_206_CC_110_Platinum   \n",
       "10     2016-03-26 19:54:18                                  Mazda_3_1.6_Sport   \n",
       "\n",
       "        seller offerType  price   abtest vehicleType  yearOfRegistration  \\\n",
       "index                                                                      \n",
       "3      private  proposal   1500     test  kleinwagen                2001   \n",
       "4      private  proposal   3600     test  kleinwagen                2008   \n",
       "5      private  proposal    650     test   limousine                1995   \n",
       "6      private  proposal   2200     test      cabrio                2004   \n",
       "10     private  proposal   2000  control   limousine                2004   \n",
       "\n",
       "      gearbox  powerPS    model  kilometer  monthOfRegistration  fuelType  \\\n",
       "index                                                                       \n",
       "3      manual       75     golf     150000                    6  gasoline   \n",
       "4      manual       69    fabia      90000                    7    diesel   \n",
       "5      manual      102      3er     150000                   10  gasoline   \n",
       "6      manual      109  2_reihe     150000                    8  gasoline   \n",
       "10     manual      105  3_reihe     150000                   12  gasoline   \n",
       "\n",
       "            brand notRepairedDamage          dateCreated  nrOfPictures  \\\n",
       "index                                                                    \n",
       "3      volkswagen                no  2016-03-17 00:00:00             0   \n",
       "4           skoda                no  2016-03-31 00:00:00             0   \n",
       "5             bmw               yes  2016-04-04 00:00:00             0   \n",
       "6         peugeot                no  2016-04-01 00:00:00             0   \n",
       "10          mazda                no  2016-03-26 00:00:00             0   \n",
       "\n",
       "       postalCode             lastSeen  Car_age  \n",
       "index                                            \n",
       "3           91074  2016-03-17 17:40:17       22  \n",
       "4           60437  2016-04-06 10:17:21       15  \n",
       "5           33775  2016-04-06 19:17:07       28  \n",
       "6           67112  2016-04-05 18:18:39       19  \n",
       "10          96224  2016-04-06 10:45:34       19  "
      ]
     },
     "execution_count": 41,
     "metadata": {},
     "output_type": "execute_result"
    }
   ],
   "source": [
    "df_2.head()"
   ]
  },
  {
   "cell_type": "code",
   "execution_count": 42,
   "id": "50667dc7",
   "metadata": {},
   "outputs": [],
   "source": [
    "#df_2['monthOfRegistration']=df_2['monthOfRegistration'].astype('object')"
   ]
  },
  {
   "cell_type": "code",
   "execution_count": null,
   "id": "30618ccd",
   "metadata": {},
   "outputs": [],
   "source": []
  },
  {
   "cell_type": "code",
   "execution_count": 43,
   "id": "3640d724",
   "metadata": {},
   "outputs": [],
   "source": [
    "# Dropping the insignificant columns\n",
    "\n",
    "df_2.drop(['nrOfPictures','postalCode','monthOfRegistration'],axis=1,inplace=True)\n",
    "\n",
    "# nrOfPictures - all the values 0\n",
    "# postalCode - irrelavent for predicting the price of the car\n",
    "# monthOfRegistration - mot much help for interpreting price as we haev year of registration"
   ]
  },
  {
   "cell_type": "code",
   "execution_count": 44,
   "id": "cdda1fcb",
   "metadata": {},
   "outputs": [],
   "source": [
    "df_2_num=df_2.select_dtypes(include=np.number)"
   ]
  },
  {
   "cell_type": "code",
   "execution_count": 45,
   "id": "353a4141",
   "metadata": {},
   "outputs": [
    {
     "data": {
      "text/html": [
       "<div>\n",
       "<style scoped>\n",
       "    .dataframe tbody tr th:only-of-type {\n",
       "        vertical-align: middle;\n",
       "    }\n",
       "\n",
       "    .dataframe tbody tr th {\n",
       "        vertical-align: top;\n",
       "    }\n",
       "\n",
       "    .dataframe thead th {\n",
       "        text-align: right;\n",
       "    }\n",
       "</style>\n",
       "<table border=\"1\" class=\"dataframe\">\n",
       "  <thead>\n",
       "    <tr style=\"text-align: right;\">\n",
       "      <th></th>\n",
       "      <th>price</th>\n",
       "      <th>yearOfRegistration</th>\n",
       "      <th>powerPS</th>\n",
       "      <th>kilometer</th>\n",
       "      <th>Car_age</th>\n",
       "    </tr>\n",
       "    <tr>\n",
       "      <th>index</th>\n",
       "      <th></th>\n",
       "      <th></th>\n",
       "      <th></th>\n",
       "      <th></th>\n",
       "      <th></th>\n",
       "    </tr>\n",
       "  </thead>\n",
       "  <tbody>\n",
       "    <tr>\n",
       "      <th>3</th>\n",
       "      <td>1500</td>\n",
       "      <td>2001</td>\n",
       "      <td>75</td>\n",
       "      <td>150000</td>\n",
       "      <td>22</td>\n",
       "    </tr>\n",
       "    <tr>\n",
       "      <th>4</th>\n",
       "      <td>3600</td>\n",
       "      <td>2008</td>\n",
       "      <td>69</td>\n",
       "      <td>90000</td>\n",
       "      <td>15</td>\n",
       "    </tr>\n",
       "    <tr>\n",
       "      <th>5</th>\n",
       "      <td>650</td>\n",
       "      <td>1995</td>\n",
       "      <td>102</td>\n",
       "      <td>150000</td>\n",
       "      <td>28</td>\n",
       "    </tr>\n",
       "    <tr>\n",
       "      <th>6</th>\n",
       "      <td>2200</td>\n",
       "      <td>2004</td>\n",
       "      <td>109</td>\n",
       "      <td>150000</td>\n",
       "      <td>19</td>\n",
       "    </tr>\n",
       "    <tr>\n",
       "      <th>10</th>\n",
       "      <td>2000</td>\n",
       "      <td>2004</td>\n",
       "      <td>105</td>\n",
       "      <td>150000</td>\n",
       "      <td>19</td>\n",
       "    </tr>\n",
       "  </tbody>\n",
       "</table>\n",
       "</div>"
      ],
      "text/plain": [
       "       price  yearOfRegistration  powerPS  kilometer  Car_age\n",
       "index                                                        \n",
       "3       1500                2001       75     150000       22\n",
       "4       3600                2008       69      90000       15\n",
       "5        650                1995      102     150000       28\n",
       "6       2200                2004      109     150000       19\n",
       "10      2000                2004      105     150000       19"
      ]
     },
     "execution_count": 45,
     "metadata": {},
     "output_type": "execute_result"
    }
   ],
   "source": [
    "df_2_num.head()\n",
    "#we drop columns 'nrOfPictures' and 'postalCode'"
   ]
  },
  {
   "cell_type": "markdown",
   "id": "17487ba8",
   "metadata": {},
   "source": [
    "### Boxplot"
   ]
  },
  {
   "cell_type": "code",
   "execution_count": 46,
   "id": "ed50fed1",
   "metadata": {},
   "outputs": [
    {
     "data": {
      "text/plain": [
       "<Figure size 300x400 with 0 Axes>"
      ]
     },
     "metadata": {},
     "output_type": "display_data"
    },
    {
     "data": {
      "image/png": "[encoded data removed]",
      "text/plain": [
       "<Figure size 640x480 with 1 Axes>"
      ]
     },
     "metadata": {},
     "output_type": "display_data"
    },
    {
     "data": {
      "image/png": "[encoded data removed]",
      "text/plain": [
       "<Figure size 640x480 with 1 Axes>"
      ]
     },
     "metadata": {},
     "output_type": "display_data"
    },
    {
     "data": {
      "image/png": "[encoded data removed]",
      "text/plain": [
       "<Figure size 640x480 with 1 Axes>"
      ]
     },
     "metadata": {},
     "output_type": "display_data"
    },
    {
     "data": {
      "image/png": "[encoded data removed]",
      "text/plain": [
       "<Figure size 640x480 with 1 Axes>"
      ]
     },
     "metadata": {},
     "output_type": "display_data"
    },
    {
     "data": {
      "image/png": "[encoded data removed]",
      "text/plain": [
       "<Figure size 640x480 with 1 Axes>"
      ]
     },
     "metadata": {},
     "output_type": "display_data"
    }
   ],
   "source": [
    "plt.figure(figsize=(3,4))\n",
    "\n",
    "for column in df_2_num.columns:\n",
    "    plt.figure()  # Create a new figure for each box plot\n",
    "    plt.boxplot(df_2_num[column])\n",
    "    plt.title(f'Box Plot for {column}')\n",
    "    plt.ylabel('Values')\n",
    "    plt.show()"
   ]
  },
  {
   "cell_type": "markdown",
   "id": "e3becf29",
   "metadata": {},
   "source": [
    "### Distplot"
   ]
  },
  {
   "cell_type": "code",
   "execution_count": 47,
   "id": "de944504",
   "metadata": {},
   "outputs": [
    {
     "data": {
      "image/png": "[encoded data removed]",
      "text/plain": [
       "<Figure size 1000x400 with 6 Axes>"
      ]
     },
     "metadata": {},
     "output_type": "display_data"
    }
   ],
   "source": [
    "#create\n",
    "fig,ax=plt.subplots(2,3,figsize=(10,4))\n",
    "\n",
    "for col,subplot in zip(df_2_num,ax.flatten()):\n",
    "    sns.distplot(df_2_num[col],kde=True,ax=subplot)\n",
    "    \n",
    "plt.tight_layout()\n",
    "plt.show()"
   ]
  },
  {
   "cell_type": "code",
   "execution_count": 48,
   "id": "7c56605b",
   "metadata": {},
   "outputs": [
    {
     "data": {
      "text/plain": [
       "Index(['dateCrawled', 'name', 'seller', 'offerType', 'price', 'abtest',\n",
       "       'vehicleType', 'yearOfRegistration', 'gearbox', 'powerPS', 'model',\n",
       "       'kilometer', 'fuelType', 'brand', 'notRepairedDamage', 'dateCreated',\n",
       "       'lastSeen', 'Car_age'],\n",
       "      dtype='object')"
      ]
     },
     "execution_count": 48,
     "metadata": {},
     "output_type": "execute_result"
    }
   ],
   "source": [
    "df_2.columns"
   ]
  },
  {
   "cell_type": "code",
   "execution_count": 49,
   "id": "902ba74b",
   "metadata": {},
   "outputs": [],
   "source": [
    "#we try here to detect outliers using the dbscan method\n",
    "#we do need to normalize the data before we implement dbscan"
   ]
  },
  {
   "cell_type": "code",
   "execution_count": null,
   "id": "3016f4dc",
   "metadata": {},
   "outputs": [],
   "source": []
  },
  {
   "cell_type": "code",
   "execution_count": 50,
   "id": "fff2706e",
   "metadata": {},
   "outputs": [
    {
     "data": {
      "text/html": [
       "<div>\n",
       "<style scoped>\n",
       "    .dataframe tbody tr th:only-of-type {\n",
       "        vertical-align: middle;\n",
       "    }\n",
       "\n",
       "    .dataframe tbody tr th {\n",
       "        vertical-align: top;\n",
       "    }\n",
       "\n",
       "    .dataframe thead th {\n",
       "        text-align: right;\n",
       "    }\n",
       "</style>\n",
       "<table border=\"1\" class=\"dataframe\">\n",
       "  <thead>\n",
       "    <tr style=\"text-align: right;\">\n",
       "      <th></th>\n",
       "      <th>seller</th>\n",
       "      <th>offerType</th>\n",
       "      <th>abtest</th>\n",
       "      <th>vehicleType</th>\n",
       "      <th>gearbox</th>\n",
       "      <th>fuelType</th>\n",
       "      <th>brand</th>\n",
       "      <th>notRepairedDamage</th>\n",
       "    </tr>\n",
       "    <tr>\n",
       "      <th>index</th>\n",
       "      <th></th>\n",
       "      <th></th>\n",
       "      <th></th>\n",
       "      <th></th>\n",
       "      <th></th>\n",
       "      <th></th>\n",
       "      <th></th>\n",
       "      <th></th>\n",
       "    </tr>\n",
       "  </thead>\n",
       "  <tbody>\n",
       "    <tr>\n",
       "      <th>3</th>\n",
       "      <td>private</td>\n",
       "      <td>proposal</td>\n",
       "      <td>test</td>\n",
       "      <td>kleinwagen</td>\n",
       "      <td>manual</td>\n",
       "      <td>gasoline</td>\n",
       "      <td>volkswagen</td>\n",
       "      <td>no</td>\n",
       "    </tr>\n",
       "    <tr>\n",
       "      <th>4</th>\n",
       "      <td>private</td>\n",
       "      <td>proposal</td>\n",
       "      <td>test</td>\n",
       "      <td>kleinwagen</td>\n",
       "      <td>manual</td>\n",
       "      <td>diesel</td>\n",
       "      <td>skoda</td>\n",
       "      <td>no</td>\n",
       "    </tr>\n",
       "    <tr>\n",
       "      <th>5</th>\n",
       "      <td>private</td>\n",
       "      <td>proposal</td>\n",
       "      <td>test</td>\n",
       "      <td>limousine</td>\n",
       "      <td>manual</td>\n",
       "      <td>gasoline</td>\n",
       "      <td>bmw</td>\n",
       "      <td>yes</td>\n",
       "    </tr>\n",
       "    <tr>\n",
       "      <th>6</th>\n",
       "      <td>private</td>\n",
       "      <td>proposal</td>\n",
       "      <td>test</td>\n",
       "      <td>cabrio</td>\n",
       "      <td>manual</td>\n",
       "      <td>gasoline</td>\n",
       "      <td>peugeot</td>\n",
       "      <td>no</td>\n",
       "    </tr>\n",
       "    <tr>\n",
       "      <th>10</th>\n",
       "      <td>private</td>\n",
       "      <td>proposal</td>\n",
       "      <td>control</td>\n",
       "      <td>limousine</td>\n",
       "      <td>manual</td>\n",
       "      <td>gasoline</td>\n",
       "      <td>mazda</td>\n",
       "      <td>no</td>\n",
       "    </tr>\n",
       "  </tbody>\n",
       "</table>\n",
       "</div>"
      ],
      "text/plain": [
       "        seller offerType   abtest vehicleType gearbox  fuelType       brand  \\\n",
       "index                                                                         \n",
       "3      private  proposal     test  kleinwagen  manual  gasoline  volkswagen   \n",
       "4      private  proposal     test  kleinwagen  manual    diesel       skoda   \n",
       "5      private  proposal     test   limousine  manual  gasoline         bmw   \n",
       "6      private  proposal     test      cabrio  manual  gasoline     peugeot   \n",
       "10     private  proposal  control   limousine  manual  gasoline       mazda   \n",
       "\n",
       "      notRepairedDamage  \n",
       "index                    \n",
       "3                    no  \n",
       "4                    no  \n",
       "5                   yes  \n",
       "6                    no  \n",
       "10                   no  "
      ]
     },
     "execution_count": 50,
     "metadata": {},
     "output_type": "execute_result"
    }
   ],
   "source": [
    "# selecting only the relavent variables\n",
    "\n",
    "df_2_cat=df_2.select_dtypes(exclude=np.number)\n",
    "df_cat=df_2_cat[['seller','offerType','abtest','vehicleType','gearbox','fuelType','brand','notRepairedDamage']]\n",
    "df_cat.head()"
   ]
  },
  {
   "cell_type": "code",
   "execution_count": 51,
   "id": "e8ea9cc7",
   "metadata": {},
   "outputs": [
    {
     "data": {
      "text/html": [
       "<div>\n",
       "<style scoped>\n",
       "    .dataframe tbody tr th:only-of-type {\n",
       "        vertical-align: middle;\n",
       "    }\n",
       "\n",
       "    .dataframe tbody tr th {\n",
       "        vertical-align: top;\n",
       "    }\n",
       "\n",
       "    .dataframe thead th {\n",
       "        text-align: right;\n",
       "    }\n",
       "</style>\n",
       "<table border=\"1\" class=\"dataframe\">\n",
       "  <thead>\n",
       "    <tr style=\"text-align: right;\">\n",
       "      <th></th>\n",
       "      <th>price</th>\n",
       "      <th>yearOfRegistration</th>\n",
       "      <th>powerPS</th>\n",
       "      <th>kilometer</th>\n",
       "      <th>Car_age</th>\n",
       "      <th>seller</th>\n",
       "      <th>offerType</th>\n",
       "      <th>abtest</th>\n",
       "      <th>vehicleType</th>\n",
       "      <th>gearbox</th>\n",
       "      <th>fuelType</th>\n",
       "      <th>brand</th>\n",
       "      <th>notRepairedDamage</th>\n",
       "    </tr>\n",
       "    <tr>\n",
       "      <th>index</th>\n",
       "      <th></th>\n",
       "      <th></th>\n",
       "      <th></th>\n",
       "      <th></th>\n",
       "      <th></th>\n",
       "      <th></th>\n",
       "      <th></th>\n",
       "      <th></th>\n",
       "      <th></th>\n",
       "      <th></th>\n",
       "      <th></th>\n",
       "      <th></th>\n",
       "      <th></th>\n",
       "    </tr>\n",
       "  </thead>\n",
       "  <tbody>\n",
       "    <tr>\n",
       "      <th>3</th>\n",
       "      <td>1500</td>\n",
       "      <td>2001</td>\n",
       "      <td>75</td>\n",
       "      <td>150000</td>\n",
       "      <td>22</td>\n",
       "      <td>private</td>\n",
       "      <td>proposal</td>\n",
       "      <td>test</td>\n",
       "      <td>kleinwagen</td>\n",
       "      <td>manual</td>\n",
       "      <td>gasoline</td>\n",
       "      <td>volkswagen</td>\n",
       "      <td>no</td>\n",
       "    </tr>\n",
       "    <tr>\n",
       "      <th>4</th>\n",
       "      <td>3600</td>\n",
       "      <td>2008</td>\n",
       "      <td>69</td>\n",
       "      <td>90000</td>\n",
       "      <td>15</td>\n",
       "      <td>private</td>\n",
       "      <td>proposal</td>\n",
       "      <td>test</td>\n",
       "      <td>kleinwagen</td>\n",
       "      <td>manual</td>\n",
       "      <td>diesel</td>\n",
       "      <td>skoda</td>\n",
       "      <td>no</td>\n",
       "    </tr>\n",
       "    <tr>\n",
       "      <th>5</th>\n",
       "      <td>650</td>\n",
       "      <td>1995</td>\n",
       "      <td>102</td>\n",
       "      <td>150000</td>\n",
       "      <td>28</td>\n",
       "      <td>private</td>\n",
       "      <td>proposal</td>\n",
       "      <td>test</td>\n",
       "      <td>limousine</td>\n",
       "      <td>manual</td>\n",
       "      <td>gasoline</td>\n",
       "      <td>bmw</td>\n",
       "      <td>yes</td>\n",
       "    </tr>\n",
       "    <tr>\n",
       "      <th>6</th>\n",
       "      <td>2200</td>\n",
       "      <td>2004</td>\n",
       "      <td>109</td>\n",
       "      <td>150000</td>\n",
       "      <td>19</td>\n",
       "      <td>private</td>\n",
       "      <td>proposal</td>\n",
       "      <td>test</td>\n",
       "      <td>cabrio</td>\n",
       "      <td>manual</td>\n",
       "      <td>gasoline</td>\n",
       "      <td>peugeot</td>\n",
       "      <td>no</td>\n",
       "    </tr>\n",
       "    <tr>\n",
       "      <th>10</th>\n",
       "      <td>2000</td>\n",
       "      <td>2004</td>\n",
       "      <td>105</td>\n",
       "      <td>150000</td>\n",
       "      <td>19</td>\n",
       "      <td>private</td>\n",
       "      <td>proposal</td>\n",
       "      <td>control</td>\n",
       "      <td>limousine</td>\n",
       "      <td>manual</td>\n",
       "      <td>gasoline</td>\n",
       "      <td>mazda</td>\n",
       "      <td>no</td>\n",
       "    </tr>\n",
       "  </tbody>\n",
       "</table>\n",
       "</div>"
      ],
      "text/plain": [
       "       price  yearOfRegistration  powerPS  kilometer  Car_age   seller  \\\n",
       "index                                                                    \n",
       "3       1500                2001       75     150000       22  private   \n",
       "4       3600                2008       69      90000       15  private   \n",
       "5        650                1995      102     150000       28  private   \n",
       "6       2200                2004      109     150000       19  private   \n",
       "10      2000                2004      105     150000       19  private   \n",
       "\n",
       "      offerType   abtest vehicleType gearbox  fuelType       brand  \\\n",
       "index                                                                \n",
       "3      proposal     test  kleinwagen  manual  gasoline  volkswagen   \n",
       "4      proposal     test  kleinwagen  manual    diesel       skoda   \n",
       "5      proposal     test   limousine  manual  gasoline         bmw   \n",
       "6      proposal     test      cabrio  manual  gasoline     peugeot   \n",
       "10     proposal  control   limousine  manual  gasoline       mazda   \n",
       "\n",
       "      notRepairedDamage  \n",
       "index                    \n",
       "3                    no  \n",
       "4                    no  \n",
       "5                   yes  \n",
       "6                    no  \n",
       "10                   no  "
      ]
     },
     "execution_count": 51,
     "metadata": {},
     "output_type": "execute_result"
    }
   ],
   "source": [
    "df_fin=pd.concat([df_2_num,df_cat],axis=1)\n",
    "df_fin.head()"
   ]
  },
  {
   "cell_type": "markdown",
   "id": "7ed00cf5",
   "metadata": {},
   "source": [
    "### Outliers using boxplot"
   ]
  },
  {
   "cell_type": "code",
   "execution_count": 52,
   "id": "6a9d35a5",
   "metadata": {},
   "outputs": [
    {
     "data": {
      "image/png": "[encoded data removed]",
      "text/plain": [
       "<Figure size 640x480 with 1 Axes>"
      ]
     },
     "metadata": {},
     "output_type": "display_data"
    },
    {
     "data": {
      "image/png": "[encoded data removed]",
      "text/plain": [
       "<Figure size 640x480 with 1 Axes>"
      ]
     },
     "metadata": {},
     "output_type": "display_data"
    },
    {
     "data": {
      "image/png": "[encoded data removed]",
      "text/plain": [
       "<Figure size 640x480 with 1 Axes>"
      ]
     },
     "metadata": {},
     "output_type": "display_data"
    },
    {
     "data": {
      "image/png": "[encoded data removed]",
      "text/plain": [
       "<Figure size 640x480 with 1 Axes>"
      ]
     },
     "metadata": {},
     "output_type": "display_data"
    },
    {
     "data": {
      "image/png": "[encoded data removed]",
      "text/plain": [
       "<Figure size 640x480 with 1 Axes>"
      ]
     },
     "metadata": {},
     "output_type": "display_data"
    }
   ],
   "source": [
    "df_2_num = df_fin.select_dtypes(include = np.number)\n",
    "\n",
    "for column in df_2_num.columns:\n",
    "    plt.figure()  # Create a new figure for each box plot\n",
    "    plt.boxplot(df_2_num[column])\n",
    "    plt.title(f'Box Plot for {column}')\n",
    "    plt.ylabel('Values')\n",
    "    plt.show()"
   ]
  },
  {
   "cell_type": "code",
   "execution_count": 53,
   "id": "9a9cf350",
   "metadata": {},
   "outputs": [
    {
     "data": {
      "text/plain": [
       "price                 275.013830\n",
       "yearOfRegistration     -1.110697\n",
       "powerPS                 3.079743\n",
       "kilometer              -1.345553\n",
       "Car_age                 1.110697\n",
       "dtype: float64"
      ]
     },
     "execution_count": 53,
     "metadata": {},
     "output_type": "execute_result"
    }
   ],
   "source": [
    "# checking the skewness of the data\n",
    "\n",
    "df_fin.skew()"
   ]
  },
  {
   "cell_type": "markdown",
   "id": "76d9dd27",
   "metadata": {},
   "source": [
    "###  Outlier Treatment"
   ]
  },
  {
   "cell_type": "code",
   "execution_count": 54,
   "id": "af653af8",
   "metadata": {},
   "outputs": [
    {
     "data": {
      "text/plain": [
       "(217709, 13)"
      ]
     },
     "execution_count": 54,
     "metadata": {},
     "output_type": "execute_result"
    }
   ],
   "source": [
    "q1=df_fin.quantile(0.25)\n",
    "q3=df_fin.quantile(0.75)\n",
    "iqr=q3-q1\n",
    "ul=q3+(1.5*iqr)\n",
    "ll=q1-(1.5*iqr)\n",
    "\n",
    "df_rem=df_fin[~((df_fin>ul)|(df_fin<ll)).any(axis=1)]\n",
    "df_rem.shape"
   ]
  },
  {
   "cell_type": "code",
   "execution_count": 55,
   "id": "dd15bf13",
   "metadata": {},
   "outputs": [
    {
     "data": {
      "text/plain": [
       "price                 1.223923\n",
       "yearOfRegistration   -0.252323\n",
       "powerPS               0.634762\n",
       "kilometer            -1.480627\n",
       "Car_age               0.252323\n",
       "dtype: float64"
      ]
     },
     "execution_count": 55,
     "metadata": {},
     "output_type": "execute_result"
    }
   ],
   "source": [
    "df_rem.skew()"
   ]
  },
  {
   "cell_type": "code",
   "execution_count": 56,
   "id": "542f9b09",
   "metadata": {},
   "outputs": [
    {
     "data": {
      "text/plain": [
       "private    217709\n",
       "Name: seller, dtype: int64"
      ]
     },
     "execution_count": 56,
     "metadata": {},
     "output_type": "execute_result"
    }
   ],
   "source": [
    "df_rem['seller'].value_counts()"
   ]
  },
  {
   "cell_type": "markdown",
   "id": "c67ce728",
   "metadata": {},
   "source": [
    "### statistical tests"
   ]
  },
  {
   "cell_type": "code",
   "execution_count": 57,
   "id": "1815f64e",
   "metadata": {},
   "outputs": [],
   "source": [
    "import scipy.stats as stats"
   ]
  },
  {
   "cell_type": "code",
   "execution_count": 58,
   "id": "7b19f103",
   "metadata": {},
   "outputs": [
    {
     "data": {
      "text/plain": [
       "array(['private'], dtype=object)"
      ]
     },
     "execution_count": 58,
     "metadata": {},
     "output_type": "execute_result"
    }
   ],
   "source": [
    "df_rem['seller'].unique()\n",
    "#since there is only one type of seller that is private we drop it"
   ]
  },
  {
   "cell_type": "code",
   "execution_count": 59,
   "id": "c8714f83",
   "metadata": {},
   "outputs": [],
   "source": [
    "df_rem.drop('seller',axis=1,inplace=True)"
   ]
  },
  {
   "cell_type": "code",
   "execution_count": 60,
   "id": "4bdf5e0a",
   "metadata": {},
   "outputs": [
    {
     "data": {
      "text/html": [
       "<div>\n",
       "<style scoped>\n",
       "    .dataframe tbody tr th:only-of-type {\n",
       "        vertical-align: middle;\n",
       "    }\n",
       "\n",
       "    .dataframe tbody tr th {\n",
       "        vertical-align: top;\n",
       "    }\n",
       "\n",
       "    .dataframe thead th {\n",
       "        text-align: right;\n",
       "    }\n",
       "</style>\n",
       "<table border=\"1\" class=\"dataframe\">\n",
       "  <thead>\n",
       "    <tr style=\"text-align: right;\">\n",
       "      <th></th>\n",
       "      <th>price</th>\n",
       "      <th>yearOfRegistration</th>\n",
       "      <th>powerPS</th>\n",
       "      <th>kilometer</th>\n",
       "      <th>Car_age</th>\n",
       "      <th>offerType</th>\n",
       "      <th>abtest</th>\n",
       "      <th>vehicleType</th>\n",
       "      <th>gearbox</th>\n",
       "      <th>fuelType</th>\n",
       "      <th>brand</th>\n",
       "      <th>notRepairedDamage</th>\n",
       "    </tr>\n",
       "    <tr>\n",
       "      <th>index</th>\n",
       "      <th></th>\n",
       "      <th></th>\n",
       "      <th></th>\n",
       "      <th></th>\n",
       "      <th></th>\n",
       "      <th></th>\n",
       "      <th></th>\n",
       "      <th></th>\n",
       "      <th></th>\n",
       "      <th></th>\n",
       "      <th></th>\n",
       "      <th></th>\n",
       "    </tr>\n",
       "  </thead>\n",
       "  <tbody>\n",
       "    <tr>\n",
       "      <th>3</th>\n",
       "      <td>1500</td>\n",
       "      <td>2001</td>\n",
       "      <td>75</td>\n",
       "      <td>150000</td>\n",
       "      <td>22</td>\n",
       "      <td>proposal</td>\n",
       "      <td>test</td>\n",
       "      <td>kleinwagen</td>\n",
       "      <td>manual</td>\n",
       "      <td>gasoline</td>\n",
       "      <td>volkswagen</td>\n",
       "      <td>no</td>\n",
       "    </tr>\n",
       "    <tr>\n",
       "      <th>4</th>\n",
       "      <td>3600</td>\n",
       "      <td>2008</td>\n",
       "      <td>69</td>\n",
       "      <td>90000</td>\n",
       "      <td>15</td>\n",
       "      <td>proposal</td>\n",
       "      <td>test</td>\n",
       "      <td>kleinwagen</td>\n",
       "      <td>manual</td>\n",
       "      <td>diesel</td>\n",
       "      <td>skoda</td>\n",
       "      <td>no</td>\n",
       "    </tr>\n",
       "    <tr>\n",
       "      <th>5</th>\n",
       "      <td>650</td>\n",
       "      <td>1995</td>\n",
       "      <td>102</td>\n",
       "      <td>150000</td>\n",
       "      <td>28</td>\n",
       "      <td>proposal</td>\n",
       "      <td>test</td>\n",
       "      <td>limousine</td>\n",
       "      <td>manual</td>\n",
       "      <td>gasoline</td>\n",
       "      <td>bmw</td>\n",
       "      <td>yes</td>\n",
       "    </tr>\n",
       "    <tr>\n",
       "      <th>6</th>\n",
       "      <td>2200</td>\n",
       "      <td>2004</td>\n",
       "      <td>109</td>\n",
       "      <td>150000</td>\n",
       "      <td>19</td>\n",
       "      <td>proposal</td>\n",
       "      <td>test</td>\n",
       "      <td>cabrio</td>\n",
       "      <td>manual</td>\n",
       "      <td>gasoline</td>\n",
       "      <td>peugeot</td>\n",
       "      <td>no</td>\n",
       "    </tr>\n",
       "    <tr>\n",
       "      <th>10</th>\n",
       "      <td>2000</td>\n",
       "      <td>2004</td>\n",
       "      <td>105</td>\n",
       "      <td>150000</td>\n",
       "      <td>19</td>\n",
       "      <td>proposal</td>\n",
       "      <td>control</td>\n",
       "      <td>limousine</td>\n",
       "      <td>manual</td>\n",
       "      <td>gasoline</td>\n",
       "      <td>mazda</td>\n",
       "      <td>no</td>\n",
       "    </tr>\n",
       "  </tbody>\n",
       "</table>\n",
       "</div>"
      ],
      "text/plain": [
       "       price  yearOfRegistration  powerPS  kilometer  Car_age offerType  \\\n",
       "index                                                                     \n",
       "3       1500                2001       75     150000       22  proposal   \n",
       "4       3600                2008       69      90000       15  proposal   \n",
       "5        650                1995      102     150000       28  proposal   \n",
       "6       2200                2004      109     150000       19  proposal   \n",
       "10      2000                2004      105     150000       19  proposal   \n",
       "\n",
       "        abtest vehicleType gearbox  fuelType       brand notRepairedDamage  \n",
       "index                                                                       \n",
       "3         test  kleinwagen  manual  gasoline  volkswagen                no  \n",
       "4         test  kleinwagen  manual    diesel       skoda                no  \n",
       "5         test   limousine  manual  gasoline         bmw               yes  \n",
       "6         test      cabrio  manual  gasoline     peugeot                no  \n",
       "10     control   limousine  manual  gasoline       mazda                no  "
      ]
     },
     "execution_count": 60,
     "metadata": {},
     "output_type": "execute_result"
    }
   ],
   "source": [
    "df_rem.head()"
   ]
  },
  {
   "cell_type": "code",
   "execution_count": 61,
   "id": "0995d091",
   "metadata": {},
   "outputs": [],
   "source": [
    "from statsmodels.stats import weightstats as stests"
   ]
  },
  {
   "cell_type": "code",
   "execution_count": 62,
   "id": "df7caa7d",
   "metadata": {},
   "outputs": [
    {
     "name": "stdout",
     "output_type": "stream",
     "text": [
      "P value nan\n",
      "Retain H0\n",
      "nan\n"
     ]
    }
   ],
   "source": [
    "# online_order\n",
    "\n",
    "# H0: Not significant\n",
    "# H1: Significant\n",
    "# Alpha =0.05\n",
    "\n",
    "group_a = df_rem[df_rem['offerType']=='proposal']['price']\n",
    "group_b = df_rem[df_rem['offerType']=='request']['price']\n",
    "\n",
    "t_statistic,p_value=stats.ttest_ind(group_a,group_b)\n",
    "\n",
    "if p_value<0.05:\n",
    "    print(\"P value\",p_value)\n",
    "    print(\"Reject H0\")\n",
    "else:\n",
    "    print(\"P value\",p_value)\n",
    "    print(\"Retain H0\")\n",
    "    \n",
    "print(t_statistic)"
   ]
  },
  {
   "cell_type": "code",
   "execution_count": 63,
   "id": "2a68b61c",
   "metadata": {},
   "outputs": [
    {
     "data": {
      "text/plain": [
       "index\n",
       "3         1500\n",
       "4         3600\n",
       "5          650\n",
       "6         2200\n",
       "10        2000\n",
       "          ... \n",
       "371516    1490\n",
       "371517    7900\n",
       "371520    3200\n",
       "371524    1199\n",
       "371525    9200\n",
       "Name: price, Length: 217708, dtype: int64"
      ]
     },
     "execution_count": 63,
     "metadata": {},
     "output_type": "execute_result"
    }
   ],
   "source": [
    "group_a"
   ]
  },
  {
   "cell_type": "code",
   "execution_count": 64,
   "id": "33faedad",
   "metadata": {},
   "outputs": [
    {
     "data": {
      "text/plain": [
       "index\n",
       "315232    1550\n",
       "Name: price, dtype: int64"
      ]
     },
     "execution_count": 64,
     "metadata": {},
     "output_type": "execute_result"
    }
   ],
   "source": [
    "group_b"
   ]
  },
  {
   "cell_type": "code",
   "execution_count": null,
   "id": "89b1b0cf",
   "metadata": {},
   "outputs": [],
   "source": []
  },
  {
   "cell_type": "code",
   "execution_count": 65,
   "id": "c4f650c7",
   "metadata": {},
   "outputs": [
    {
     "name": "stdout",
     "output_type": "stream",
     "text": [
      "P value 0.0\n",
      "Reject H0\n"
     ]
    }
   ],
   "source": [
    "# online_order\n",
    "\n",
    "# H0:Not significant\n",
    "# H1: Significant\n",
    "# Alpha =0.05\n",
    "\n",
    "group_a = df_rem[df_rem['gearbox']=='manual']['price']\n",
    "group_b = df_rem[df_rem['gearbox']=='automatic']['price']\n",
    "\n",
    "t_statistic,p_value = stats.ttest_ind(group_a,group_b)\n",
    "\n",
    "if p_value<0.05:\n",
    "    print(\"P value\",p_value)\n",
    "    print(\"Reject H0\")\n",
    "else:\n",
    "    print(\"P value\",p_value)\n",
    "    print(\"Retain H0\")"
   ]
  },
  {
   "cell_type": "code",
   "execution_count": 66,
   "id": "043cc938",
   "metadata": {},
   "outputs": [
    {
     "data": {
      "text/plain": [
       "(-112.90037955784007, 0.0)"
      ]
     },
     "execution_count": 66,
     "metadata": {},
     "output_type": "execute_result"
    }
   ],
   "source": [
    "t_statistic, p_value"
   ]
  },
  {
   "cell_type": "code",
   "execution_count": null,
   "id": "9f8fe3ea",
   "metadata": {},
   "outputs": [],
   "source": []
  },
  {
   "cell_type": "code",
   "execution_count": 67,
   "id": "de6b3673",
   "metadata": {},
   "outputs": [
    {
     "data": {
      "text/plain": [
       "array(['benzin', 'diesel', nan, 'lpg', 'andere', 'hybrid', 'cng',\n",
       "       'elektro'], dtype=object)"
      ]
     },
     "execution_count": 67,
     "metadata": {},
     "output_type": "execute_result"
    }
   ],
   "source": [
    "df['fuelType'].unique()"
   ]
  },
  {
   "cell_type": "code",
   "execution_count": 68,
   "id": "75bf8966",
   "metadata": {},
   "outputs": [
    {
     "name": "stdout",
     "output_type": "stream",
     "text": [
      "1125907182.16 1069170426.28\n"
     ]
    }
   ],
   "source": [
    "#we want to check if variance of kilometers of manual and automatic cars are different\n",
    "\n",
    "sample_manual= df_rem[df_rem['gearbox']=='manual']['kilometer']\n",
    "sample_automatic= df_rem[df_rem['gearbox']=='automatic']['kilometer']\n",
    "\n",
    "v1,v2=np.var(sample_manual),np.var(sample_automatic)\n",
    "print(round(v1,2),round(v2,2))\n",
    "\n",
    "#the variance of kilometers for manual is higher than that of automatic"
   ]
  },
  {
   "cell_type": "code",
   "execution_count": 69,
   "id": "14df0cd9",
   "metadata": {},
   "outputs": [
    {
     "name": "stdout",
     "output_type": "stream",
     "text": [
      "                sum_sq        df          F  PR(>F)\n",
      "brand     4.790792e+11      37.0  713.93292     0.0\n",
      "Residual  3.947742e+12  217671.0        NaN     NaN\n"
     ]
    }
   ],
   "source": [
    "#we want to find out if the prices for different car brands are the same or different\n",
    "\n",
    "import statsmodels.api as sm\n",
    "from statsmodels.formula.api import ols\n",
    "\n",
    "mod=ols('price~brand',data=df_rem).fit()\n",
    "aov_table=sm.stats.anova_lm(mod,typ=2)\n",
    "print(aov_table)\n",
    "\n",
    "#we reject the null hypothesis infering that at least one of the price means of the \n",
    "#brands are different\n"
   ]
  },
  {
   "cell_type": "code",
   "execution_count": 70,
   "id": "5f183e52",
   "metadata": {},
   "outputs": [
    {
     "data": {
      "text/plain": [
       "(array([ 0,  1,  2,  3,  4,  5,  6,  7,  8,  9, 10, 11, 12, 13, 14, 15, 16,\n",
       "        17, 18, 19, 20, 21, 22, 23, 24, 25, 26, 27, 28, 29, 30, 31, 32, 33,\n",
       "        34, 35, 36, 37]),\n",
       " [Text(0, 0, 'volkswagen'),\n",
       "  Text(1, 0, 'skoda'),\n",
       "  Text(2, 0, 'bmw'),\n",
       "  Text(3, 0, 'peugeot'),\n",
       "  Text(4, 0, 'mazda'),\n",
       "  Text(5, 0, 'nissan'),\n",
       "  Text(6, 0, 'renault'),\n",
       "  Text(7, 0, 'ford'),\n",
       "  Text(8, 0, 'mercedes_benz'),\n",
       "  Text(9, 0, 'seat'),\n",
       "  Text(10, 0, 'honda'),\n",
       "  Text(11, 0, 'fiat'),\n",
       "  Text(12, 0, 'mini'),\n",
       "  Text(13, 0, 'smart'),\n",
       "  Text(14, 0, 'audi'),\n",
       "  Text(15, 0, 'alfa_romeo'),\n",
       "  Text(16, 0, 'subaru'),\n",
       "  Text(17, 0, 'mitsubishi'),\n",
       "  Text(18, 0, 'opel'),\n",
       "  Text(19, 0, 'hyundai'),\n",
       "  Text(20, 0, 'lancia'),\n",
       "  Text(21, 0, 'citroen'),\n",
       "  Text(22, 0, 'toyota'),\n",
       "  Text(23, 0, 'kia'),\n",
       "  Text(24, 0, 'chevrolet'),\n",
       "  Text(25, 0, 'dacia'),\n",
       "  Text(26, 0, 'suzuki'),\n",
       "  Text(27, 0, 'daihatsu'),\n",
       "  Text(28, 0, 'chrysler'),\n",
       "  Text(29, 0, 'volvo'),\n",
       "  Text(30, 0, 'jaguar'),\n",
       "  Text(31, 0, 'rover'),\n",
       "  Text(32, 0, 'porsche'),\n",
       "  Text(33, 0, 'jeep'),\n",
       "  Text(34, 0, 'saab'),\n",
       "  Text(35, 0, 'daewoo'),\n",
       "  Text(36, 0, 'land_rover'),\n",
       "  Text(37, 0, 'lada')])"
      ]
     },
     "execution_count": 70,
     "metadata": {},
     "output_type": "execute_result"
    },
    {
     "data": {
      "image/png": "[encoded data removed]",
      "text/plain": [
       "<Figure size 640x480 with 1 Axes>"
      ]
     },
     "metadata": {},
     "output_type": "display_data"
    }
   ],
   "source": [
    "sns.barplot(data=df_rem,x='brand',y='price')\n",
    "plt.xticks(rotation=90)"
   ]
  },
  {
   "cell_type": "code",
   "execution_count": 71,
   "id": "3c18e612",
   "metadata": {},
   "outputs": [
    {
     "data": {
      "text/plain": [
       "(array([ 0,  1,  2,  3,  4,  5,  6,  7,  8,  9, 10, 11, 12, 13, 14, 15, 16,\n",
       "        17, 18, 19, 20, 21, 22, 23, 24, 25, 26, 27, 28, 29, 30, 31, 32, 33,\n",
       "        34, 35, 36, 37]),\n",
       " [Text(0, 0, 'volkswagen'),\n",
       "  Text(1, 0, 'skoda'),\n",
       "  Text(2, 0, 'bmw'),\n",
       "  Text(3, 0, 'peugeot'),\n",
       "  Text(4, 0, 'mazda'),\n",
       "  Text(5, 0, 'nissan'),\n",
       "  Text(6, 0, 'renault'),\n",
       "  Text(7, 0, 'ford'),\n",
       "  Text(8, 0, 'mercedes_benz'),\n",
       "  Text(9, 0, 'seat'),\n",
       "  Text(10, 0, 'honda'),\n",
       "  Text(11, 0, 'fiat'),\n",
       "  Text(12, 0, 'mini'),\n",
       "  Text(13, 0, 'smart'),\n",
       "  Text(14, 0, 'audi'),\n",
       "  Text(15, 0, 'alfa_romeo'),\n",
       "  Text(16, 0, 'subaru'),\n",
       "  Text(17, 0, 'mitsubishi'),\n",
       "  Text(18, 0, 'opel'),\n",
       "  Text(19, 0, 'hyundai'),\n",
       "  Text(20, 0, 'lancia'),\n",
       "  Text(21, 0, 'citroen'),\n",
       "  Text(22, 0, 'toyota'),\n",
       "  Text(23, 0, 'kia'),\n",
       "  Text(24, 0, 'chevrolet'),\n",
       "  Text(25, 0, 'dacia'),\n",
       "  Text(26, 0, 'suzuki'),\n",
       "  Text(27, 0, 'daihatsu'),\n",
       "  Text(28, 0, 'chrysler'),\n",
       "  Text(29, 0, 'volvo'),\n",
       "  Text(30, 0, 'jaguar'),\n",
       "  Text(31, 0, 'rover'),\n",
       "  Text(32, 0, 'porsche'),\n",
       "  Text(33, 0, 'jeep'),\n",
       "  Text(34, 0, 'saab'),\n",
       "  Text(35, 0, 'daewoo'),\n",
       "  Text(36, 0, 'land_rover'),\n",
       "  Text(37, 0, 'lada')])"
      ]
     },
     "execution_count": 71,
     "metadata": {},
     "output_type": "execute_result"
    },
    {
     "data": {
      "image/png": "[encoded data removed]",
      "text/plain": [
       "<Figure size 640x480 with 1 Axes>"
      ]
     },
     "metadata": {},
     "output_type": "display_data"
    }
   ],
   "source": [
    "sns.barplot(data=df_rem,x='brand',y='Car_age')\n",
    "plt.xticks(rotation=90)"
   ]
  },
  {
   "cell_type": "code",
   "execution_count": 72,
   "id": "179d00df",
   "metadata": {},
   "outputs": [
    {
     "data": {
      "text/plain": [
       "(array([ 0,  1,  2,  3,  4,  5,  6,  7,  8,  9, 10, 11, 12, 13, 14, 15, 16,\n",
       "        17, 18, 19, 20, 21, 22, 23, 24, 25, 26, 27, 28, 29, 30, 31, 32, 33,\n",
       "        34, 35, 36, 37]),\n",
       " [Text(0, 0, 'volkswagen'),\n",
       "  Text(1, 0, 'skoda'),\n",
       "  Text(2, 0, 'bmw'),\n",
       "  Text(3, 0, 'peugeot'),\n",
       "  Text(4, 0, 'mazda'),\n",
       "  Text(5, 0, 'nissan'),\n",
       "  Text(6, 0, 'renault'),\n",
       "  Text(7, 0, 'ford'),\n",
       "  Text(8, 0, 'mercedes_benz'),\n",
       "  Text(9, 0, 'seat'),\n",
       "  Text(10, 0, 'honda'),\n",
       "  Text(11, 0, 'fiat'),\n",
       "  Text(12, 0, 'mini'),\n",
       "  Text(13, 0, 'smart'),\n",
       "  Text(14, 0, 'audi'),\n",
       "  Text(15, 0, 'alfa_romeo'),\n",
       "  Text(16, 0, 'subaru'),\n",
       "  Text(17, 0, 'mitsubishi'),\n",
       "  Text(18, 0, 'opel'),\n",
       "  Text(19, 0, 'hyundai'),\n",
       "  Text(20, 0, 'lancia'),\n",
       "  Text(21, 0, 'citroen'),\n",
       "  Text(22, 0, 'toyota'),\n",
       "  Text(23, 0, 'kia'),\n",
       "  Text(24, 0, 'chevrolet'),\n",
       "  Text(25, 0, 'dacia'),\n",
       "  Text(26, 0, 'suzuki'),\n",
       "  Text(27, 0, 'daihatsu'),\n",
       "  Text(28, 0, 'chrysler'),\n",
       "  Text(29, 0, 'volvo'),\n",
       "  Text(30, 0, 'jaguar'),\n",
       "  Text(31, 0, 'rover'),\n",
       "  Text(32, 0, 'porsche'),\n",
       "  Text(33, 0, 'jeep'),\n",
       "  Text(34, 0, 'saab'),\n",
       "  Text(35, 0, 'daewoo'),\n",
       "  Text(36, 0, 'land_rover'),\n",
       "  Text(37, 0, 'lada')])"
      ]
     },
     "execution_count": 72,
     "metadata": {},
     "output_type": "execute_result"
    },
    {
     "data": {
      "image/png": "[encoded data removed]",
      "text/plain": [
       "<Figure size 640x480 with 1 Axes>"
      ]
     },
     "metadata": {},
     "output_type": "display_data"
    }
   ],
   "source": [
    "sns.barplot(data=df_rem,x='brand',y='powerPS')\n",
    "plt.xticks(rotation=90)"
   ]
  },
  {
   "cell_type": "code",
   "execution_count": null,
   "id": "f20fe30c",
   "metadata": {},
   "outputs": [],
   "source": []
  },
  {
   "cell_type": "code",
   "execution_count": 73,
   "id": "069a6784",
   "metadata": {},
   "outputs": [
    {
     "name": "stdout",
     "output_type": "stream",
     "text": [
      "<class 'pandas.core.frame.DataFrame'>\n",
      "Int64Index: 217709 entries, 3 to 371525\n",
      "Data columns (total 12 columns):\n",
      " #   Column              Non-Null Count   Dtype \n",
      "---  ------              --------------   ----- \n",
      " 0   price               217709 non-null  int64 \n",
      " 1   yearOfRegistration  217709 non-null  int64 \n",
      " 2   powerPS             217709 non-null  int64 \n",
      " 3   kilometer           217709 non-null  int64 \n",
      " 4   Car_age             217709 non-null  int64 \n",
      " 5   offerType           217709 non-null  object\n",
      " 6   abtest              217709 non-null  object\n",
      " 7   vehicleType         217709 non-null  object\n",
      " 8   gearbox             217709 non-null  object\n",
      " 9   fuelType            217709 non-null  object\n",
      " 10  brand               217709 non-null  object\n",
      " 11  notRepairedDamage   217709 non-null  object\n",
      "dtypes: int64(5), object(7)\n",
      "memory usage: 21.6+ MB\n"
     ]
    }
   ],
   "source": [
    "df_rem.info()"
   ]
  },
  {
   "cell_type": "code",
   "execution_count": 74,
   "id": "d9c0ef9b",
   "metadata": {},
   "outputs": [],
   "source": [
    "df_rem.drop('yearOfRegistration',axis=1,inplace=True)\n",
    "cols=df_rem.select_dtypes(include=np.number).columns"
   ]
  },
  {
   "cell_type": "code",
   "execution_count": 75,
   "id": "d6ae8535",
   "metadata": {},
   "outputs": [
    {
     "data": {
      "image/png": "[encoded data removed]",
      "text/plain": [
       "<Figure size 1000x400 with 4 Axes>"
      ]
     },
     "metadata": {},
     "output_type": "display_data"
    }
   ],
   "source": [
    "#create\n",
    "fig,ax=plt.subplots(2,2,figsize=(10,4))\n",
    "\n",
    "for col,subplot in zip(cols,ax.flatten()):\n",
    "    sns.distplot(df_rem[col],kde=True,ax=subplot)\n",
    "    \n",
    "plt.tight_layout()\n",
    "plt.show()"
   ]
  },
  {
   "cell_type": "code",
   "execution_count": 76,
   "id": "62f659ca",
   "metadata": {},
   "outputs": [
    {
     "data": {
      "text/plain": [
       "price                         1\n",
       "powerPS                      50\n",
       "kilometer                 30000\n",
       "Car_age                       5\n",
       "offerType              proposal\n",
       "abtest                  control\n",
       "vehicleType              andere\n",
       "gearbox               automatic\n",
       "fuelType                    cng\n",
       "brand                alfa_romeo\n",
       "notRepairedDamage            no\n",
       "dtype: object"
      ]
     },
     "execution_count": 76,
     "metadata": {},
     "output_type": "execute_result"
    }
   ],
   "source": [
    "df_rem.min()"
   ]
  },
  {
   "cell_type": "markdown",
   "id": "e14a04f2",
   "metadata": {},
   "source": [
    "### Transformation"
   ]
  },
  {
   "cell_type": "code",
   "execution_count": 77,
   "id": "58c96e57",
   "metadata": {},
   "outputs": [
    {
     "data": {
      "text/html": [
       "<div>\n",
       "<style scoped>\n",
       "    .dataframe tbody tr th:only-of-type {\n",
       "        vertical-align: middle;\n",
       "    }\n",
       "\n",
       "    .dataframe tbody tr th {\n",
       "        vertical-align: top;\n",
       "    }\n",
       "\n",
       "    .dataframe thead th {\n",
       "        text-align: right;\n",
       "    }\n",
       "</style>\n",
       "<table border=\"1\" class=\"dataframe\">\n",
       "  <thead>\n",
       "    <tr style=\"text-align: right;\">\n",
       "      <th></th>\n",
       "      <th>price</th>\n",
       "      <th>powerPS</th>\n",
       "      <th>kilometer</th>\n",
       "      <th>Car_age</th>\n",
       "    </tr>\n",
       "    <tr>\n",
       "      <th>index</th>\n",
       "      <th></th>\n",
       "      <th></th>\n",
       "      <th></th>\n",
       "      <th></th>\n",
       "    </tr>\n",
       "  </thead>\n",
       "  <tbody>\n",
       "    <tr>\n",
       "      <th>3</th>\n",
       "      <td>-0.805802</td>\n",
       "      <td>-1.041791</td>\n",
       "      <td>0.688702</td>\n",
       "      <td>0.501919</td>\n",
       "    </tr>\n",
       "    <tr>\n",
       "      <th>4</th>\n",
       "      <td>-0.001518</td>\n",
       "      <td>-1.243704</td>\n",
       "      <td>-1.544705</td>\n",
       "      <td>-0.879621</td>\n",
       "    </tr>\n",
       "    <tr>\n",
       "      <th>5</th>\n",
       "      <td>-1.449251</td>\n",
       "      <td>-0.274169</td>\n",
       "      <td>0.688702</td>\n",
       "      <td>1.526674</td>\n",
       "    </tr>\n",
       "    <tr>\n",
       "      <th>6</th>\n",
       "      <td>-0.471788</td>\n",
       "      <td>-0.103645</td>\n",
       "      <td>0.688702</td>\n",
       "      <td>-0.060344</td>\n",
       "    </tr>\n",
       "    <tr>\n",
       "      <th>10</th>\n",
       "      <td>-0.557399</td>\n",
       "      <td>-0.199910</td>\n",
       "      <td>0.688702</td>\n",
       "      <td>-0.060344</td>\n",
       "    </tr>\n",
       "  </tbody>\n",
       "</table>\n",
       "</div>"
      ],
      "text/plain": [
       "          price   powerPS  kilometer   Car_age\n",
       "index                                         \n",
       "3     -0.805802 -1.041791   0.688702  0.501919\n",
       "4     -0.001518 -1.243704  -1.544705 -0.879621\n",
       "5     -1.449251 -0.274169   0.688702  1.526674\n",
       "6     -0.471788 -0.103645   0.688702 -0.060344\n",
       "10    -0.557399 -0.199910   0.688702 -0.060344"
      ]
     },
     "execution_count": 77,
     "metadata": {},
     "output_type": "execute_result"
    }
   ],
   "source": [
    "from sklearn.preprocessing import PowerTransformer\n",
    "\n",
    "df_numerical=df_rem.select_dtypes(include=np.number)\n",
    "pt=PowerTransformer(method='yeo-johnson')\n",
    "df_transformed=pd.DataFrame(pt.fit_transform(df_numerical),columns=df_numerical.columns, index =df_numerical.index )\n",
    "df_transformed.head()"
   ]
  },
  {
   "cell_type": "code",
   "execution_count": 78,
   "id": "fdcd5383",
   "metadata": {},
   "outputs": [
    {
     "data": {
      "text/plain": [
       "(217709, 4)"
      ]
     },
     "execution_count": 78,
     "metadata": {},
     "output_type": "execute_result"
    }
   ],
   "source": [
    "df_transformed.shape"
   ]
  },
  {
   "cell_type": "code",
   "execution_count": 79,
   "id": "5093d363",
   "metadata": {},
   "outputs": [
    {
     "data": {
      "image/png": "[encoded data removed]",
      "text/plain": [
       "<Figure size 1000x400 with 4 Axes>"
      ]
     },
     "metadata": {},
     "output_type": "display_data"
    }
   ],
   "source": [
    "# distribution of the data after tranforming the data\n",
    "\n",
    "cols=df_numerical.select_dtypes(include=np.number).columns\n",
    "\n",
    "fig,ax=plt.subplots(2,2,figsize=(10,4))\n",
    "\n",
    "for col,subplot in zip(cols,ax.flatten()):\n",
    "    sns.distplot(df_transformed[col],kde=True,ax=subplot)\n",
    "    \n",
    "plt.tight_layout()\n",
    "plt.show()"
   ]
  },
  {
   "cell_type": "code",
   "execution_count": null,
   "id": "d5f2c646",
   "metadata": {},
   "outputs": [],
   "source": []
  },
  {
   "cell_type": "code",
   "execution_count": 80,
   "id": "8b372d08",
   "metadata": {},
   "outputs": [
    {
     "data": {
      "text/html": [
       "<div>\n",
       "<style scoped>\n",
       "    .dataframe tbody tr th:only-of-type {\n",
       "        vertical-align: middle;\n",
       "    }\n",
       "\n",
       "    .dataframe tbody tr th {\n",
       "        vertical-align: top;\n",
       "    }\n",
       "\n",
       "    .dataframe thead th {\n",
       "        text-align: right;\n",
       "    }\n",
       "</style>\n",
       "<table border=\"1\" class=\"dataframe\">\n",
       "  <thead>\n",
       "    <tr style=\"text-align: right;\">\n",
       "      <th></th>\n",
       "      <th>offerType</th>\n",
       "      <th>abtest</th>\n",
       "      <th>vehicleType</th>\n",
       "      <th>gearbox</th>\n",
       "      <th>fuelType</th>\n",
       "      <th>brand</th>\n",
       "      <th>notRepairedDamage</th>\n",
       "    </tr>\n",
       "    <tr>\n",
       "      <th>index</th>\n",
       "      <th></th>\n",
       "      <th></th>\n",
       "      <th></th>\n",
       "      <th></th>\n",
       "      <th></th>\n",
       "      <th></th>\n",
       "      <th></th>\n",
       "    </tr>\n",
       "  </thead>\n",
       "  <tbody>\n",
       "    <tr>\n",
       "      <th>3</th>\n",
       "      <td>proposal</td>\n",
       "      <td>test</td>\n",
       "      <td>kleinwagen</td>\n",
       "      <td>manual</td>\n",
       "      <td>gasoline</td>\n",
       "      <td>volkswagen</td>\n",
       "      <td>no</td>\n",
       "    </tr>\n",
       "    <tr>\n",
       "      <th>4</th>\n",
       "      <td>proposal</td>\n",
       "      <td>test</td>\n",
       "      <td>kleinwagen</td>\n",
       "      <td>manual</td>\n",
       "      <td>diesel</td>\n",
       "      <td>skoda</td>\n",
       "      <td>no</td>\n",
       "    </tr>\n",
       "    <tr>\n",
       "      <th>5</th>\n",
       "      <td>proposal</td>\n",
       "      <td>test</td>\n",
       "      <td>limousine</td>\n",
       "      <td>manual</td>\n",
       "      <td>gasoline</td>\n",
       "      <td>bmw</td>\n",
       "      <td>yes</td>\n",
       "    </tr>\n",
       "    <tr>\n",
       "      <th>6</th>\n",
       "      <td>proposal</td>\n",
       "      <td>test</td>\n",
       "      <td>cabrio</td>\n",
       "      <td>manual</td>\n",
       "      <td>gasoline</td>\n",
       "      <td>peugeot</td>\n",
       "      <td>no</td>\n",
       "    </tr>\n",
       "    <tr>\n",
       "      <th>10</th>\n",
       "      <td>proposal</td>\n",
       "      <td>control</td>\n",
       "      <td>limousine</td>\n",
       "      <td>manual</td>\n",
       "      <td>gasoline</td>\n",
       "      <td>mazda</td>\n",
       "      <td>no</td>\n",
       "    </tr>\n",
       "  </tbody>\n",
       "</table>\n",
       "</div>"
      ],
      "text/plain": [
       "      offerType   abtest vehicleType gearbox  fuelType       brand  \\\n",
       "index                                                                \n",
       "3      proposal     test  kleinwagen  manual  gasoline  volkswagen   \n",
       "4      proposal     test  kleinwagen  manual    diesel       skoda   \n",
       "5      proposal     test   limousine  manual  gasoline         bmw   \n",
       "6      proposal     test      cabrio  manual  gasoline     peugeot   \n",
       "10     proposal  control   limousine  manual  gasoline       mazda   \n",
       "\n",
       "      notRepairedDamage  \n",
       "index                    \n",
       "3                    no  \n",
       "4                    no  \n",
       "5                   yes  \n",
       "6                    no  \n",
       "10                   no  "
      ]
     },
     "execution_count": 80,
     "metadata": {},
     "output_type": "execute_result"
    }
   ],
   "source": [
    "df_rem_cat=df_rem.select_dtypes(exclude=np.number)\n",
    "df_rem_cat.head()"
   ]
  },
  {
   "cell_type": "code",
   "execution_count": 81,
   "id": "8c0a14ef",
   "metadata": {},
   "outputs": [],
   "source": [
    "df_rem_cat=df_rem_cat.reset_index()"
   ]
  },
  {
   "cell_type": "code",
   "execution_count": 82,
   "id": "e3812637",
   "metadata": {},
   "outputs": [],
   "source": [
    "df_transformed=df_transformed.reset_index()"
   ]
  },
  {
   "cell_type": "code",
   "execution_count": 83,
   "id": "6e3d39ea",
   "metadata": {},
   "outputs": [
    {
     "data": {
      "text/html": [
       "<div>\n",
       "<style scoped>\n",
       "    .dataframe tbody tr th:only-of-type {\n",
       "        vertical-align: middle;\n",
       "    }\n",
       "\n",
       "    .dataframe tbody tr th {\n",
       "        vertical-align: top;\n",
       "    }\n",
       "\n",
       "    .dataframe thead th {\n",
       "        text-align: right;\n",
       "    }\n",
       "</style>\n",
       "<table border=\"1\" class=\"dataframe\">\n",
       "  <thead>\n",
       "    <tr style=\"text-align: right;\">\n",
       "      <th></th>\n",
       "      <th>index</th>\n",
       "      <th>price</th>\n",
       "      <th>powerPS</th>\n",
       "      <th>kilometer</th>\n",
       "      <th>Car_age</th>\n",
       "      <th>offerType</th>\n",
       "      <th>abtest</th>\n",
       "      <th>vehicleType</th>\n",
       "      <th>gearbox</th>\n",
       "      <th>fuelType</th>\n",
       "      <th>notRepairedDamage</th>\n",
       "    </tr>\n",
       "  </thead>\n",
       "  <tbody>\n",
       "    <tr>\n",
       "      <th>0</th>\n",
       "      <td>3</td>\n",
       "      <td>-0.805802</td>\n",
       "      <td>-1.041791</td>\n",
       "      <td>0.688702</td>\n",
       "      <td>0.501919</td>\n",
       "      <td>proposal</td>\n",
       "      <td>test</td>\n",
       "      <td>kleinwagen</td>\n",
       "      <td>manual</td>\n",
       "      <td>gasoline</td>\n",
       "      <td>no</td>\n",
       "    </tr>\n",
       "    <tr>\n",
       "      <th>1</th>\n",
       "      <td>4</td>\n",
       "      <td>-0.001518</td>\n",
       "      <td>-1.243704</td>\n",
       "      <td>-1.544705</td>\n",
       "      <td>-0.879621</td>\n",
       "      <td>proposal</td>\n",
       "      <td>test</td>\n",
       "      <td>kleinwagen</td>\n",
       "      <td>manual</td>\n",
       "      <td>diesel</td>\n",
       "      <td>no</td>\n",
       "    </tr>\n",
       "    <tr>\n",
       "      <th>2</th>\n",
       "      <td>5</td>\n",
       "      <td>-1.449251</td>\n",
       "      <td>-0.274169</td>\n",
       "      <td>0.688702</td>\n",
       "      <td>1.526674</td>\n",
       "      <td>proposal</td>\n",
       "      <td>test</td>\n",
       "      <td>limousine</td>\n",
       "      <td>manual</td>\n",
       "      <td>gasoline</td>\n",
       "      <td>yes</td>\n",
       "    </tr>\n",
       "    <tr>\n",
       "      <th>3</th>\n",
       "      <td>6</td>\n",
       "      <td>-0.471788</td>\n",
       "      <td>-0.103645</td>\n",
       "      <td>0.688702</td>\n",
       "      <td>-0.060344</td>\n",
       "      <td>proposal</td>\n",
       "      <td>test</td>\n",
       "      <td>cabrio</td>\n",
       "      <td>manual</td>\n",
       "      <td>gasoline</td>\n",
       "      <td>no</td>\n",
       "    </tr>\n",
       "    <tr>\n",
       "      <th>4</th>\n",
       "      <td>10</td>\n",
       "      <td>-0.557399</td>\n",
       "      <td>-0.199910</td>\n",
       "      <td>0.688702</td>\n",
       "      <td>-0.060344</td>\n",
       "      <td>proposal</td>\n",
       "      <td>control</td>\n",
       "      <td>limousine</td>\n",
       "      <td>manual</td>\n",
       "      <td>gasoline</td>\n",
       "      <td>no</td>\n",
       "    </tr>\n",
       "  </tbody>\n",
       "</table>\n",
       "</div>"
      ],
      "text/plain": [
       "   index     price   powerPS  kilometer   Car_age offerType   abtest  \\\n",
       "0      3 -0.805802 -1.041791   0.688702  0.501919  proposal     test   \n",
       "1      4 -0.001518 -1.243704  -1.544705 -0.879621  proposal     test   \n",
       "2      5 -1.449251 -0.274169   0.688702  1.526674  proposal     test   \n",
       "3      6 -0.471788 -0.103645   0.688702 -0.060344  proposal     test   \n",
       "4     10 -0.557399 -0.199910   0.688702 -0.060344  proposal  control   \n",
       "\n",
       "  vehicleType gearbox  fuelType notRepairedDamage  \n",
       "0  kleinwagen  manual  gasoline                no  \n",
       "1  kleinwagen  manual    diesel                no  \n",
       "2   limousine  manual  gasoline               yes  \n",
       "3      cabrio  manual  gasoline                no  \n",
       "4   limousine  manual  gasoline                no  "
      ]
     },
     "execution_count": 83,
     "metadata": {},
     "output_type": "execute_result"
    }
   ],
   "source": [
    "df_final_transformed=pd.merge(left=df_transformed,right=df_rem_cat,on='index',how='inner')\n",
    "df_final_transformed.drop('brand',axis=1,inplace=True)\n",
    "df_final_transformed.head()"
   ]
  },
  {
   "cell_type": "code",
   "execution_count": 84,
   "id": "494be325",
   "metadata": {},
   "outputs": [],
   "source": [
    "df_final_transformed.drop('index',axis=1,inplace=True)"
   ]
  },
  {
   "cell_type": "code",
   "execution_count": 85,
   "id": "5a194433",
   "metadata": {},
   "outputs": [
    {
     "data": {
      "text/html": [
       "<div>\n",
       "<style scoped>\n",
       "    .dataframe tbody tr th:only-of-type {\n",
       "        vertical-align: middle;\n",
       "    }\n",
       "\n",
       "    .dataframe tbody tr th {\n",
       "        vertical-align: top;\n",
       "    }\n",
       "\n",
       "    .dataframe thead th {\n",
       "        text-align: right;\n",
       "    }\n",
       "</style>\n",
       "<table border=\"1\" class=\"dataframe\">\n",
       "  <thead>\n",
       "    <tr style=\"text-align: right;\">\n",
       "      <th></th>\n",
       "      <th>price</th>\n",
       "      <th>powerPS</th>\n",
       "      <th>kilometer</th>\n",
       "      <th>Car_age</th>\n",
       "      <th>offerType</th>\n",
       "      <th>abtest</th>\n",
       "      <th>vehicleType</th>\n",
       "      <th>gearbox</th>\n",
       "      <th>fuelType</th>\n",
       "      <th>notRepairedDamage</th>\n",
       "    </tr>\n",
       "  </thead>\n",
       "  <tbody>\n",
       "    <tr>\n",
       "      <th>0</th>\n",
       "      <td>-0.805802</td>\n",
       "      <td>-1.041791</td>\n",
       "      <td>0.688702</td>\n",
       "      <td>0.501919</td>\n",
       "      <td>proposal</td>\n",
       "      <td>test</td>\n",
       "      <td>kleinwagen</td>\n",
       "      <td>manual</td>\n",
       "      <td>gasoline</td>\n",
       "      <td>no</td>\n",
       "    </tr>\n",
       "    <tr>\n",
       "      <th>1</th>\n",
       "      <td>-0.001518</td>\n",
       "      <td>-1.243704</td>\n",
       "      <td>-1.544705</td>\n",
       "      <td>-0.879621</td>\n",
       "      <td>proposal</td>\n",
       "      <td>test</td>\n",
       "      <td>kleinwagen</td>\n",
       "      <td>manual</td>\n",
       "      <td>diesel</td>\n",
       "      <td>no</td>\n",
       "    </tr>\n",
       "    <tr>\n",
       "      <th>2</th>\n",
       "      <td>-1.449251</td>\n",
       "      <td>-0.274169</td>\n",
       "      <td>0.688702</td>\n",
       "      <td>1.526674</td>\n",
       "      <td>proposal</td>\n",
       "      <td>test</td>\n",
       "      <td>limousine</td>\n",
       "      <td>manual</td>\n",
       "      <td>gasoline</td>\n",
       "      <td>yes</td>\n",
       "    </tr>\n",
       "    <tr>\n",
       "      <th>3</th>\n",
       "      <td>-0.471788</td>\n",
       "      <td>-0.103645</td>\n",
       "      <td>0.688702</td>\n",
       "      <td>-0.060344</td>\n",
       "      <td>proposal</td>\n",
       "      <td>test</td>\n",
       "      <td>cabrio</td>\n",
       "      <td>manual</td>\n",
       "      <td>gasoline</td>\n",
       "      <td>no</td>\n",
       "    </tr>\n",
       "    <tr>\n",
       "      <th>4</th>\n",
       "      <td>-0.557399</td>\n",
       "      <td>-0.199910</td>\n",
       "      <td>0.688702</td>\n",
       "      <td>-0.060344</td>\n",
       "      <td>proposal</td>\n",
       "      <td>control</td>\n",
       "      <td>limousine</td>\n",
       "      <td>manual</td>\n",
       "      <td>gasoline</td>\n",
       "      <td>no</td>\n",
       "    </tr>\n",
       "  </tbody>\n",
       "</table>\n",
       "</div>"
      ],
      "text/plain": [
       "      price   powerPS  kilometer   Car_age offerType   abtest vehicleType  \\\n",
       "0 -0.805802 -1.041791   0.688702  0.501919  proposal     test  kleinwagen   \n",
       "1 -0.001518 -1.243704  -1.544705 -0.879621  proposal     test  kleinwagen   \n",
       "2 -1.449251 -0.274169   0.688702  1.526674  proposal     test   limousine   \n",
       "3 -0.471788 -0.103645   0.688702 -0.060344  proposal     test      cabrio   \n",
       "4 -0.557399 -0.199910   0.688702 -0.060344  proposal  control   limousine   \n",
       "\n",
       "  gearbox  fuelType notRepairedDamage  \n",
       "0  manual  gasoline                no  \n",
       "1  manual    diesel                no  \n",
       "2  manual  gasoline               yes  \n",
       "3  manual  gasoline                no  \n",
       "4  manual  gasoline                no  "
      ]
     },
     "execution_count": 85,
     "metadata": {},
     "output_type": "execute_result"
    }
   ],
   "source": [
    "df_final_transformed.head()"
   ]
  },
  {
   "cell_type": "code",
   "execution_count": 86,
   "id": "74b9bc15",
   "metadata": {},
   "outputs": [
    {
     "data": {
      "text/html": [
       "<div>\n",
       "<style scoped>\n",
       "    .dataframe tbody tr th:only-of-type {\n",
       "        vertical-align: middle;\n",
       "    }\n",
       "\n",
       "    .dataframe tbody tr th {\n",
       "        vertical-align: top;\n",
       "    }\n",
       "\n",
       "    .dataframe thead th {\n",
       "        text-align: right;\n",
       "    }\n",
       "</style>\n",
       "<table border=\"1\" class=\"dataframe\">\n",
       "  <thead>\n",
       "    <tr style=\"text-align: right;\">\n",
       "      <th></th>\n",
       "      <th>price</th>\n",
       "      <th>powerPS</th>\n",
       "      <th>kilometer</th>\n",
       "      <th>Car_age</th>\n",
       "      <th>offerType_request</th>\n",
       "      <th>abtest_test</th>\n",
       "      <th>vehicleType_bus</th>\n",
       "      <th>vehicleType_cabrio</th>\n",
       "      <th>vehicleType_coupe</th>\n",
       "      <th>vehicleType_kleinwagen</th>\n",
       "      <th>vehicleType_kombi</th>\n",
       "      <th>vehicleType_limousine</th>\n",
       "      <th>vehicleType_suv</th>\n",
       "      <th>gearbox_manual</th>\n",
       "      <th>fuelType_diesel</th>\n",
       "      <th>fuelType_electric</th>\n",
       "      <th>fuelType_gasoline</th>\n",
       "      <th>fuelType_hybrid</th>\n",
       "      <th>fuelType_lpg</th>\n",
       "      <th>fuelType_others</th>\n",
       "      <th>notRepairedDamage_yes</th>\n",
       "    </tr>\n",
       "  </thead>\n",
       "  <tbody>\n",
       "    <tr>\n",
       "      <th>0</th>\n",
       "      <td>-0.805802</td>\n",
       "      <td>-1.041791</td>\n",
       "      <td>0.688702</td>\n",
       "      <td>0.501919</td>\n",
       "      <td>0</td>\n",
       "      <td>1</td>\n",
       "      <td>0</td>\n",
       "      <td>0</td>\n",
       "      <td>0</td>\n",
       "      <td>1</td>\n",
       "      <td>0</td>\n",
       "      <td>0</td>\n",
       "      <td>0</td>\n",
       "      <td>1</td>\n",
       "      <td>0</td>\n",
       "      <td>0</td>\n",
       "      <td>1</td>\n",
       "      <td>0</td>\n",
       "      <td>0</td>\n",
       "      <td>0</td>\n",
       "      <td>0</td>\n",
       "    </tr>\n",
       "    <tr>\n",
       "      <th>1</th>\n",
       "      <td>-0.001518</td>\n",
       "      <td>-1.243704</td>\n",
       "      <td>-1.544705</td>\n",
       "      <td>-0.879621</td>\n",
       "      <td>0</td>\n",
       "      <td>1</td>\n",
       "      <td>0</td>\n",
       "      <td>0</td>\n",
       "      <td>0</td>\n",
       "      <td>1</td>\n",
       "      <td>0</td>\n",
       "      <td>0</td>\n",
       "      <td>0</td>\n",
       "      <td>1</td>\n",
       "      <td>1</td>\n",
       "      <td>0</td>\n",
       "      <td>0</td>\n",
       "      <td>0</td>\n",
       "      <td>0</td>\n",
       "      <td>0</td>\n",
       "      <td>0</td>\n",
       "    </tr>\n",
       "    <tr>\n",
       "      <th>2</th>\n",
       "      <td>-1.449251</td>\n",
       "      <td>-0.274169</td>\n",
       "      <td>0.688702</td>\n",
       "      <td>1.526674</td>\n",
       "      <td>0</td>\n",
       "      <td>1</td>\n",
       "      <td>0</td>\n",
       "      <td>0</td>\n",
       "      <td>0</td>\n",
       "      <td>0</td>\n",
       "      <td>0</td>\n",
       "      <td>1</td>\n",
       "      <td>0</td>\n",
       "      <td>1</td>\n",
       "      <td>0</td>\n",
       "      <td>0</td>\n",
       "      <td>1</td>\n",
       "      <td>0</td>\n",
       "      <td>0</td>\n",
       "      <td>0</td>\n",
       "      <td>1</td>\n",
       "    </tr>\n",
       "    <tr>\n",
       "      <th>3</th>\n",
       "      <td>-0.471788</td>\n",
       "      <td>-0.103645</td>\n",
       "      <td>0.688702</td>\n",
       "      <td>-0.060344</td>\n",
       "      <td>0</td>\n",
       "      <td>1</td>\n",
       "      <td>0</td>\n",
       "      <td>1</td>\n",
       "      <td>0</td>\n",
       "      <td>0</td>\n",
       "      <td>0</td>\n",
       "      <td>0</td>\n",
       "      <td>0</td>\n",
       "      <td>1</td>\n",
       "      <td>0</td>\n",
       "      <td>0</td>\n",
       "      <td>1</td>\n",
       "      <td>0</td>\n",
       "      <td>0</td>\n",
       "      <td>0</td>\n",
       "      <td>0</td>\n",
       "    </tr>\n",
       "    <tr>\n",
       "      <th>4</th>\n",
       "      <td>-0.557399</td>\n",
       "      <td>-0.199910</td>\n",
       "      <td>0.688702</td>\n",
       "      <td>-0.060344</td>\n",
       "      <td>0</td>\n",
       "      <td>0</td>\n",
       "      <td>0</td>\n",
       "      <td>0</td>\n",
       "      <td>0</td>\n",
       "      <td>0</td>\n",
       "      <td>0</td>\n",
       "      <td>1</td>\n",
       "      <td>0</td>\n",
       "      <td>1</td>\n",
       "      <td>0</td>\n",
       "      <td>0</td>\n",
       "      <td>1</td>\n",
       "      <td>0</td>\n",
       "      <td>0</td>\n",
       "      <td>0</td>\n",
       "      <td>0</td>\n",
       "    </tr>\n",
       "  </tbody>\n",
       "</table>\n",
       "</div>"
      ],
      "text/plain": [
       "      price   powerPS  kilometer   Car_age  offerType_request  abtest_test  \\\n",
       "0 -0.805802 -1.041791   0.688702  0.501919                  0            1   \n",
       "1 -0.001518 -1.243704  -1.544705 -0.879621                  0            1   \n",
       "2 -1.449251 -0.274169   0.688702  1.526674                  0            1   \n",
       "3 -0.471788 -0.103645   0.688702 -0.060344                  0            1   \n",
       "4 -0.557399 -0.199910   0.688702 -0.060344                  0            0   \n",
       "\n",
       "   vehicleType_bus  vehicleType_cabrio  vehicleType_coupe  \\\n",
       "0                0                   0                  0   \n",
       "1                0                   0                  0   \n",
       "2                0                   0                  0   \n",
       "3                0                   1                  0   \n",
       "4                0                   0                  0   \n",
       "\n",
       "   vehicleType_kleinwagen  vehicleType_kombi  vehicleType_limousine  \\\n",
       "0                       1                  0                      0   \n",
       "1                       1                  0                      0   \n",
       "2                       0                  0                      1   \n",
       "3                       0                  0                      0   \n",
       "4                       0                  0                      1   \n",
       "\n",
       "   vehicleType_suv  gearbox_manual  fuelType_diesel  fuelType_electric  \\\n",
       "0                0               1                0                  0   \n",
       "1                0               1                1                  0   \n",
       "2                0               1                0                  0   \n",
       "3                0               1                0                  0   \n",
       "4                0               1                0                  0   \n",
       "\n",
       "   fuelType_gasoline  fuelType_hybrid  fuelType_lpg  fuelType_others  \\\n",
       "0                  1                0             0                0   \n",
       "1                  0                0             0                0   \n",
       "2                  1                0             0                0   \n",
       "3                  1                0             0                0   \n",
       "4                  1                0             0                0   \n",
       "\n",
       "   notRepairedDamage_yes  \n",
       "0                      0  \n",
       "1                      0  \n",
       "2                      1  \n",
       "3                      0  \n",
       "4                      0  "
      ]
     },
     "execution_count": 86,
     "metadata": {},
     "output_type": "execute_result"
    }
   ],
   "source": [
    "df_final_transformed_encoded=pd.get_dummies(df_final_transformed,drop_first=True)\n",
    "df_final_transformed_encoded.head()"
   ]
  },
  {
   "cell_type": "code",
   "execution_count": 87,
   "id": "8572aa6b",
   "metadata": {},
   "outputs": [
    {
     "data": {
      "text/plain": [
       "(217709, 21)"
      ]
     },
     "execution_count": 87,
     "metadata": {},
     "output_type": "execute_result"
    }
   ],
   "source": [
    "df_final_transformed_encoded.shape"
   ]
  },
  {
   "cell_type": "code",
   "execution_count": null,
   "id": "cff249b0",
   "metadata": {},
   "outputs": [],
   "source": []
  },
  {
   "cell_type": "code",
   "execution_count": 88,
   "id": "eb2bcd89",
   "metadata": {},
   "outputs": [],
   "source": [
    "from sklearn.linear_model import LinearRegression\n",
    "from sklearn.model_selection import GridSearchCV,cross_val_score,KFold,train_test_split"
   ]
  },
  {
   "cell_type": "markdown",
   "id": "fa973a7c",
   "metadata": {},
   "source": [
    "### Train- Test Split"
   ]
  },
  {
   "cell_type": "code",
   "execution_count": 89,
   "id": "f688458f",
   "metadata": {},
   "outputs": [],
   "source": [
    "X=df_final_transformed_encoded.drop('price',axis=1)\n",
    "y=df_final_transformed_encoded['price']\n",
    "\n",
    "X_train,X_test,y_train,y_test=train_test_split(X,y,random_state=42)"
   ]
  },
  {
   "cell_type": "code",
   "execution_count": 90,
   "id": "a128c59e",
   "metadata": {},
   "outputs": [
    {
     "data": {
      "text/plain": [
       "((163281, 20), (54428, 20), (163281,), (54428,))"
      ]
     },
     "execution_count": 90,
     "metadata": {},
     "output_type": "execute_result"
    }
   ],
   "source": [
    "X_train.shape, X_test.shape,y_train.shape,y_test.shape"
   ]
  },
  {
   "cell_type": "markdown",
   "id": "a85c62d5",
   "metadata": {},
   "source": [
    "### Base model"
   ]
  },
  {
   "cell_type": "code",
   "execution_count": 91,
   "id": "1c21b59f",
   "metadata": {},
   "outputs": [
    {
     "data": {
      "text/html": [
       "<table class=\"simpletable\">\n",
       "<caption>OLS Regression Results</caption>\n",
       "<tr>\n",
       "  <th>Dep. Variable:</th>          <td>price</td>      <th>  R-squared:         </th>  <td>   0.775</td>  \n",
       "</tr>\n",
       "<tr>\n",
       "  <th>Model:</th>                   <td>OLS</td>       <th>  Adj. R-squared:    </th>  <td>   0.775</td>  \n",
       "</tr>\n",
       "<tr>\n",
       "  <th>Method:</th>             <td>Least Squares</td>  <th>  F-statistic:       </th>  <td>2.811e+04</td> \n",
       "</tr>\n",
       "<tr>\n",
       "  <th>Date:</th>             <td>Thu, 16 Nov 2023</td> <th>  Prob (F-statistic):</th>   <td>  0.00</td>   \n",
       "</tr>\n",
       "<tr>\n",
       "  <th>Time:</th>                 <td>16:34:31</td>     <th>  Log-Likelihood:    </th> <td>-1.1007e+05</td>\n",
       "</tr>\n",
       "<tr>\n",
       "  <th>No. Observations:</th>      <td>163281</td>      <th>  AIC:               </th>  <td>2.202e+05</td> \n",
       "</tr>\n",
       "<tr>\n",
       "  <th>Df Residuals:</th>          <td>163260</td>      <th>  BIC:               </th>  <td>2.204e+05</td> \n",
       "</tr>\n",
       "<tr>\n",
       "  <th>Df Model:</th>              <td>    20</td>      <th>                     </th>      <td> </td>     \n",
       "</tr>\n",
       "<tr>\n",
       "  <th>Covariance Type:</th>      <td>nonrobust</td>    <th>                     </th>      <td> </td>     \n",
       "</tr>\n",
       "</table>\n",
       "<table class=\"simpletable\">\n",
       "<tr>\n",
       "             <td></td>               <th>coef</th>     <th>std err</th>      <th>t</th>      <th>P>|t|</th>  <th>[0.025</th>    <th>0.975]</th>  \n",
       "</tr>\n",
       "<tr>\n",
       "  <th>const</th>                  <td>    0.1178</td> <td>    0.031</td> <td>    3.755</td> <td> 0.000</td> <td>    0.056</td> <td>    0.179</td>\n",
       "</tr>\n",
       "<tr>\n",
       "  <th>powerPS</th>                <td>    0.3702</td> <td>    0.002</td> <td>  218.307</td> <td> 0.000</td> <td>    0.367</td> <td>    0.374</td>\n",
       "</tr>\n",
       "<tr>\n",
       "  <th>kilometer</th>              <td>   -0.1765</td> <td>    0.001</td> <td> -117.862</td> <td> 0.000</td> <td>   -0.179</td> <td>   -0.174</td>\n",
       "</tr>\n",
       "<tr>\n",
       "  <th>Car_age</th>                <td>   -0.5293</td> <td>    0.002</td> <td> -337.139</td> <td> 0.000</td> <td>   -0.532</td> <td>   -0.526</td>\n",
       "</tr>\n",
       "<tr>\n",
       "  <th>offerType_request</th>      <td>   -0.1682</td> <td>    0.475</td> <td>   -0.354</td> <td> 0.723</td> <td>   -1.099</td> <td>    0.763</td>\n",
       "</tr>\n",
       "<tr>\n",
       "  <th>abtest_test</th>            <td> 3.742e-05</td> <td>    0.002</td> <td>    0.016</td> <td> 0.987</td> <td>   -0.005</td> <td>    0.005</td>\n",
       "</tr>\n",
       "<tr>\n",
       "  <th>vehicleType_bus</th>        <td>    0.0178</td> <td>    0.016</td> <td>    1.144</td> <td> 0.253</td> <td>   -0.013</td> <td>    0.048</td>\n",
       "</tr>\n",
       "<tr>\n",
       "  <th>vehicleType_cabrio</th>     <td>    0.3532</td> <td>    0.016</td> <td>   22.178</td> <td> 0.000</td> <td>    0.322</td> <td>    0.384</td>\n",
       "</tr>\n",
       "<tr>\n",
       "  <th>vehicleType_coupe</th>      <td>    0.0878</td> <td>    0.016</td> <td>    5.402</td> <td> 0.000</td> <td>    0.056</td> <td>    0.120</td>\n",
       "</tr>\n",
       "<tr>\n",
       "  <th>vehicleType_kleinwagen</th> <td>   -0.0929</td> <td>    0.015</td> <td>   -6.014</td> <td> 0.000</td> <td>   -0.123</td> <td>   -0.063</td>\n",
       "</tr>\n",
       "<tr>\n",
       "  <th>vehicleType_kombi</th>      <td>   -0.1755</td> <td>    0.015</td> <td>  -11.403</td> <td> 0.000</td> <td>   -0.206</td> <td>   -0.145</td>\n",
       "</tr>\n",
       "<tr>\n",
       "  <th>vehicleType_limousine</th>  <td>   -0.0386</td> <td>    0.015</td> <td>   -2.516</td> <td> 0.012</td> <td>   -0.069</td> <td>   -0.009</td>\n",
       "</tr>\n",
       "<tr>\n",
       "  <th>vehicleType_suv</th>        <td>    0.1768</td> <td>    0.016</td> <td>   10.777</td> <td> 0.000</td> <td>    0.145</td> <td>    0.209</td>\n",
       "</tr>\n",
       "<tr>\n",
       "  <th>gearbox_manual</th>         <td>   -0.0876</td> <td>    0.003</td> <td>  -27.156</td> <td> 0.000</td> <td>   -0.094</td> <td>   -0.081</td>\n",
       "</tr>\n",
       "<tr>\n",
       "  <th>fuelType_diesel</th>        <td>    0.2071</td> <td>    0.027</td> <td>    7.545</td> <td> 0.000</td> <td>    0.153</td> <td>    0.261</td>\n",
       "</tr>\n",
       "<tr>\n",
       "  <th>fuelType_electric</th>      <td>    0.3499</td> <td>    0.126</td> <td>    2.785</td> <td> 0.005</td> <td>    0.104</td> <td>    0.596</td>\n",
       "</tr>\n",
       "<tr>\n",
       "  <th>fuelType_gasoline</th>      <td>   -0.0353</td> <td>    0.027</td> <td>   -1.284</td> <td> 0.199</td> <td>   -0.089</td> <td>    0.019</td>\n",
       "</tr>\n",
       "<tr>\n",
       "  <th>fuelType_hybrid</th>        <td>    0.2239</td> <td>    0.053</td> <td>    4.237</td> <td> 0.000</td> <td>    0.120</td> <td>    0.327</td>\n",
       "</tr>\n",
       "<tr>\n",
       "  <th>fuelType_lpg</th>           <td>   -0.0388</td> <td>    0.029</td> <td>   -1.336</td> <td> 0.182</td> <td>   -0.096</td> <td>    0.018</td>\n",
       "</tr>\n",
       "<tr>\n",
       "  <th>fuelType_others</th>        <td>    0.1129</td> <td>    0.126</td> <td>    0.899</td> <td> 0.369</td> <td>   -0.133</td> <td>    0.359</td>\n",
       "</tr>\n",
       "<tr>\n",
       "  <th>notRepairedDamage_yes</th>  <td>   -0.5499</td> <td>    0.004</td> <td> -141.772</td> <td> 0.000</td> <td>   -0.558</td> <td>   -0.542</td>\n",
       "</tr>\n",
       "</table>\n",
       "<table class=\"simpletable\">\n",
       "<tr>\n",
       "  <th>Omnibus:</th>       <td>25589.936</td> <th>  Durbin-Watson:     </th>  <td>   2.001</td> \n",
       "</tr>\n",
       "<tr>\n",
       "  <th>Prob(Omnibus):</th>  <td> 0.000</td>   <th>  Jarque-Bera (JB):  </th> <td>291589.658</td>\n",
       "</tr>\n",
       "<tr>\n",
       "  <th>Skew:</th>           <td>-0.395</td>   <th>  Prob(JB):          </th>  <td>    0.00</td> \n",
       "</tr>\n",
       "<tr>\n",
       "  <th>Kurtosis:</th>       <td> 9.499</td>   <th>  Cond. No.          </th>  <td>    672.</td> \n",
       "</tr>\n",
       "</table><br/><br/>Notes:<br/>[1] Standard Errors assume that the covariance matrix of the errors is correctly specified."
      ],
      "text/plain": [
       "<class 'statsmodels.iolib.summary.Summary'>\n",
       "\"\"\"\n",
       "                            OLS Regression Results                            \n",
       "==============================================================================\n",
       "Dep. Variable:                  price   R-squared:                       0.775\n",
       "Model:                            OLS   Adj. R-squared:                  0.775\n",
       "Method:                 Least Squares   F-statistic:                 2.811e+04\n",
       "Date:                Thu, 16 Nov 2023   Prob (F-statistic):               0.00\n",
       "Time:                        16:34:31   Log-Likelihood:            -1.1007e+05\n",
       "No. Observations:              163281   AIC:                         2.202e+05\n",
       "Df Residuals:                  163260   BIC:                         2.204e+05\n",
       "Df Model:                          20                                         \n",
       "Covariance Type:            nonrobust                                         \n",
       "==========================================================================================\n",
       "                             coef    std err          t      P>|t|      [0.025      0.975]\n",
       "------------------------------------------------------------------------------------------\n",
       "const                      0.1178      0.031      3.755      0.000       0.056       0.179\n",
       "powerPS                    0.3702      0.002    218.307      0.000       0.367       0.374\n",
       "kilometer                 -0.1765      0.001   -117.862      0.000      -0.179      -0.174\n",
       "Car_age                   -0.5293      0.002   -337.139      0.000      -0.532      -0.526\n",
       "offerType_request         -0.1682      0.475     -0.354      0.723      -1.099       0.763\n",
       "abtest_test             3.742e-05      0.002      0.016      0.987      -0.005       0.005\n",
       "vehicleType_bus            0.0178      0.016      1.144      0.253      -0.013       0.048\n",
       "vehicleType_cabrio         0.3532      0.016     22.178      0.000       0.322       0.384\n",
       "vehicleType_coupe          0.0878      0.016      5.402      0.000       0.056       0.120\n",
       "vehicleType_kleinwagen    -0.0929      0.015     -6.014      0.000      -0.123      -0.063\n",
       "vehicleType_kombi         -0.1755      0.015    -11.403      0.000      -0.206      -0.145\n",
       "vehicleType_limousine     -0.0386      0.015     -2.516      0.012      -0.069      -0.009\n",
       "vehicleType_suv            0.1768      0.016     10.777      0.000       0.145       0.209\n",
       "gearbox_manual            -0.0876      0.003    -27.156      0.000      -0.094      -0.081\n",
       "fuelType_diesel            0.2071      0.027      7.545      0.000       0.153       0.261\n",
       "fuelType_electric          0.3499      0.126      2.785      0.005       0.104       0.596\n",
       "fuelType_gasoline         -0.0353      0.027     -1.284      0.199      -0.089       0.019\n",
       "fuelType_hybrid            0.2239      0.053      4.237      0.000       0.120       0.327\n",
       "fuelType_lpg              -0.0388      0.029     -1.336      0.182      -0.096       0.018\n",
       "fuelType_others            0.1129      0.126      0.899      0.369      -0.133       0.359\n",
       "notRepairedDamage_yes     -0.5499      0.004   -141.772      0.000      -0.558      -0.542\n",
       "==============================================================================\n",
       "Omnibus:                    25589.936   Durbin-Watson:                   2.001\n",
       "Prob(Omnibus):                  0.000   Jarque-Bera (JB):           291589.658\n",
       "Skew:                          -0.395   Prob(JB):                         0.00\n",
       "Kurtosis:                       9.499   Cond. No.                         672.\n",
       "==============================================================================\n",
       "\n",
       "Notes:\n",
       "[1] Standard Errors assume that the covariance matrix of the errors is correctly specified.\n",
       "\"\"\""
      ]
     },
     "execution_count": 91,
     "metadata": {},
     "output_type": "execute_result"
    }
   ],
   "source": [
    "import statsmodels.api as sm\n",
    "model=sm.OLS(y_train,sm.add_constant(X_train)).fit()\n",
    "model.summary()"
   ]
  },
  {
   "cell_type": "code",
   "execution_count": 92,
   "id": "e5575c58",
   "metadata": {},
   "outputs": [
    {
     "data": {
      "text/plain": [
       "(5476.311785360326, 0.0, 283.2814006329957, 0.0)"
      ]
     },
     "execution_count": 92,
     "metadata": {},
     "output_type": "execute_result"
    }
   ],
   "source": [
    "from statsmodels.stats.diagnostic import het_breuschpagan\n",
    "\n",
    "# Homoskadasticity\n",
    "\n",
    "# H0: Homoskadastic\n",
    "# H1: Hetroskadastic\n",
    "het_breuschpagan(model.resid, sm.add_constant(X_train))\n",
    "\n",
    "# The data is not homoscadastic"
   ]
  },
  {
   "cell_type": "code",
   "execution_count": 93,
   "id": "345a4fe9",
   "metadata": {},
   "outputs": [
    {
     "data": {
      "image/png": "[encoded data removed]",
      "text/plain": [
       "<Figure size 640x480 with 1 Axes>"
      ]
     },
     "metadata": {},
     "output_type": "display_data"
    }
   ],
   "source": [
    "sns.scatterplot(x=model.fittedvalues,y=model.resid)\n",
    "plt.show()"
   ]
  },
  {
   "cell_type": "code",
   "execution_count": 94,
   "id": "daa1fd8c",
   "metadata": {},
   "outputs": [
    {
     "data": {
      "image/png": "[encoded data removed]",
      "text/plain": [
       "<Figure size 640x480 with 1 Axes>"
      ]
     },
     "metadata": {},
     "output_type": "display_data"
    }
   ],
   "source": [
    "# Checking if the error terms are noramlly distributed\n",
    "from statsmodels.graphics.gofplots import qqplot\n",
    "\n",
    "qqplot(model.resid, line = 'r')\n",
    "plt.show()"
   ]
  },
  {
   "cell_type": "code",
   "execution_count": 95,
   "id": "3657cd48",
   "metadata": {},
   "outputs": [],
   "source": [
    "# The blue doted line has a deviation from the red line, which shows that the error terms are noramlly distributed"
   ]
  },
  {
   "cell_type": "code",
   "execution_count": 96,
   "id": "00448c28",
   "metadata": {},
   "outputs": [],
   "source": [
    "perf_score = pd.DataFrame(columns=['Model', 'Alpha', 'L1_Ratio','R2_Train','R2_Test','RMSE Train','RMSE TEST','MAPE' ] )\n",
    "\n",
    "def per_measures(model):\n",
    "\n",
    "   #-----------------------------------------------#\n",
    "   # Calculation of R square and Adj R2            #\n",
    "   #-----------------------------------------------#\n",
    "\n",
    "   # calculate rsquare value\n",
    "\n",
    "    rsq_train = model.score(X_train, y_train)\n",
    "    rsq_test  = model.score(X_test, y_test)\n",
    "\n",
    "    # calculating adjusted rsquare value\n",
    "    n =X_train.shape[0]\n",
    "    k = X_train.shape[1]\n",
    "    rsq_adj = 1 - ((1-rsq_test)*(n-1)/(n-k-1))\n",
    "\n",
    "\n",
    "   #-----------------------------------------------#\n",
    "   # Model getting trained                         #\n",
    "   #-----------------------------------------------#\n",
    "\n",
    "    model.fit(X_train,y_train)\n",
    "\n",
    "    pred_train = model.predict(X_train)\n",
    "    pred_test = model.predict(X_test)\n",
    "\n",
    "   #-----------------------------------------------#\n",
    "   # Calculation of RMSE and MAPE                  #\n",
    "   #-----------------------------------------------#\n",
    "\n",
    "    rmse_train =np.sqrt(mean_squared_error(y_train,pred_train))\n",
    "    rmse_test  =np.sqrt(mean_squared_error(y_test,pred_test))\n",
    "\n",
    "\n",
    "    MAPE_test = (np.mean(np.abs((y_test - pred_test) / y_test)) * 100)\n",
    "\n",
    "\n",
    "    return (rsq_train,rsq_test,rmse_train,rmse_test,MAPE_test)"
   ]
  },
  {
   "cell_type": "code",
   "execution_count": 97,
   "id": "c2383c89",
   "metadata": {},
   "outputs": [],
   "source": [
    "def update_performance (name, model, alpha = '-', l1_ratio = '-' ):\n",
    "\n",
    "\n",
    "    # assign 'comp_perf' as global variable\n",
    "    global perf_score\n",
    "\n",
    "\n",
    "    # append the results to the dataframe 'score_card'\n",
    "    # 'ignore_index = True' do not consider the index labels\n",
    "    perf_score = perf_score.append({'Model'          : name,\n",
    "                                    'Alpha'          : alpha,\n",
    "                                    'L1_Ratio'       : l1_ratio,\n",
    "                                    'R2_Train'       : per_measures(model)[0],\n",
    "                                    'R2_Test'        : per_measures(model)[1],    \n",
    "                                    'RMSE Train'     : per_measures(model)[2],\n",
    "                                    'RMSE TEST'      : per_measures(model)[3],\n",
    "                                    'MAPE'           : per_measures(model)[4]\n",
    "                                    },\n",
    "                                   ignore_index = True)\n",
    "    \n",
    "    # the [1],[2] .... is coming from the user defined functon made above\n",
    "    # in return R2_Train is at index 0 , so we are giving [0]\n",
    "    # R2_Test is at index 1, so [1]"
   ]
  },
  {
   "cell_type": "code",
   "execution_count": null,
   "id": "dfa14da4",
   "metadata": {},
   "outputs": [],
   "source": []
  },
  {
   "cell_type": "markdown",
   "id": "0b8c42de",
   "metadata": {},
   "source": [
    "## Linear Regression"
   ]
  },
  {
   "cell_type": "code",
   "execution_count": 98,
   "id": "734b4402",
   "metadata": {},
   "outputs": [],
   "source": [
    "from sklearn.metrics import r2_score, mean_squared_error\n",
    "from sklearn.linear_model import LinearRegression"
   ]
  },
  {
   "cell_type": "code",
   "execution_count": 99,
   "id": "63773ab2",
   "metadata": {},
   "outputs": [
    {
     "data": {
      "text/html": [
       "<style>#sk-container-id-1 {color: black;background-color: white;}#sk-container-id-1 pre{padding: 0;}#sk-container-id-1 div.sk-toggleable {background-color: white;}#sk-container-id-1 label.sk-toggleable__label {cursor: pointer;display: block;width: 100%;margin-bottom: 0;padding: 0.3em;box-sizing: border-box;text-align: center;}#sk-container-id-1 label.sk-toggleable__label-arrow:before {content: \"▸\";float: left;margin-right: 0.25em;color: #696969;}#sk-container-id-1 label.sk-toggleable__label-arrow:hover:before {color: black;}#sk-container-id-1 div.sk-estimator:hover label.sk-toggleable__label-arrow:before {color: black;}#sk-container-id-1 div.sk-toggleable__content {max-height: 0;max-width: 0;overflow: hidden;text-align: left;background-color: #f0f8ff;}#sk-container-id-1 div.sk-toggleable__content pre {margin: 0.2em;color: black;border-radius: 0.25em;background-color: #f0f8ff;}#sk-container-id-1 input.sk-toggleable__control:checked~div.sk-toggleable__content {max-height: 200px;max-width: 100%;overflow: auto;}#sk-container-id-1 input.sk-toggleable__control:checked~label.sk-toggleable__label-arrow:before {content: \"▾\";}#sk-container-id-1 div.sk-estimator input.sk-toggleable__control:checked~label.sk-toggleable__label {background-color: #d4ebff;}#sk-container-id-1 div.sk-label input.sk-toggleable__control:checked~label.sk-toggleable__label {background-color: #d4ebff;}#sk-container-id-1 input.sk-hidden--visually {border: 0;clip: rect(1px 1px 1px 1px);clip: rect(1px, 1px, 1px, 1px);height: 1px;margin: -1px;overflow: hidden;padding: 0;position: absolute;width: 1px;}#sk-container-id-1 div.sk-estimator {font-family: monospace;background-color: #f0f8ff;border: 1px dotted black;border-radius: 0.25em;box-sizing: border-box;margin-bottom: 0.5em;}#sk-container-id-1 div.sk-estimator:hover {background-color: #d4ebff;}#sk-container-id-1 div.sk-parallel-item::after {content: \"\";width: 100%;border-bottom: 1px solid gray;flex-grow: 1;}#sk-container-id-1 div.sk-label:hover label.sk-toggleable__label {background-color: #d4ebff;}#sk-container-id-1 div.sk-serial::before {content: \"\";position: absolute;border-left: 1px solid gray;box-sizing: border-box;top: 0;bottom: 0;left: 50%;z-index: 0;}#sk-container-id-1 div.sk-serial {display: flex;flex-direction: column;align-items: center;background-color: white;padding-right: 0.2em;padding-left: 0.2em;position: relative;}#sk-container-id-1 div.sk-item {position: relative;z-index: 1;}#sk-container-id-1 div.sk-parallel {display: flex;align-items: stretch;justify-content: center;background-color: white;position: relative;}#sk-container-id-1 div.sk-item::before, #sk-container-id-1 div.sk-parallel-item::before {content: \"\";position: absolute;border-left: 1px solid gray;box-sizing: border-box;top: 0;bottom: 0;left: 50%;z-index: -1;}#sk-container-id-1 div.sk-parallel-item {display: flex;flex-direction: column;z-index: 1;position: relative;background-color: white;}#sk-container-id-1 div.sk-parallel-item:first-child::after {align-self: flex-end;width: 50%;}#sk-container-id-1 div.sk-parallel-item:last-child::after {align-self: flex-start;width: 50%;}#sk-container-id-1 div.sk-parallel-item:only-child::after {width: 0;}#sk-container-id-1 div.sk-dashed-wrapped {border: 1px dashed gray;margin: 0 0.4em 0.5em 0.4em;box-sizing: border-box;padding-bottom: 0.4em;background-color: white;}#sk-container-id-1 div.sk-label label {font-family: monospace;font-weight: bold;display: inline-block;line-height: 1.2em;}#sk-container-id-1 div.sk-label-container {text-align: center;}#sk-container-id-1 div.sk-container {/* jupyter's `normalize.less` sets `[hidden] { display: none; }` but bootstrap.min.css set `[hidden] { display: none !important; }` so we also need the `!important` here to be able to override the default hidden behavior on the sphinx rendered scikit-learn.org. See: https://github.com/scikit-learn/scikit-learn/issues/21755 */display: inline-block !important;position: relative;}#sk-container-id-1 div.sk-text-repr-fallback {display: none;}</style><div id=\"sk-container-id-1\" class=\"sk-top-container\"><div class=\"sk-text-repr-fallback\"><pre>LinearRegression()</pre><b>In a Jupyter environment, please rerun this cell to show the HTML representation or trust the notebook. <br />On GitHub, the HTML representation is unable to render, please try loading this page with nbviewer.org.</b></div><div class=\"sk-container\" hidden><div class=\"sk-item\"><div class=\"sk-estimator sk-toggleable\"><input class=\"sk-toggleable__control sk-hidden--visually\" id=\"sk-estimator-id-1\" type=\"checkbox\" checked><label for=\"sk-estimator-id-1\" class=\"sk-toggleable__label sk-toggleable__label-arrow\">LinearRegression</label><div class=\"sk-toggleable__content\"><pre>LinearRegression()</pre></div></div></div></div></div>"
      ],
      "text/plain": [
       "LinearRegression()"
      ]
     },
     "execution_count": 99,
     "metadata": {},
     "output_type": "execute_result"
    }
   ],
   "source": [
    "lr=LinearRegression()\n",
    "lr.fit(X_train,y_train)"
   ]
  },
  {
   "cell_type": "code",
   "execution_count": 100,
   "id": "7b87b107",
   "metadata": {},
   "outputs": [
    {
     "name": "stdout",
     "output_type": "stream",
     "text": [
      "0.7747945924254134\n",
      "rmse train 0.4748101482468687\n",
      "rmse test 0.47320908394379824\n"
     ]
    }
   ],
   "source": [
    "pred_train = lr.predict(X_train)\n",
    "pred_test = lr.predict(X_test)\n",
    "\n",
    "print(lr.score(X_test,y_test))\n",
    "\n",
    "print('rmse train',np.sqrt(mean_squared_error(y_train,pred_train)) )\n",
    "print('rmse test',np.sqrt(mean_squared_error(y_test,pred_test))) "
   ]
  },
  {
   "cell_type": "code",
   "execution_count": 101,
   "id": "4419a349",
   "metadata": {},
   "outputs": [
    {
     "data": {
      "text/html": [
       "<div>\n",
       "<style scoped>\n",
       "    .dataframe tbody tr th:only-of-type {\n",
       "        vertical-align: middle;\n",
       "    }\n",
       "\n",
       "    .dataframe tbody tr th {\n",
       "        vertical-align: top;\n",
       "    }\n",
       "\n",
       "    .dataframe thead th {\n",
       "        text-align: right;\n",
       "    }\n",
       "</style>\n",
       "<table border=\"1\" class=\"dataframe\">\n",
       "  <thead>\n",
       "    <tr style=\"text-align: right;\">\n",
       "      <th></th>\n",
       "      <th>Model</th>\n",
       "      <th>Alpha</th>\n",
       "      <th>L1_Ratio</th>\n",
       "      <th>R2_Train</th>\n",
       "      <th>R2_Test</th>\n",
       "      <th>RMSE Train</th>\n",
       "      <th>RMSE TEST</th>\n",
       "      <th>MAPE</th>\n",
       "    </tr>\n",
       "  </thead>\n",
       "  <tbody>\n",
       "    <tr>\n",
       "      <th>0</th>\n",
       "      <td>Linear Regression</td>\n",
       "      <td>-</td>\n",
       "      <td>-</td>\n",
       "      <td>0.774981</td>\n",
       "      <td>0.774795</td>\n",
       "      <td>0.47481</td>\n",
       "      <td>0.473209</td>\n",
       "      <td>191.319355</td>\n",
       "    </tr>\n",
       "  </tbody>\n",
       "</table>\n",
       "</div>"
      ],
      "text/plain": [
       "                Model Alpha L1_Ratio  R2_Train   R2_Test  RMSE Train  \\\n",
       "0  Linear Regression      -        -  0.774981  0.774795     0.47481   \n",
       "\n",
       "   RMSE TEST        MAPE  \n",
       "0   0.473209  191.319355  "
      ]
     },
     "execution_count": 101,
     "metadata": {},
     "output_type": "execute_result"
    }
   ],
   "source": [
    "update_performance(name = 'Linear Regression ', model = lr)\n",
    "\n",
    "perf_score"
   ]
  },
  {
   "cell_type": "markdown",
   "id": "67612eb4",
   "metadata": {},
   "source": [
    "## SequentialFeatureSelection"
   ]
  },
  {
   "cell_type": "code",
   "execution_count": 102,
   "id": "41f60b0b",
   "metadata": {},
   "outputs": [
    {
     "data": {
      "text/plain": [
       "['powerPS',\n",
       " 'kilometer',\n",
       " 'Car_age',\n",
       " 'vehicleType_bus',\n",
       " 'vehicleType_cabrio',\n",
       " 'vehicleType_coupe',\n",
       " 'vehicleType_kleinwagen',\n",
       " 'vehicleType_kombi',\n",
       " 'vehicleType_limousine',\n",
       " 'vehicleType_suv',\n",
       " 'gearbox_manual',\n",
       " 'fuelType_diesel',\n",
       " 'fuelType_electric',\n",
       " 'fuelType_hybrid',\n",
       " 'fuelType_others',\n",
       " 'notRepairedDamage_yes']"
      ]
     },
     "execution_count": 102,
     "metadata": {},
     "output_type": "execute_result"
    }
   ],
   "source": [
    "from mlxtend.feature_selection import SequentialFeatureSelector as sfs\n",
    "\n",
    "lr =LinearRegression()\n",
    "\n",
    "selector = sfs(estimator = lr,k_features ='best',forward= True, scoring ='r2' )\n",
    "\n",
    "# getting the feature names\n",
    "\n",
    "selector.fit(X_train,y_train)\n",
    "features = list(selector.k_feature_names_)\n",
    "features\n"
   ]
  },
  {
   "cell_type": "code",
   "execution_count": 103,
   "id": "8a0367cd",
   "metadata": {},
   "outputs": [
    {
     "name": "stdout",
     "output_type": "stream",
     "text": [
      "0.7749781396479837\n"
     ]
    }
   ],
   "source": [
    "lr = LinearRegression()\n",
    "lr.fit(X_train[features],y_train)\n",
    "ypred = lr.predict(X_train[features])\n",
    "\n",
    "from sklearn.metrics import r2_score, mean_squared_error\n",
    "\n",
    "# R square value, which we get in OLS model also\n",
    "print(r2_score(y_train,ypred))"
   ]
  },
  {
   "cell_type": "code",
   "execution_count": 104,
   "id": "0ea56228",
   "metadata": {},
   "outputs": [],
   "source": [
    "# update_performance(name = 'Linear Regression- sfs(best)', model = lr)\n",
    "\n",
    "# perf_score"
   ]
  },
  {
   "cell_type": "markdown",
   "id": "6e2d5e5a",
   "metadata": {},
   "source": [
    "# Random Forest Regressor"
   ]
  },
  {
   "cell_type": "code",
   "execution_count": 105,
   "id": "411a97a1",
   "metadata": {},
   "outputs": [
    {
     "name": "stdout",
     "output_type": "stream",
     "text": [
      "0.8347813523479196\n"
     ]
    }
   ],
   "source": [
    "from sklearn.ensemble import RandomForestRegressor,AdaBoostRegressor,GradientBoostingRegressor\n",
    "rf = RandomForestRegressor()\n",
    "\n",
    "rf_model = rf.fit(X_train,y_train)\n",
    "\n",
    "pred_train = rf_model.predict(X_train)\n",
    "pred_test = rf_model.predict(X_test)\n",
    "\n",
    "print(rf.score(X_test, y_test))"
   ]
  },
  {
   "cell_type": "code",
   "execution_count": 106,
   "id": "8a1e589c",
   "metadata": {},
   "outputs": [
    {
     "name": "stdout",
     "output_type": "stream",
     "text": [
      "0.40531548598127015\n",
      "0.3000134093438297\n"
     ]
    }
   ],
   "source": [
    "print(np.sqrt(mean_squared_error(y_test, pred_test)))\n",
    "print(np.sqrt(mean_squared_error(y_train, pred_train)))"
   ]
  },
  {
   "cell_type": "code",
   "execution_count": 107,
   "id": "7d206cd2",
   "metadata": {},
   "outputs": [
    {
     "data": {
      "text/html": [
       "<div>\n",
       "<style scoped>\n",
       "    .dataframe tbody tr th:only-of-type {\n",
       "        vertical-align: middle;\n",
       "    }\n",
       "\n",
       "    .dataframe tbody tr th {\n",
       "        vertical-align: top;\n",
       "    }\n",
       "\n",
       "    .dataframe thead th {\n",
       "        text-align: right;\n",
       "    }\n",
       "</style>\n",
       "<table border=\"1\" class=\"dataframe\">\n",
       "  <thead>\n",
       "    <tr style=\"text-align: right;\">\n",
       "      <th></th>\n",
       "      <th>Model</th>\n",
       "      <th>Alpha</th>\n",
       "      <th>L1_Ratio</th>\n",
       "      <th>R2_Train</th>\n",
       "      <th>R2_Test</th>\n",
       "      <th>RMSE Train</th>\n",
       "      <th>RMSE TEST</th>\n",
       "      <th>MAPE</th>\n",
       "    </tr>\n",
       "  </thead>\n",
       "  <tbody>\n",
       "    <tr>\n",
       "      <th>0</th>\n",
       "      <td>Linear Regression</td>\n",
       "      <td>-</td>\n",
       "      <td>-</td>\n",
       "      <td>0.774981</td>\n",
       "      <td>0.774795</td>\n",
       "      <td>0.47481</td>\n",
       "      <td>0.473209</td>\n",
       "      <td>191.319355</td>\n",
       "    </tr>\n",
       "    <tr>\n",
       "      <th>1</th>\n",
       "      <td>Random Forest</td>\n",
       "      <td>-</td>\n",
       "      <td>-</td>\n",
       "      <td>0.910162</td>\n",
       "      <td>0.834759</td>\n",
       "      <td>0.30008</td>\n",
       "      <td>0.404643</td>\n",
       "      <td>173.860982</td>\n",
       "    </tr>\n",
       "  </tbody>\n",
       "</table>\n",
       "</div>"
      ],
      "text/plain": [
       "                Model Alpha L1_Ratio  R2_Train   R2_Test  RMSE Train  \\\n",
       "0  Linear Regression      -        -  0.774981  0.774795     0.47481   \n",
       "1      Random Forest      -        -  0.910162  0.834759     0.30008   \n",
       "\n",
       "   RMSE TEST        MAPE  \n",
       "0   0.473209  191.319355  \n",
       "1   0.404643  173.860982  "
      ]
     },
     "execution_count": 107,
     "metadata": {},
     "output_type": "execute_result"
    }
   ],
   "source": [
    "update_performance(name = 'Random Forest ', model = rf_model)\n",
    "\n",
    "perf_score"
   ]
  },
  {
   "cell_type": "markdown",
   "id": "43adf4d8",
   "metadata": {},
   "source": [
    "# Decision Tree Regressor"
   ]
  },
  {
   "cell_type": "code",
   "execution_count": 108,
   "id": "f7ab34d9",
   "metadata": {},
   "outputs": [
    {
     "name": "stdout",
     "output_type": "stream",
     "text": [
      "0.453328223529479\n",
      "0.2878309145087376\n"
     ]
    }
   ],
   "source": [
    "from sklearn.tree import DecisionTreeRegressor\n",
    "\n",
    "dt = DecisionTreeRegressor()\n",
    "\n",
    "model_dt=dt.fit(X_train,y_train)\n",
    "\n",
    "pred_train = model_dt.predict(X_train)\n",
    "pred_test = model_dt.predict(X_test)\n",
    "\n",
    "print(np.sqrt(mean_squared_error(y_test, pred_test)))\n",
    "print(np.sqrt(mean_squared_error(y_train, pred_train)))"
   ]
  },
  {
   "cell_type": "code",
   "execution_count": 109,
   "id": "c8f94a56",
   "metadata": {},
   "outputs": [
    {
     "data": {
      "text/plain": [
       "0.7933201272926759"
      ]
     },
     "execution_count": 109,
     "metadata": {},
     "output_type": "execute_result"
    }
   ],
   "source": [
    "model_dt.score(X_test, y_test)"
   ]
  },
  {
   "cell_type": "code",
   "execution_count": 110,
   "id": "3f963020",
   "metadata": {},
   "outputs": [
    {
     "data": {
      "text/html": [
       "<div>\n",
       "<style scoped>\n",
       "    .dataframe tbody tr th:only-of-type {\n",
       "        vertical-align: middle;\n",
       "    }\n",
       "\n",
       "    .dataframe tbody tr th {\n",
       "        vertical-align: top;\n",
       "    }\n",
       "\n",
       "    .dataframe thead th {\n",
       "        text-align: right;\n",
       "    }\n",
       "</style>\n",
       "<table border=\"1\" class=\"dataframe\">\n",
       "  <thead>\n",
       "    <tr style=\"text-align: right;\">\n",
       "      <th></th>\n",
       "      <th>Model</th>\n",
       "      <th>Alpha</th>\n",
       "      <th>L1_Ratio</th>\n",
       "      <th>R2_Train</th>\n",
       "      <th>R2_Test</th>\n",
       "      <th>RMSE Train</th>\n",
       "      <th>RMSE TEST</th>\n",
       "      <th>MAPE</th>\n",
       "    </tr>\n",
       "  </thead>\n",
       "  <tbody>\n",
       "    <tr>\n",
       "      <th>0</th>\n",
       "      <td>Linear Regression</td>\n",
       "      <td>-</td>\n",
       "      <td>-</td>\n",
       "      <td>0.774981</td>\n",
       "      <td>0.774795</td>\n",
       "      <td>0.474810</td>\n",
       "      <td>0.473209</td>\n",
       "      <td>191.319355</td>\n",
       "    </tr>\n",
       "    <tr>\n",
       "      <th>1</th>\n",
       "      <td>Random Forest</td>\n",
       "      <td>-</td>\n",
       "      <td>-</td>\n",
       "      <td>0.910162</td>\n",
       "      <td>0.834759</td>\n",
       "      <td>0.300080</td>\n",
       "      <td>0.404643</td>\n",
       "      <td>173.860982</td>\n",
       "    </tr>\n",
       "    <tr>\n",
       "      <th>2</th>\n",
       "      <td>Desision Tree</td>\n",
       "      <td>-</td>\n",
       "      <td>-</td>\n",
       "      <td>0.917310</td>\n",
       "      <td>0.794024</td>\n",
       "      <td>0.287831</td>\n",
       "      <td>0.453606</td>\n",
       "      <td>184.057547</td>\n",
       "    </tr>\n",
       "  </tbody>\n",
       "</table>\n",
       "</div>"
      ],
      "text/plain": [
       "                Model Alpha L1_Ratio  R2_Train   R2_Test  RMSE Train  \\\n",
       "0  Linear Regression      -        -  0.774981  0.774795    0.474810   \n",
       "1      Random Forest      -        -  0.910162  0.834759    0.300080   \n",
       "2       Desision Tree     -        -  0.917310  0.794024    0.287831   \n",
       "\n",
       "   RMSE TEST        MAPE  \n",
       "0   0.473209  191.319355  \n",
       "1   0.404643  173.860982  \n",
       "2   0.453606  184.057547  "
      ]
     },
     "execution_count": 110,
     "metadata": {},
     "output_type": "execute_result"
    }
   ],
   "source": [
    "update_performance(name = 'Desision Tree', model = model_dt)\n",
    "\n",
    "perf_score"
   ]
  },
  {
   "cell_type": "code",
   "execution_count": 111,
   "id": "03300495",
   "metadata": {},
   "outputs": [
    {
     "name": "stdout",
     "output_type": "stream",
     "text": [
      "Best Hyperparameters: {'max_depth': 10, 'min_samples_leaf': 4, 'min_samples_split': 10}\n"
     ]
    }
   ],
   "source": [
    "# grid search cv\n",
    "\n",
    "from sklearn.model_selection import GridSearchCV\n",
    "regressor = DecisionTreeRegressor()\n",
    "\n",
    "# Define hyperparameters to tune\n",
    "param_grid = {\n",
    "    'max_depth': [2, 4, 6, 8, 10],\n",
    "    'min_samples_split': [2, 5, 10],\n",
    "    'min_samples_leaf': [1, 2, 4]\n",
    "}\n",
    "\n",
    "grid_search = GridSearchCV(regressor, param_grid, cv=5, scoring='neg_mean_squared_error')\n",
    "\n",
    "# Fit the grid search to the data\n",
    "grid_search.fit(X_train, y_train)\n",
    "\n",
    "# Get the best hyperparameters\n",
    "best_params = grid_search.best_params_\n",
    "print(\"Best Hyperparameters:\", best_params)"
   ]
  },
  {
   "cell_type": "code",
   "execution_count": 112,
   "id": "4dcaaeef",
   "metadata": {},
   "outputs": [
    {
     "name": "stdout",
     "output_type": "stream",
     "text": [
      "0.4314311534923846\n",
      "0.8348726294784357\n"
     ]
    }
   ],
   "source": [
    "from sklearn.tree import DecisionTreeRegressor\n",
    "dt = DecisionTreeRegressor(max_depth= 10, min_samples_leaf=4, min_samples_split= 10, random_state =1)\n",
    "\n",
    "model_dt_p = dt.fit(X_train, y_train)\n",
    "\n",
    "ypred= model_dt_p.predict(X_test)\n",
    "print(np.sqrt(mean_squared_error(y_test, ypred)))\n",
    "print(rf.score(X_test, y_test))"
   ]
  },
  {
   "cell_type": "code",
   "execution_count": 113,
   "id": "f11be5bb",
   "metadata": {},
   "outputs": [
    {
     "data": {
      "text/html": [
       "<div>\n",
       "<style scoped>\n",
       "    .dataframe tbody tr th:only-of-type {\n",
       "        vertical-align: middle;\n",
       "    }\n",
       "\n",
       "    .dataframe tbody tr th {\n",
       "        vertical-align: top;\n",
       "    }\n",
       "\n",
       "    .dataframe thead th {\n",
       "        text-align: right;\n",
       "    }\n",
       "</style>\n",
       "<table border=\"1\" class=\"dataframe\">\n",
       "  <thead>\n",
       "    <tr style=\"text-align: right;\">\n",
       "      <th></th>\n",
       "      <th>Model</th>\n",
       "      <th>Alpha</th>\n",
       "      <th>L1_Ratio</th>\n",
       "      <th>R2_Train</th>\n",
       "      <th>R2_Test</th>\n",
       "      <th>RMSE Train</th>\n",
       "      <th>RMSE TEST</th>\n",
       "      <th>MAPE</th>\n",
       "    </tr>\n",
       "  </thead>\n",
       "  <tbody>\n",
       "    <tr>\n",
       "      <th>0</th>\n",
       "      <td>Linear Regression</td>\n",
       "      <td>-</td>\n",
       "      <td>-</td>\n",
       "      <td>0.774981</td>\n",
       "      <td>0.774795</td>\n",
       "      <td>0.474810</td>\n",
       "      <td>0.473209</td>\n",
       "      <td>191.319355</td>\n",
       "    </tr>\n",
       "    <tr>\n",
       "      <th>1</th>\n",
       "      <td>Random Forest</td>\n",
       "      <td>-</td>\n",
       "      <td>-</td>\n",
       "      <td>0.910162</td>\n",
       "      <td>0.834759</td>\n",
       "      <td>0.300080</td>\n",
       "      <td>0.404643</td>\n",
       "      <td>173.860982</td>\n",
       "    </tr>\n",
       "    <tr>\n",
       "      <th>2</th>\n",
       "      <td>Desision Tree</td>\n",
       "      <td>-</td>\n",
       "      <td>-</td>\n",
       "      <td>0.917310</td>\n",
       "      <td>0.794024</td>\n",
       "      <td>0.287831</td>\n",
       "      <td>0.453606</td>\n",
       "      <td>184.057547</td>\n",
       "    </tr>\n",
       "    <tr>\n",
       "      <th>3</th>\n",
       "      <td>Desision Tree- Hyperparameter</td>\n",
       "      <td>-</td>\n",
       "      <td>-</td>\n",
       "      <td>0.821829</td>\n",
       "      <td>0.812804</td>\n",
       "      <td>0.422502</td>\n",
       "      <td>0.431431</td>\n",
       "      <td>189.201901</td>\n",
       "    </tr>\n",
       "  </tbody>\n",
       "</table>\n",
       "</div>"
      ],
      "text/plain": [
       "                           Model Alpha L1_Ratio  R2_Train   R2_Test  \\\n",
       "0             Linear Regression      -        -  0.774981  0.774795   \n",
       "1                 Random Forest      -        -  0.910162  0.834759   \n",
       "2                  Desision Tree     -        -  0.917310  0.794024   \n",
       "3  Desision Tree- Hyperparameter     -        -  0.821829  0.812804   \n",
       "\n",
       "   RMSE Train  RMSE TEST        MAPE  \n",
       "0    0.474810   0.473209  191.319355  \n",
       "1    0.300080   0.404643  173.860982  \n",
       "2    0.287831   0.453606  184.057547  \n",
       "3    0.422502   0.431431  189.201901  "
      ]
     },
     "execution_count": 113,
     "metadata": {},
     "output_type": "execute_result"
    }
   ],
   "source": [
    "update_performance(name = 'Desision Tree- Hyperparameter', model = model_dt_p)\n",
    "\n",
    "perf_score"
   ]
  },
  {
   "cell_type": "markdown",
   "id": "6ea6e399",
   "metadata": {},
   "source": [
    "# Gradient Boosting Regressor"
   ]
  },
  {
   "cell_type": "code",
   "execution_count": 114,
   "id": "5e69fb27",
   "metadata": {},
   "outputs": [
    {
     "name": "stdout",
     "output_type": "stream",
     "text": [
      "0.4260562376970876\n",
      "0.4261501934493429\n"
     ]
    }
   ],
   "source": [
    "from sklearn.ensemble import GradientBoostingRegressor\n",
    "\n",
    "gbr=GradientBoostingRegressor()\n",
    "model_gbr=gbr.fit(X_train,y_train)\n",
    "\n",
    "pred_train = model_gbr.predict(X_train)\n",
    "pred_test = model_gbr.predict(X_test)\n",
    "\n",
    "print(np.sqrt(mean_squared_error(y_test, pred_test)))\n",
    "print(np.sqrt(mean_squared_error(y_train, pred_train)))"
   ]
  },
  {
   "cell_type": "code",
   "execution_count": 115,
   "id": "ebc87c54",
   "metadata": {},
   "outputs": [
    {
     "data": {
      "text/plain": [
       "0.8174396227343556"
      ]
     },
     "execution_count": 115,
     "metadata": {},
     "output_type": "execute_result"
    }
   ],
   "source": [
    "model_gbr.score(X_test, y_test)"
   ]
  },
  {
   "cell_type": "code",
   "execution_count": 116,
   "id": "11f8da0a",
   "metadata": {},
   "outputs": [
    {
     "data": {
      "text/html": [
       "<div>\n",
       "<style scoped>\n",
       "    .dataframe tbody tr th:only-of-type {\n",
       "        vertical-align: middle;\n",
       "    }\n",
       "\n",
       "    .dataframe tbody tr th {\n",
       "        vertical-align: top;\n",
       "    }\n",
       "\n",
       "    .dataframe thead th {\n",
       "        text-align: right;\n",
       "    }\n",
       "</style>\n",
       "<table border=\"1\" class=\"dataframe\">\n",
       "  <thead>\n",
       "    <tr style=\"text-align: right;\">\n",
       "      <th></th>\n",
       "      <th>Model</th>\n",
       "      <th>Alpha</th>\n",
       "      <th>L1_Ratio</th>\n",
       "      <th>R2_Train</th>\n",
       "      <th>R2_Test</th>\n",
       "      <th>RMSE Train</th>\n",
       "      <th>RMSE TEST</th>\n",
       "      <th>MAPE</th>\n",
       "    </tr>\n",
       "  </thead>\n",
       "  <tbody>\n",
       "    <tr>\n",
       "      <th>0</th>\n",
       "      <td>Linear Regression</td>\n",
       "      <td>-</td>\n",
       "      <td>-</td>\n",
       "      <td>0.774981</td>\n",
       "      <td>0.774795</td>\n",
       "      <td>0.474810</td>\n",
       "      <td>0.473209</td>\n",
       "      <td>191.319355</td>\n",
       "    </tr>\n",
       "    <tr>\n",
       "      <th>1</th>\n",
       "      <td>Random Forest</td>\n",
       "      <td>-</td>\n",
       "      <td>-</td>\n",
       "      <td>0.910162</td>\n",
       "      <td>0.834759</td>\n",
       "      <td>0.300080</td>\n",
       "      <td>0.404643</td>\n",
       "      <td>173.860982</td>\n",
       "    </tr>\n",
       "    <tr>\n",
       "      <th>2</th>\n",
       "      <td>Desision Tree</td>\n",
       "      <td>-</td>\n",
       "      <td>-</td>\n",
       "      <td>0.917310</td>\n",
       "      <td>0.794024</td>\n",
       "      <td>0.287831</td>\n",
       "      <td>0.453606</td>\n",
       "      <td>184.057547</td>\n",
       "    </tr>\n",
       "    <tr>\n",
       "      <th>3</th>\n",
       "      <td>Desision Tree- Hyperparameter</td>\n",
       "      <td>-</td>\n",
       "      <td>-</td>\n",
       "      <td>0.821829</td>\n",
       "      <td>0.812804</td>\n",
       "      <td>0.422502</td>\n",
       "      <td>0.431431</td>\n",
       "      <td>189.201901</td>\n",
       "    </tr>\n",
       "    <tr>\n",
       "      <th>4</th>\n",
       "      <td>Gradient Boosting Regressor</td>\n",
       "      <td>-</td>\n",
       "      <td>-</td>\n",
       "      <td>0.818739</td>\n",
       "      <td>0.817440</td>\n",
       "      <td>0.426150</td>\n",
       "      <td>0.426056</td>\n",
       "      <td>185.129450</td>\n",
       "    </tr>\n",
       "  </tbody>\n",
       "</table>\n",
       "</div>"
      ],
      "text/plain": [
       "                           Model Alpha L1_Ratio  R2_Train   R2_Test  \\\n",
       "0             Linear Regression      -        -  0.774981  0.774795   \n",
       "1                 Random Forest      -        -  0.910162  0.834759   \n",
       "2                  Desision Tree     -        -  0.917310  0.794024   \n",
       "3  Desision Tree- Hyperparameter     -        -  0.821829  0.812804   \n",
       "4   Gradient Boosting Regressor      -        -  0.818739  0.817440   \n",
       "\n",
       "   RMSE Train  RMSE TEST        MAPE  \n",
       "0    0.474810   0.473209  191.319355  \n",
       "1    0.300080   0.404643  173.860982  \n",
       "2    0.287831   0.453606  184.057547  \n",
       "3    0.422502   0.431431  189.201901  \n",
       "4    0.426150   0.426056  185.129450  "
      ]
     },
     "execution_count": 116,
     "metadata": {},
     "output_type": "execute_result"
    }
   ],
   "source": [
    "update_performance(name = 'Gradient Boosting Regressor ', model = model_gbr)\n",
    "\n",
    "perf_score"
   ]
  },
  {
   "cell_type": "markdown",
   "id": "524e86de",
   "metadata": {},
   "source": [
    "# XGBooster"
   ]
  },
  {
   "cell_type": "code",
   "execution_count": 117,
   "id": "71a20f06",
   "metadata": {},
   "outputs": [
    {
     "name": "stdout",
     "output_type": "stream",
     "text": [
      "0.3939648719369474\n",
      "0.38199036291741867\n"
     ]
    }
   ],
   "source": [
    "from xgboost import XGBRegressor \n",
    "\n",
    "xg = XGBRegressor()\n",
    "model_xg = xg.fit(X_train,y_train)\n",
    "\n",
    "pred_train = model_xg.predict(X_train)\n",
    "pred_test = model_xg.predict(X_test)\n",
    "\n",
    "print(np.sqrt(mean_squared_error(y_test, pred_test)))\n",
    "print(np.sqrt(mean_squared_error(y_train, pred_train)))"
   ]
  },
  {
   "cell_type": "code",
   "execution_count": 118,
   "id": "e474da70",
   "metadata": {},
   "outputs": [
    {
     "data": {
      "text/plain": [
       "0.8439054760690151"
      ]
     },
     "execution_count": 118,
     "metadata": {},
     "output_type": "execute_result"
    }
   ],
   "source": [
    "model_xg.score(X_test,y_test)"
   ]
  },
  {
   "cell_type": "code",
   "execution_count": 119,
   "id": "3413dc6f",
   "metadata": {},
   "outputs": [
    {
     "data": {
      "text/html": [
       "<div>\n",
       "<style scoped>\n",
       "    .dataframe tbody tr th:only-of-type {\n",
       "        vertical-align: middle;\n",
       "    }\n",
       "\n",
       "    .dataframe tbody tr th {\n",
       "        vertical-align: top;\n",
       "    }\n",
       "\n",
       "    .dataframe thead th {\n",
       "        text-align: right;\n",
       "    }\n",
       "</style>\n",
       "<table border=\"1\" class=\"dataframe\">\n",
       "  <thead>\n",
       "    <tr style=\"text-align: right;\">\n",
       "      <th></th>\n",
       "      <th>Model</th>\n",
       "      <th>Alpha</th>\n",
       "      <th>L1_Ratio</th>\n",
       "      <th>R2_Train</th>\n",
       "      <th>R2_Test</th>\n",
       "      <th>RMSE Train</th>\n",
       "      <th>RMSE TEST</th>\n",
       "      <th>MAPE</th>\n",
       "    </tr>\n",
       "  </thead>\n",
       "  <tbody>\n",
       "    <tr>\n",
       "      <th>0</th>\n",
       "      <td>Linear Regression</td>\n",
       "      <td>-</td>\n",
       "      <td>-</td>\n",
       "      <td>0.774981</td>\n",
       "      <td>0.774795</td>\n",
       "      <td>0.474810</td>\n",
       "      <td>0.473209</td>\n",
       "      <td>191.319355</td>\n",
       "    </tr>\n",
       "    <tr>\n",
       "      <th>1</th>\n",
       "      <td>Random Forest</td>\n",
       "      <td>-</td>\n",
       "      <td>-</td>\n",
       "      <td>0.910162</td>\n",
       "      <td>0.834759</td>\n",
       "      <td>0.300080</td>\n",
       "      <td>0.404643</td>\n",
       "      <td>173.860982</td>\n",
       "    </tr>\n",
       "    <tr>\n",
       "      <th>2</th>\n",
       "      <td>Desision Tree</td>\n",
       "      <td>-</td>\n",
       "      <td>-</td>\n",
       "      <td>0.917310</td>\n",
       "      <td>0.794024</td>\n",
       "      <td>0.287831</td>\n",
       "      <td>0.453606</td>\n",
       "      <td>184.057547</td>\n",
       "    </tr>\n",
       "    <tr>\n",
       "      <th>3</th>\n",
       "      <td>Desision Tree- Hyperparameter</td>\n",
       "      <td>-</td>\n",
       "      <td>-</td>\n",
       "      <td>0.821829</td>\n",
       "      <td>0.812804</td>\n",
       "      <td>0.422502</td>\n",
       "      <td>0.431431</td>\n",
       "      <td>189.201901</td>\n",
       "    </tr>\n",
       "    <tr>\n",
       "      <th>4</th>\n",
       "      <td>Gradient Boosting Regressor</td>\n",
       "      <td>-</td>\n",
       "      <td>-</td>\n",
       "      <td>0.818739</td>\n",
       "      <td>0.817440</td>\n",
       "      <td>0.426150</td>\n",
       "      <td>0.426056</td>\n",
       "      <td>185.129450</td>\n",
       "    </tr>\n",
       "    <tr>\n",
       "      <th>5</th>\n",
       "      <td>XGB</td>\n",
       "      <td>-</td>\n",
       "      <td>-</td>\n",
       "      <td>0.854359</td>\n",
       "      <td>0.843905</td>\n",
       "      <td>0.381990</td>\n",
       "      <td>0.393965</td>\n",
       "      <td>170.308896</td>\n",
       "    </tr>\n",
       "  </tbody>\n",
       "</table>\n",
       "</div>"
      ],
      "text/plain": [
       "                           Model Alpha L1_Ratio  R2_Train   R2_Test  \\\n",
       "0             Linear Regression      -        -  0.774981  0.774795   \n",
       "1                 Random Forest      -        -  0.910162  0.834759   \n",
       "2                  Desision Tree     -        -  0.917310  0.794024   \n",
       "3  Desision Tree- Hyperparameter     -        -  0.821829  0.812804   \n",
       "4   Gradient Boosting Regressor      -        -  0.818739  0.817440   \n",
       "5                           XGB      -        -  0.854359  0.843905   \n",
       "\n",
       "   RMSE Train  RMSE TEST        MAPE  \n",
       "0    0.474810   0.473209  191.319355  \n",
       "1    0.300080   0.404643  173.860982  \n",
       "2    0.287831   0.453606  184.057547  \n",
       "3    0.422502   0.431431  189.201901  \n",
       "4    0.426150   0.426056  185.129450  \n",
       "5    0.381990   0.393965  170.308896  "
      ]
     },
     "execution_count": 119,
     "metadata": {},
     "output_type": "execute_result"
    }
   ],
   "source": [
    "update_performance(name = 'XGB ', model = model_xg)\n",
    "\n",
    "perf_score"
   ]
  },
  {
   "cell_type": "markdown",
   "id": "731e5883",
   "metadata": {},
   "source": [
    "# Support Vector Regression"
   ]
  },
  {
   "cell_type": "code",
   "execution_count": null,
   "id": "13635811",
   "metadata": {},
   "outputs": [],
   "source": [
    "from sklearn.svm import SVR\n",
    "\n",
    "sv = SVR()\n",
    "model_sv = sv.fit(X_train,y_train)\n",
    "\n",
    "pred_train = model_sv.predict(X_train)\n",
    "pred_test = model_sv.predict(X_test)\n",
    "\n",
    "print(np.sqrt(mean_squared_error(y_test, pred_test)))\n",
    "print(np.sqrt(mean_squared_error(y_train, pred_train)))"
   ]
  },
  {
   "cell_type": "code",
   "execution_count": null,
   "id": "8b18fcc4",
   "metadata": {},
   "outputs": [],
   "source": [
    "model_sv.score(X_test, y_test)"
   ]
  },
  {
   "cell_type": "code",
   "execution_count": null,
   "id": "dc8a1bb7",
   "metadata": {},
   "outputs": [],
   "source": [
    "update_performance(name = 'Support Vector ', model = model_sv)\n",
    "\n",
    "perf_score"
   ]
  },
  {
   "cell_type": "code",
   "execution_count": null,
   "id": "5cb47992",
   "metadata": {},
   "outputs": [],
   "source": []
  },
  {
   "cell_type": "code",
   "execution_count": null,
   "id": "bfdbb9a4",
   "metadata": {},
   "outputs": [],
   "source": []
  },
  {
   "cell_type": "code",
   "execution_count": null,
   "id": "4497816a",
   "metadata": {},
   "outputs": [],
   "source": []
  },
  {
   "cell_type": "code",
   "execution_count": null,
   "id": "b957a2d9",
   "metadata": {},
   "outputs": [],
   "source": []
  },
  {
   "cell_type": "code",
   "execution_count": null,
   "id": "7e548b49",
   "metadata": {},
   "outputs": [],
   "source": []
  },
  {
   "cell_type": "code",
   "execution_count": null,
   "id": "78f3364e",
   "metadata": {},
   "outputs": [],
   "source": []
  }
 ],
 "metadata": {
  "kernelspec": {
   "display_name": "Python 3 (ipykernel)",
   "language": "python",
   "name": "python3"
  },
  "language_info": {
   "codemirror_mode": {
    "name": "ipython",
    "version": 3
   },
   "file_extension": ".py",
   "mimetype": "text/x-python",
   "name": "python",
   "nbconvert_exporter": "python",
   "pygments_lexer": "ipython3",
   "version": "3.10.9"
  }
 },
 "nbformat": 4,
 "nbformat_minor": 5
}
